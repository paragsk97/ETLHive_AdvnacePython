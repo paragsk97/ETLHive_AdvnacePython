{
 "cells": [
  {
   "cell_type": "markdown",
   "id": "3ec89c9d",
   "metadata": {},
   "source": [
    "## keyword variable length arguments --> **kwargs "
   ]
  },
  {
   "cell_type": "code",
   "execution_count": 1,
   "id": "74bc20a5",
   "metadata": {},
   "outputs": [],
   "source": [
    "def info(**kwargs):\n",
    "    print(kwargs)\n",
    "    print(type(kwargs))"
   ]
  },
  {
   "cell_type": "code",
   "execution_count": 2,
   "id": "123f0b50",
   "metadata": {},
   "outputs": [
    {
     "name": "stdout",
     "output_type": "stream",
     "text": [
      "{'name': 'Prajakta', 'age': 26, 'Education': 'Masters'}\n",
      "<class 'dict'>\n"
     ]
    }
   ],
   "source": [
    "info(name = 'Prajakta', age = 26 , Education = 'Masters')"
   ]
  },
  {
   "cell_type": "code",
   "execution_count": 3,
   "id": "8c6d23b9",
   "metadata": {},
   "outputs": [],
   "source": [
    "# key : values\n",
    "def info1(**kwargs):\n",
    "    for key, value in kwargs.items():\n",
    "        print(f'{key} : {value}')"
   ]
  },
  {
   "cell_type": "code",
   "execution_count": 4,
   "id": "1d48222d",
   "metadata": {},
   "outputs": [
    {
     "name": "stdout",
     "output_type": "stream",
     "text": [
      "empid : 123\n",
      "emp_name : santosh\n",
      "age : 26\n",
      "email : xyz@gmail.com\n"
     ]
    }
   ],
   "source": [
    "info1(empid = 123, emp_name = 'santosh', age = 26, email = 'xyz@gmail.com')"
   ]
  },
  {
   "cell_type": "code",
   "execution_count": 5,
   "id": "3e98d1a6",
   "metadata": {},
   "outputs": [],
   "source": [
    "course = {'courseid' : 123 , 'coursename' : 'DA', 'institute' : 'ETLHive'}"
   ]
  },
  {
   "cell_type": "markdown",
   "id": "60d540d7",
   "metadata": {},
   "source": [
    "### Dictionary Unpacking"
   ]
  },
  {
   "cell_type": "code",
   "execution_count": 8,
   "id": "a129717b",
   "metadata": {},
   "outputs": [
    {
     "name": "stdout",
     "output_type": "stream",
     "text": [
      "{'courseid': 123, 'coursename': 'DA', 'institute': 'ETLHive'}\n",
      "<class 'dict'>\n"
     ]
    }
   ],
   "source": [
    "info(**course)"
   ]
  },
  {
   "cell_type": "code",
   "execution_count": 15,
   "id": "925ce976",
   "metadata": {},
   "outputs": [],
   "source": [
    "money = {'500':5 ,'10':10, '5':10, '1':7, '2':10}"
   ]
  },
  {
   "cell_type": "code",
   "execution_count": 16,
   "id": "c685728c",
   "metadata": {},
   "outputs": [],
   "source": [
    "#double number of notes\n",
    "def double_money(**kwargs):\n",
    "    output = {}\n",
    "    for money, notes in kwargs.items():\n",
    "        output[money] = notes * 2\n",
    "    return output"
   ]
  },
  {
   "cell_type": "code",
   "execution_count": 17,
   "id": "4adce8d4",
   "metadata": {},
   "outputs": [
    {
     "data": {
      "text/plain": [
       "{'500': 10, '10': 20, '5': 20, '1': 14, '2': 20}"
      ]
     },
     "execution_count": 17,
     "metadata": {},
     "output_type": "execute_result"
    }
   ],
   "source": [
    "double_money(**money)"
   ]
  },
  {
   "cell_type": "code",
   "execution_count": 3,
   "id": "5664c8b8",
   "metadata": {},
   "outputs": [],
   "source": [
    "## Create function for filling the form\n",
    "## name, age, gender, email\n",
    "def fill_form(**kwargs):\n",
    "    name = input('Enter the name :')\n",
    "    age = int(input('Enter the age : '))\n",
    "    gender = input('Enter the gender : ')\n",
    "    email = input('Enter the email : ')\n",
    "    print('Name : ', name)\n",
    "    print('Age : ', age)\n",
    "    print('Gender : ',gender)\n",
    "    print('Email : ', email)"
   ]
  },
  {
   "cell_type": "code",
   "execution_count": 4,
   "id": "cfed4b0c",
   "metadata": {},
   "outputs": [
    {
     "name": "stdout",
     "output_type": "stream",
     "text": [
      "Name :  parag\n",
      "Age :  27\n",
      "Gender :  male\n",
      "Email :  paragsk97@gmail.com\n"
     ]
    }
   ],
   "source": [
    "fill_form()"
   ]
  },
  {
   "cell_type": "code",
   "execution_count": 6,
   "id": "cb0764b7",
   "metadata": {},
   "outputs": [],
   "source": [
    "#Other way\n",
    "def form_fill(**kwargs):\n",
    "    user = {'Name'.lower() : None,\n",
    "    'Age'.lower()  : None  ,\n",
    "    'Gender'.lower() : None ,\n",
    "    'email'.lower()  : None}\n",
    "    for key , value in  kwargs.items():\n",
    "        if key.lower() in user :\n",
    "            user[key.lower()] = value\n",
    "    return  user"
   ]
  },
  {
   "cell_type": "code",
   "execution_count": 7,
   "id": "2929ca26",
   "metadata": {},
   "outputs": [
    {
     "data": {
      "text/plain": [
       "{'name': 'Mohit', 'age': 26, 'gender': 'make', 'email': 'mohit@example.com'}"
      ]
     },
     "execution_count": 7,
     "metadata": {},
     "output_type": "execute_result"
    }
   ],
   "source": [
    "form_fill(name = 'Mohit', age = 26, gender = 'make', email = 'mohit@example.com')"
   ]
  },
  {
   "cell_type": "markdown",
   "id": "633b4e1c",
   "metadata": {},
   "source": [
    "### Create bill for Hotel"
   ]
  },
  {
   "cell_type": "code",
   "execution_count": 8,
   "id": "f8bd4f39",
   "metadata": {},
   "outputs": [],
   "source": [
    "menu = {\"Pizza\" : 250, \"Sandwich\" : 100, \"Samosa\" : 20}"
   ]
  },
  {
   "cell_type": "code",
   "execution_count": 9,
   "id": "f412ef40",
   "metadata": {},
   "outputs": [],
   "source": [
    "def Hotel_bill(**kwargs):\n",
    "    total_bill = 0\n",
    "    for food , quantity in kwargs.items():\n",
    "        if menu.get(food) is not None:\n",
    "            sub_total = menu.get(food)*quantity\n",
    "            print(f\"total bill for {food} --> {sub_total}\")\n",
    "\n",
    "            total_bill = total_bill + sub_total\n",
    "    return f\"Total Bill --> {total_bill}\""
   ]
  },
  {
   "cell_type": "code",
   "execution_count": 10,
   "id": "aa6ce941",
   "metadata": {},
   "outputs": [
    {
     "name": "stdout",
     "output_type": "stream",
     "text": [
      "total bill for Pizza --> 500\n"
     ]
    },
    {
     "data": {
      "text/plain": [
       "'Total Bill --> 500'"
      ]
     },
     "execution_count": 10,
     "metadata": {},
     "output_type": "execute_result"
    }
   ],
   "source": [
    "Hotel_bill(Pizza = 2)"
   ]
  },
  {
   "cell_type": "code",
   "execution_count": null,
   "id": "ce855735",
   "metadata": {},
   "outputs": [],
   "source": []
  }
 ],
 "metadata": {
  "kernelspec": {
   "display_name": "venv",
   "language": "python",
   "name": "python3"
  },
  "language_info": {
   "codemirror_mode": {
    "name": "ipython",
    "version": 3
   },
   "file_extension": ".py",
   "mimetype": "text/x-python",
   "name": "python",
   "nbconvert_exporter": "python",
   "pygments_lexer": "ipython3",
   "version": "3.12.10"
  }
 },
 "nbformat": 4,
 "nbformat_minor": 5
}
