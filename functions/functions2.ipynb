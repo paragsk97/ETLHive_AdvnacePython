{
 "cells": [
  {
   "cell_type": "markdown",
   "id": "3ec89c9d",
   "metadata": {},
   "source": [
    "## keyword variable length arguments --> *kwargs "
   ]
  },
  {
   "cell_type": "code",
   "execution_count": null,
   "id": "74bc20a5",
   "metadata": {},
   "outputs": [],
   "source": []
  }
 ],
 "metadata": {
  "kernelspec": {
   "display_name": "venv",
   "language": "python",
   "name": "python3"
  },
  "language_info": {
   "name": "python",
   "version": "3.12.10"
  }
 },
 "nbformat": 4,
 "nbformat_minor": 5
}
