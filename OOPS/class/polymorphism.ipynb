{
 "cells": [
  {
   "cell_type": "markdown",
   "id": "8555169b",
   "metadata": {},
   "source": [
    "## Polymorphism Operators"
   ]
  },
  {
   "cell_type": "code",
   "execution_count": 1,
   "id": "23da6d95",
   "metadata": {},
   "outputs": [
    {
     "data": {
      "text/plain": [
       "46"
      ]
     },
     "execution_count": 1,
     "metadata": {},
     "output_type": "execute_result"
    }
   ],
   "source": [
    "# + \n",
    "12 + 34"
   ]
  },
  {
   "cell_type": "code",
   "execution_count": 2,
   "id": "db858a96",
   "metadata": {},
   "outputs": [
    {
     "data": {
      "text/plain": [
       "(12, 4, 5, 'ML', 'DL', 23)"
      ]
     },
     "execution_count": 2,
     "metadata": {},
     "output_type": "execute_result"
    }
   ],
   "source": [
    "l1 = (12,4,5)\n",
    "l2 = ('ML', 'DL', 23)\n",
    "l1 + l2"
   ]
  },
  {
   "cell_type": "markdown",
   "id": "1add1d8c",
   "metadata": {},
   "source": [
    "## Polymorphism in function\n",
    "- len"
   ]
  },
  {
   "cell_type": "code",
   "execution_count": 3,
   "id": "3a8dd365",
   "metadata": {},
   "outputs": [
    {
     "data": {
      "text/plain": [
       "11"
      ]
     },
     "execution_count": 3,
     "metadata": {},
     "output_type": "execute_result"
    }
   ],
   "source": [
    "len('Time series')"
   ]
  },
  {
   "cell_type": "code",
   "execution_count": 4,
   "id": "83ec3876",
   "metadata": {},
   "outputs": [
    {
     "data": {
      "text/plain": [
       "4"
      ]
     },
     "execution_count": 4,
     "metadata": {},
     "output_type": "execute_result"
    }
   ],
   "source": [
    "len([12,34,56,\"Sunita\"])"
   ]
  },
  {
   "cell_type": "code",
   "execution_count": 5,
   "id": "7d78d798",
   "metadata": {},
   "outputs": [
    {
     "data": {
      "text/plain": [
       "4"
      ]
     },
     "execution_count": 5,
     "metadata": {},
     "output_type": "execute_result"
    }
   ],
   "source": [
    "len((12,34,56,\"Sunita\"))"
   ]
  },
  {
   "cell_type": "code",
   "execution_count": 6,
   "id": "5aa66569",
   "metadata": {},
   "outputs": [
    {
     "data": {
      "text/plain": [
       "4"
      ]
     },
     "execution_count": 6,
     "metadata": {},
     "output_type": "execute_result"
    }
   ],
   "source": [
    "len({12,34,56,\"Sunita\"})"
   ]
  },
  {
   "cell_type": "code",
   "execution_count": 7,
   "id": "17e5623f",
   "metadata": {},
   "outputs": [],
   "source": [
    "import pandas as pd"
   ]
  },
  {
   "cell_type": "code",
   "execution_count": 8,
   "id": "900c306d",
   "metadata": {},
   "outputs": [],
   "source": [
    "dic1 = {\"name\" : \"jay\", \"email\" : \"jay.example@gmail.com\", \"Education\" : \"MTech\"}"
   ]
  },
  {
   "cell_type": "code",
   "execution_count": 9,
   "id": "806108a2",
   "metadata": {},
   "outputs": [],
   "source": [
    "s = pd.Series(dic1)"
   ]
  },
  {
   "cell_type": "code",
   "execution_count": 10,
   "id": "a65187a1",
   "metadata": {},
   "outputs": [
    {
     "data": {
      "text/plain": [
       "name                           jay\n",
       "email        jay.example@gmail.com\n",
       "Education                    MTech\n",
       "dtype: object"
      ]
     },
     "execution_count": 10,
     "metadata": {},
     "output_type": "execute_result"
    }
   ],
   "source": [
    "s"
   ]
  },
  {
   "cell_type": "code",
   "execution_count": 14,
   "id": "83946fba",
   "metadata": {},
   "outputs": [],
   "source": [
    "#class for India, France, USA\n",
    "class India:\n",
    "    def Capital(self):\n",
    "        return f\"Captial of India is Delhi \"\n",
    "    def Language(self):\n",
    "        return f\"National Language of India is Hindi\"\n",
    "    \n",
    "#create class France\n",
    "class France:\n",
    "    def Capital(self):\n",
    "        return f\"Capital of France is Paris\"\n",
    "    def Language(self):\n",
    "        return f\"National Language of France is French\"\n",
    "\n",
    "#create class USA\n",
    "class USA:\n",
    "    def Capital(self):\n",
    "        return f\"Capital of USA is Washington DC\"\n",
    "    def Language(self):\n",
    "        return f\"National Language of USA is English\""
   ]
  },
  {
   "cell_type": "code",
   "execution_count": 15,
   "id": "037f44e4",
   "metadata": {},
   "outputs": [],
   "source": [
    "i1 = India()"
   ]
  },
  {
   "cell_type": "code",
   "execution_count": 16,
   "id": "09b281a1",
   "metadata": {},
   "outputs": [
    {
     "data": {
      "text/plain": [
       "'Captial of India is Delhi '"
      ]
     },
     "execution_count": 16,
     "metadata": {},
     "output_type": "execute_result"
    }
   ],
   "source": [
    "i1.Capital()"
   ]
  },
  {
   "cell_type": "code",
   "execution_count": 17,
   "id": "c5fabe80",
   "metadata": {},
   "outputs": [
    {
     "data": {
      "text/plain": [
       "'National Language of India is Hindi'"
      ]
     },
     "execution_count": 17,
     "metadata": {},
     "output_type": "execute_result"
    }
   ],
   "source": [
    "i1.Language()"
   ]
  },
  {
   "cell_type": "code",
   "execution_count": 18,
   "id": "ba9a1bbf",
   "metadata": {},
   "outputs": [],
   "source": [
    "f1 = France()"
   ]
  },
  {
   "cell_type": "code",
   "execution_count": 19,
   "id": "0ebe434a",
   "metadata": {},
   "outputs": [
    {
     "data": {
      "text/plain": [
       "'Capital of France is Paris'"
      ]
     },
     "execution_count": 19,
     "metadata": {},
     "output_type": "execute_result"
    }
   ],
   "source": [
    "f1.Capital()"
   ]
  },
  {
   "cell_type": "code",
   "execution_count": 20,
   "id": "8c4a14e6",
   "metadata": {},
   "outputs": [
    {
     "data": {
      "text/plain": [
       "'National Language of France is French'"
      ]
     },
     "execution_count": 20,
     "metadata": {},
     "output_type": "execute_result"
    }
   ],
   "source": [
    "f1.Language()"
   ]
  },
  {
   "cell_type": "code",
   "execution_count": 21,
   "id": "7104a6cd",
   "metadata": {},
   "outputs": [],
   "source": [
    "u1 = USA()"
   ]
  },
  {
   "cell_type": "code",
   "execution_count": 22,
   "id": "d52f26fd",
   "metadata": {},
   "outputs": [
    {
     "data": {
      "text/plain": [
       "'Capital of USA is Washington DC'"
      ]
     },
     "execution_count": 22,
     "metadata": {},
     "output_type": "execute_result"
    }
   ],
   "source": [
    "u1.Capital()"
   ]
  },
  {
   "cell_type": "code",
   "execution_count": 23,
   "id": "b8fa9410",
   "metadata": {},
   "outputs": [
    {
     "data": {
      "text/plain": [
       "'National Language of USA is English'"
      ]
     },
     "execution_count": 23,
     "metadata": {},
     "output_type": "execute_result"
    }
   ],
   "source": [
    "u1.Language()"
   ]
  },
  {
   "cell_type": "code",
   "execution_count": 24,
   "id": "1dba29ac",
   "metadata": {},
   "outputs": [
    {
     "name": "stdout",
     "output_type": "stream",
     "text": [
      "Captial of India is Delhi \n",
      "National Language of India is Hindi\n",
      "--------------------------\n",
      "Capital of France is Paris\n",
      "National Language of France is French\n",
      "--------------------------\n",
      "Capital of USA is Washington DC\n",
      "National Language of USA is English\n",
      "--------------------------\n"
     ]
    }
   ],
   "source": [
    "for i in [i1, f1, u1]:\n",
    "    print(i.Capital())\n",
    "    print(i.Language())\n",
    "    print(\"--------------------------\")"
   ]
  },
  {
   "cell_type": "code",
   "execution_count": 5,
   "id": "96c78bd7",
   "metadata": {},
   "outputs": [],
   "source": [
    "#Create class for Circle & Rectangle to find area and perimeter\n",
    "from dataclasses import dataclass\n",
    "import math\n",
    "@dataclass\n",
    "class Circle():\n",
    "    r : int|float\n",
    "\n",
    "    def Perimeter(self):\n",
    "        p = 2*(math.pi)*self.r\n",
    "        return f\"Perimeter of Circle is : {p}\"\n",
    "    \n",
    "    def Area(self):\n",
    "        a = math.pi*(self.r)**2\n",
    "        return f\"Area of Circle is {a}\"\n",
    "\n",
    "@dataclass    \n",
    "class Rectangle():\n",
    "    l : int|float\n",
    "    w : int|float\n",
    "\n",
    "    def Perimeter(self):\n",
    "        p = 2*(self.l + self.w)\n",
    "        return f\"Perimeter of Rectangle is : {p}\"\n",
    "    \n",
    "    def Area(self):\n",
    "        a = self.l * self.w\n",
    "        return f\"Area of Rectangle is : {a}\""
   ]
  },
  {
   "cell_type": "code",
   "execution_count": 6,
   "id": "e15ec6d8",
   "metadata": {},
   "outputs": [],
   "source": [
    "c1 = Circle(r = 4)"
   ]
  },
  {
   "cell_type": "code",
   "execution_count": 7,
   "id": "863d5b0d",
   "metadata": {},
   "outputs": [
    {
     "data": {
      "text/plain": [
       "'Area of Circle is 50.26548245743669'"
      ]
     },
     "execution_count": 7,
     "metadata": {},
     "output_type": "execute_result"
    }
   ],
   "source": [
    "c1.Area()"
   ]
  },
  {
   "cell_type": "code",
   "execution_count": 8,
   "id": "2f28ab0d",
   "metadata": {},
   "outputs": [
    {
     "data": {
      "text/plain": [
       "'Perimeter of Circle is : 25.132741228718345'"
      ]
     },
     "execution_count": 8,
     "metadata": {},
     "output_type": "execute_result"
    }
   ],
   "source": [
    "c1.Perimeter()"
   ]
  },
  {
   "cell_type": "code",
   "execution_count": 9,
   "id": "677abcc1",
   "metadata": {},
   "outputs": [],
   "source": [
    "r1 = Rectangle(l = 4, w = 5)"
   ]
  },
  {
   "cell_type": "code",
   "execution_count": 10,
   "id": "510ba19d",
   "metadata": {},
   "outputs": [
    {
     "data": {
      "text/plain": [
       "'Area of Rectangle is : 20'"
      ]
     },
     "execution_count": 10,
     "metadata": {},
     "output_type": "execute_result"
    }
   ],
   "source": [
    "r1.Area()"
   ]
  },
  {
   "cell_type": "code",
   "execution_count": 11,
   "id": "445759a3",
   "metadata": {},
   "outputs": [
    {
     "data": {
      "text/plain": [
       "'Perimeter of Rectangle is : 18'"
      ]
     },
     "execution_count": 11,
     "metadata": {},
     "output_type": "execute_result"
    }
   ],
   "source": [
    "r1.Perimeter()"
   ]
  },
  {
   "cell_type": "code",
   "execution_count": 12,
   "id": "35b25ae4",
   "metadata": {},
   "outputs": [],
   "source": [
    "from dataclasses import dataclass\n",
    "@dataclass\n",
    "class Triangle:\n",
    "    a : int|float\n",
    "    b : int|float\n",
    "    c : int|float\n",
    "    def Perimeter(self):\n",
    "        if (self.a+self.b>self.c) and \\\n",
    "          (self.b +self.c > self.a) and  \\\n",
    "           (self.a+ self.c > self.b):\n",
    "           p = self.a+self.b+self.c\n",
    "           return  p\n",
    "   \n",
    "    def Area(self):\n",
    "        if self.Perimeter() is not None:\n",
    "            s  =  self.Perimeter()/2 # type: ignore\n",
    " \n",
    "            Area  =  (s*(s-self.a)*(s-self.b)*(s-self.c))**1/2\n",
    "            return f\"Area of Triangle is {Area}\"\n",
    " \n",
    "        else:\n",
    "            print(f\"Sides do not form Triangle\")"
   ]
  },
  {
   "cell_type": "code",
   "execution_count": 13,
   "id": "f731e20e",
   "metadata": {},
   "outputs": [],
   "source": [
    "T1 = Triangle(a = 23, b = 15, c = 16)"
   ]
  },
  {
   "cell_type": "code",
   "execution_count": 14,
   "id": "45be5106",
   "metadata": {},
   "outputs": [
    {
     "name": "stdout",
     "output_type": "stream",
     "text": [
      "Triangle(a=23, b=15, c=16)\n",
      "54\n",
      "Area of Triangle is 7128.0\n",
      "---------------------------\n",
      "Circle(r=4)\n",
      "Perimeter of Circle is : 25.132741228718345\n",
      "Area of Circle is 50.26548245743669\n",
      "---------------------------\n",
      "Rectangle(l=4, w=5)\n",
      "Perimeter of Rectangle is : 18\n",
      "Area of Rectangle is : 20\n",
      "---------------------------\n"
     ]
    }
   ],
   "source": [
    "for i in [T1, c1, r1]:\n",
    "    print(i)\n",
    "    print(i.Perimeter())\n",
    "    print(i.Area())\n",
    "    print(\"---------------------------\")"
   ]
  },
  {
   "cell_type": "code",
   "execution_count": null,
   "id": "852c8465",
   "metadata": {},
   "outputs": [],
   "source": []
  }
 ],
 "metadata": {
  "kernelspec": {
   "display_name": "venv",
   "language": "python",
   "name": "python3"
  },
  "language_info": {
   "codemirror_mode": {
    "name": "ipython",
    "version": 3
   },
   "file_extension": ".py",
   "mimetype": "text/x-python",
   "name": "python",
   "nbconvert_exporter": "python",
   "pygments_lexer": "ipython3",
   "version": "3.12.10"
  }
 },
 "nbformat": 4,
 "nbformat_minor": 5
}
