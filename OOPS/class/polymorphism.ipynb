{
 "cells": [
  {
   "cell_type": "markdown",
   "id": "8555169b",
   "metadata": {},
   "source": [
    "## Polymorphism Operators"
   ]
  },
  {
   "cell_type": "code",
   "execution_count": 1,
   "id": "23da6d95",
   "metadata": {},
   "outputs": [
    {
     "data": {
      "text/plain": [
       "46"
      ]
     },
     "execution_count": 1,
     "metadata": {},
     "output_type": "execute_result"
    }
   ],
   "source": [
    "# + \n",
    "12 + 34"
   ]
  },
  {
   "cell_type": "code",
   "execution_count": 2,
   "id": "db858a96",
   "metadata": {},
   "outputs": [
    {
     "data": {
      "text/plain": [
       "(12, 4, 5, 'ML', 'DL', 23)"
      ]
     },
     "execution_count": 2,
     "metadata": {},
     "output_type": "execute_result"
    }
   ],
   "source": [
    "l1 = (12,4,5)\n",
    "l2 = ('ML', 'DL', 23)\n",
    "l1 + l2"
   ]
  },
  {
   "cell_type": "markdown",
   "id": "1add1d8c",
   "metadata": {},
   "source": [
    "## Polymorphism in function\n",
    "- len"
   ]
  },
  {
   "cell_type": "code",
   "execution_count": 3,
   "id": "3a8dd365",
   "metadata": {},
   "outputs": [
    {
     "data": {
      "text/plain": [
       "11"
      ]
     },
     "execution_count": 3,
     "metadata": {},
     "output_type": "execute_result"
    }
   ],
   "source": [
    "len('Time series')"
   ]
  },
  {
   "cell_type": "code",
   "execution_count": 4,
   "id": "83ec3876",
   "metadata": {},
   "outputs": [
    {
     "data": {
      "text/plain": [
       "4"
      ]
     },
     "execution_count": 4,
     "metadata": {},
     "output_type": "execute_result"
    }
   ],
   "source": [
    "len([12,34,56,\"Sunita\"])"
   ]
  },
  {
   "cell_type": "code",
   "execution_count": 5,
   "id": "7d78d798",
   "metadata": {},
   "outputs": [
    {
     "data": {
      "text/plain": [
       "4"
      ]
     },
     "execution_count": 5,
     "metadata": {},
     "output_type": "execute_result"
    }
   ],
   "source": [
    "len((12,34,56,\"Sunita\"))"
   ]
  },
  {
   "cell_type": "code",
   "execution_count": 6,
   "id": "5aa66569",
   "metadata": {},
   "outputs": [
    {
     "data": {
      "text/plain": [
       "4"
      ]
     },
     "execution_count": 6,
     "metadata": {},
     "output_type": "execute_result"
    }
   ],
   "source": [
    "len({12,34,56,\"Sunita\"})"
   ]
  },
  {
   "cell_type": "code",
   "execution_count": 7,
   "id": "17e5623f",
   "metadata": {},
   "outputs": [],
   "source": [
    "import pandas as pd"
   ]
  },
  {
   "cell_type": "code",
   "execution_count": 8,
   "id": "900c306d",
   "metadata": {},
   "outputs": [],
   "source": [
    "dic1 = {\"name\" : \"jay\", \"email\" : \"jay.example@gmail.com\", \"Education\" : \"MTech\"}"
   ]
  },
  {
   "cell_type": "code",
   "execution_count": 9,
   "id": "806108a2",
   "metadata": {},
   "outputs": [],
   "source": [
    "s = pd.Series(dic1)"
   ]
  },
  {
   "cell_type": "code",
   "execution_count": 10,
   "id": "a65187a1",
   "metadata": {},
   "outputs": [
    {
     "data": {
      "text/plain": [
       "name                           jay\n",
       "email        jay.example@gmail.com\n",
       "Education                    MTech\n",
       "dtype: object"
      ]
     },
     "execution_count": 10,
     "metadata": {},
     "output_type": "execute_result"
    }
   ],
   "source": [
    "s"
   ]
  },
  {
   "cell_type": "code",
   "execution_count": null,
   "id": "83946fba",
   "metadata": {},
   "outputs": [],
   "source": []
  }
 ],
 "metadata": {
  "kernelspec": {
   "display_name": "venv",
   "language": "python",
   "name": "python3"
  },
  "language_info": {
   "codemirror_mode": {
    "name": "ipython",
    "version": 3
   },
   "file_extension": ".py",
   "mimetype": "text/x-python",
   "name": "python",
   "nbconvert_exporter": "python",
   "pygments_lexer": "ipython3",
   "version": "3.12.10"
  }
 },
 "nbformat": 4,
 "nbformat_minor": 5
}
