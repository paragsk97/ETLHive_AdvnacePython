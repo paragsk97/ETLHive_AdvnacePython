{
 "cells": [
  {
   "cell_type": "markdown",
   "id": "f31f8a0e",
   "metadata": {},
   "source": [
    "## Stock Market Data Scrapping by API Key\n"
   ]
  },
  {
   "cell_type": "code",
   "execution_count": 1,
   "id": "e6a868d9",
   "metadata": {},
   "outputs": [
    {
     "name": "stdout",
     "output_type": "stream",
     "text": [
      "Requirement already satisfied: python-dotenv in c:\\users\\hp\\anaconda3\\lib\\site-packages (0.21.0)\n",
      "Note: you may need to restart the kernel to use updated packages.\n"
     ]
    }
   ],
   "source": [
    "%pip install python-dotenv"
   ]
  },
  {
   "cell_type": "code",
   "execution_count": 2,
   "id": "db561f9f",
   "metadata": {},
   "outputs": [
    {
     "data": {
      "text/plain": [
       "True"
      ]
     },
     "execution_count": 2,
     "metadata": {},
     "output_type": "execute_result"
    }
   ],
   "source": [
    "from dotenv import load_dotenv # type: ignore\n",
    "load_dotenv()"
   ]
  },
  {
   "cell_type": "code",
   "execution_count": 3,
   "id": "fd78b047",
   "metadata": {},
   "outputs": [],
   "source": [
    "import os"
   ]
  },
  {
   "cell_type": "code",
   "execution_count": 4,
   "id": "e5f5c26c",
   "metadata": {},
   "outputs": [],
   "source": [
    "api_key = os.getenv(\"API_KEY\")"
   ]
  },
  {
   "cell_type": "markdown",
   "id": "7b2d4451",
   "metadata": {},
   "source": [
    "## Search Symbol"
   ]
  },
  {
   "cell_type": "code",
   "execution_count": 5,
   "id": "63503467",
   "metadata": {},
   "outputs": [],
   "source": [
    "import requests\n",
    "\n",
    "url = \"https://alpha-vantage.p.rapidapi.com/query\"\n",
    "\n",
    "querystring = {\"datatype\":\"json\",\"keywords\":\"godrej\",\"function\":\"SYMBOL_SEARCH\"}\n",
    "\n",
    "headers = {\n",
    "\t\"x-rapidapi-key\": api_key,\n",
    "\t\"x-rapidapi-host\": \"alpha-vantage.p.rapidapi.com\"\n",
    "}\n",
    "\n",
    "response = requests.get(url, headers=headers, params=querystring)\n",
    "\n",
    "data = response.json()"
   ]
  },
  {
   "cell_type": "code",
   "execution_count": 6,
   "id": "d1e9d823",
   "metadata": {},
   "outputs": [
    {
     "data": {
      "text/plain": [
       "{'bestMatches': [{'1. symbol': 'GODREJCP.BSE',\n",
       "   '2. name': 'GODREJ CONSUMER PRODUCTS LTD.',\n",
       "   '3. type': 'Equity',\n",
       "   '4. region': 'India/Bombay',\n",
       "   '5. marketOpen': '09:15',\n",
       "   '6. marketClose': '15:30',\n",
       "   '7. timezone': 'UTC+5.5',\n",
       "   '8. currency': 'INR',\n",
       "   '9. matchScore': '0.7059'},\n",
       "  {'1. symbol': 'GODREJIND.BSE',\n",
       "   '2. name': 'GODREJ INDUSTRIES LTD.',\n",
       "   '3. type': 'Equity',\n",
       "   '4. region': 'India/Bombay',\n",
       "   '5. marketOpen': '09:15',\n",
       "   '6. marketClose': '15:30',\n",
       "   '7. timezone': 'UTC+5.5',\n",
       "   '8. currency': 'INR',\n",
       "   '9. matchScore': '0.6667'},\n",
       "  {'1. symbol': 'GODREJAGRO.BSE',\n",
       "   '2. name': 'Godrej Agrovet Ltd',\n",
       "   '3. type': 'Equity',\n",
       "   '4. region': 'India/Bombay',\n",
       "   '5. marketOpen': '09:15',\n",
       "   '6. marketClose': '15:30',\n",
       "   '7. timezone': 'UTC+5.5',\n",
       "   '8. currency': 'INR',\n",
       "   '9. matchScore': '0.6316'},\n",
       "  {'1. symbol': 'GODREJPROP.BSE',\n",
       "   '2. name': 'Godrej Properties Ltd',\n",
       "   '3. type': 'Equity',\n",
       "   '4. region': 'India/Bombay',\n",
       "   '5. marketOpen': '09:15',\n",
       "   '6. marketClose': '15:30',\n",
       "   '7. timezone': 'UTC+5.5',\n",
       "   '8. currency': 'INR',\n",
       "   '9. matchScore': '0.6316'},\n",
       "  {'1. symbol': '540743.BSE',\n",
       "   '2. name': 'Godrej Agrovet Limited',\n",
       "   '3. type': 'Equity',\n",
       "   '4. region': 'India/Bombay',\n",
       "   '5. marketOpen': '09:15',\n",
       "   '6. marketClose': '15:30',\n",
       "   '7. timezone': 'UTC+5.5',\n",
       "   '8. currency': 'INR',\n",
       "   '9. matchScore': '0.4286'},\n",
       "  {'1. symbol': '532424.BSE',\n",
       "   '2. name': 'Godrej Consumer Products Limited',\n",
       "   '3. type': 'Equity',\n",
       "   '4. region': 'India/Bombay',\n",
       "   '5. marketOpen': '09:15',\n",
       "   '6. marketClose': '15:30',\n",
       "   '7. timezone': 'UTC+5.5',\n",
       "   '8. currency': 'INR',\n",
       "   '9. matchScore': '0.3158'}]}"
      ]
     },
     "execution_count": 6,
     "metadata": {},
     "output_type": "execute_result"
    }
   ],
   "source": [
    "data"
   ]
  },
  {
   "cell_type": "code",
   "execution_count": 7,
   "id": "9a262281",
   "metadata": {},
   "outputs": [
    {
     "data": {
      "text/plain": [
       "dict"
      ]
     },
     "execution_count": 7,
     "metadata": {},
     "output_type": "execute_result"
    }
   ],
   "source": [
    "type(data)"
   ]
  },
  {
   "cell_type": "code",
   "execution_count": 8,
   "id": "e028e136",
   "metadata": {},
   "outputs": [
    {
     "data": {
      "text/plain": [
       "dict_keys(['bestMatches'])"
      ]
     },
     "execution_count": 8,
     "metadata": {},
     "output_type": "execute_result"
    }
   ],
   "source": [
    "data.keys()"
   ]
  },
  {
   "cell_type": "code",
   "execution_count": 9,
   "id": "07038b55",
   "metadata": {},
   "outputs": [
    {
     "data": {
      "text/plain": [
       "[{'1. symbol': 'GODREJCP.BSE',\n",
       "  '2. name': 'GODREJ CONSUMER PRODUCTS LTD.',\n",
       "  '3. type': 'Equity',\n",
       "  '4. region': 'India/Bombay',\n",
       "  '5. marketOpen': '09:15',\n",
       "  '6. marketClose': '15:30',\n",
       "  '7. timezone': 'UTC+5.5',\n",
       "  '8. currency': 'INR',\n",
       "  '9. matchScore': '0.7059'},\n",
       " {'1. symbol': 'GODREJIND.BSE',\n",
       "  '2. name': 'GODREJ INDUSTRIES LTD.',\n",
       "  '3. type': 'Equity',\n",
       "  '4. region': 'India/Bombay',\n",
       "  '5. marketOpen': '09:15',\n",
       "  '6. marketClose': '15:30',\n",
       "  '7. timezone': 'UTC+5.5',\n",
       "  '8. currency': 'INR',\n",
       "  '9. matchScore': '0.6667'},\n",
       " {'1. symbol': 'GODREJAGRO.BSE',\n",
       "  '2. name': 'Godrej Agrovet Ltd',\n",
       "  '3. type': 'Equity',\n",
       "  '4. region': 'India/Bombay',\n",
       "  '5. marketOpen': '09:15',\n",
       "  '6. marketClose': '15:30',\n",
       "  '7. timezone': 'UTC+5.5',\n",
       "  '8. currency': 'INR',\n",
       "  '9. matchScore': '0.6316'},\n",
       " {'1. symbol': 'GODREJPROP.BSE',\n",
       "  '2. name': 'Godrej Properties Ltd',\n",
       "  '3. type': 'Equity',\n",
       "  '4. region': 'India/Bombay',\n",
       "  '5. marketOpen': '09:15',\n",
       "  '6. marketClose': '15:30',\n",
       "  '7. timezone': 'UTC+5.5',\n",
       "  '8. currency': 'INR',\n",
       "  '9. matchScore': '0.6316'},\n",
       " {'1. symbol': '540743.BSE',\n",
       "  '2. name': 'Godrej Agrovet Limited',\n",
       "  '3. type': 'Equity',\n",
       "  '4. region': 'India/Bombay',\n",
       "  '5. marketOpen': '09:15',\n",
       "  '6. marketClose': '15:30',\n",
       "  '7. timezone': 'UTC+5.5',\n",
       "  '8. currency': 'INR',\n",
       "  '9. matchScore': '0.4286'},\n",
       " {'1. symbol': '532424.BSE',\n",
       "  '2. name': 'Godrej Consumer Products Limited',\n",
       "  '3. type': 'Equity',\n",
       "  '4. region': 'India/Bombay',\n",
       "  '5. marketOpen': '09:15',\n",
       "  '6. marketClose': '15:30',\n",
       "  '7. timezone': 'UTC+5.5',\n",
       "  '8. currency': 'INR',\n",
       "  '9. matchScore': '0.3158'}]"
      ]
     },
     "execution_count": 9,
     "metadata": {},
     "output_type": "execute_result"
    }
   ],
   "source": [
    "data['bestMatches']"
   ]
  },
  {
   "cell_type": "code",
   "execution_count": 10,
   "id": "25c37bc4",
   "metadata": {},
   "outputs": [
    {
     "data": {
      "text/plain": [
       "'GODREJCP.BSE'"
      ]
     },
     "execution_count": 10,
     "metadata": {},
     "output_type": "execute_result"
    }
   ],
   "source": [
    "data['bestMatches'][0]['1. symbol']"
   ]
  },
  {
   "cell_type": "code",
   "execution_count": 11,
   "id": "4e111971",
   "metadata": {},
   "outputs": [
    {
     "name": "stdout",
     "output_type": "stream",
     "text": [
      "GODREJCP.BSE\n",
      "GODREJIND.BSE\n",
      "GODREJAGRO.BSE\n",
      "GODREJPROP.BSE\n",
      "540743.BSE\n",
      "532424.BSE\n"
     ]
    }
   ],
   "source": [
    "for i in data['bestMatches']:\n",
    "    print(i['1. symbol'])"
   ]
  },
  {
   "cell_type": "code",
   "execution_count": 12,
   "id": "0fbc38c9",
   "metadata": {},
   "outputs": [],
   "source": [
    "dict1 = {}\n",
    "for i in data['bestMatches']:\n",
    "    symbols = i['1. symbol']\n",
    "    dict1[symbols] = [i['2. name'], i['4. region'], i['8. currency']]\n"
   ]
  },
  {
   "cell_type": "code",
   "execution_count": 13,
   "id": "d0b6fdfc",
   "metadata": {},
   "outputs": [
    {
     "data": {
      "text/plain": [
       "{'GODREJCP.BSE': ['GODREJ CONSUMER PRODUCTS LTD.', 'India/Bombay', 'INR'],\n",
       " 'GODREJIND.BSE': ['GODREJ INDUSTRIES LTD.', 'India/Bombay', 'INR'],\n",
       " 'GODREJAGRO.BSE': ['Godrej Agrovet Ltd', 'India/Bombay', 'INR'],\n",
       " 'GODREJPROP.BSE': ['Godrej Properties Ltd', 'India/Bombay', 'INR'],\n",
       " '540743.BSE': ['Godrej Agrovet Limited', 'India/Bombay', 'INR'],\n",
       " '532424.BSE': ['Godrej Consumer Products Limited', 'India/Bombay', 'INR']}"
      ]
     },
     "execution_count": 13,
     "metadata": {},
     "output_type": "execute_result"
    }
   ],
   "source": [
    "dict1"
   ]
  },
  {
   "cell_type": "markdown",
   "id": "b80c2682",
   "metadata": {},
   "source": [
    "## Scrap data for daily time series"
   ]
  },
  {
   "cell_type": "code",
   "execution_count": 14,
   "id": "aac670de",
   "metadata": {},
   "outputs": [],
   "source": [
    "import requests\n",
    "\n",
    "url = \"https://alpha-vantage.p.rapidapi.com/query\"\n",
    "\n",
    "querystring = {\"function\":\"TIME_SERIES_DAILY\",\"symbol\":\"540743.BSE\",\"outputsize\":\"compact\",\"datatype\":\"json\"}\n",
    "\n",
    "headers = {\n",
    "\t\"x-rapidapi-key\": api_key,\n",
    "\t\"x-rapidapi-host\": \"alpha-vantage.p.rapidapi.com\"\n",
    "}\n",
    "\n",
    "response = requests.get(url, headers=headers, params=querystring)\n",
    "\n",
    "data1 = response.json()"
   ]
  },
  {
   "cell_type": "code",
   "execution_count": 15,
   "id": "b3f1efe9",
   "metadata": {},
   "outputs": [
    {
     "data": {
      "text/plain": [
       "{'Meta Data': {'1. Information': 'Daily Prices (open, high, low, close) and Volumes',\n",
       "  '2. Symbol': '540743.BSE',\n",
       "  '3. Last Refreshed': '2025-07-28',\n",
       "  '4. Output Size': 'Compact',\n",
       "  '5. Time Zone': 'US/Eastern'},\n",
       " 'Time Series (Daily)': {'2025-07-28': {'1. open': '842.8000',\n",
       "   '2. high': '854.0000',\n",
       "   '3. low': '828.8500',\n",
       "   '4. close': '836.1000',\n",
       "   '5. volume': '8536'},\n",
       "  '2025-07-25': {'1. open': '851.1500',\n",
       "   '2. high': '871.4000',\n",
       "   '3. low': '835.0000',\n",
       "   '4. close': '838.6500',\n",
       "   '5. volume': '53978'},\n",
       "  '2025-07-24': {'1. open': '850.2000',\n",
       "   '2. high': '876.3000',\n",
       "   '3. low': '840.0000',\n",
       "   '4. close': '853.7500',\n",
       "   '5. volume': '89382'},\n",
       "  '2025-07-23': {'1. open': '793.3500',\n",
       "   '2. high': '853.1000',\n",
       "   '3. low': '793.3500',\n",
       "   '4. close': '848.7000',\n",
       "   '5. volume': '75270'},\n",
       "  '2025-07-22': {'1. open': '803.0500',\n",
       "   '2. high': '816.7500',\n",
       "   '3. low': '799.5500',\n",
       "   '4. close': '810.0000',\n",
       "   '5. volume': '19280'},\n",
       "  '2025-07-21': {'1. open': '809.9500',\n",
       "   '2. high': '811.1500',\n",
       "   '3. low': '795.0000',\n",
       "   '4. close': '806.7000',\n",
       "   '5. volume': '13098'},\n",
       "  '2025-07-18': {'1. open': '790.6000',\n",
       "   '2. high': '816.9500',\n",
       "   '3. low': '784.4500',\n",
       "   '4. close': '801.2000',\n",
       "   '5. volume': '36309'},\n",
       "  '2025-07-17': {'1. open': '778.7500',\n",
       "   '2. high': '795.0000',\n",
       "   '3. low': '778.7000',\n",
       "   '4. close': '787.8500',\n",
       "   '5. volume': '384993'},\n",
       "  '2025-07-16': {'1. open': '770.9500',\n",
       "   '2. high': '784.2500',\n",
       "   '3. low': '770.9500',\n",
       "   '4. close': '777.2500',\n",
       "   '5. volume': '6938'},\n",
       "  '2025-07-15': {'1. open': '761.1000',\n",
       "   '2. high': '786.0000',\n",
       "   '3. low': '761.1000',\n",
       "   '4. close': '774.7500',\n",
       "   '5. volume': '4193'},\n",
       "  '2025-07-14': {'1. open': '769.2000',\n",
       "   '2. high': '784.0000',\n",
       "   '3. low': '769.2000',\n",
       "   '4. close': '774.6000',\n",
       "   '5. volume': '6074'},\n",
       "  '2025-07-11': {'1. open': '750.0500',\n",
       "   '2. high': '783.7500',\n",
       "   '3. low': '750.0500',\n",
       "   '4. close': '780.4500',\n",
       "   '5. volume': '2779'},\n",
       "  '2025-07-10': {'1. open': '779.9500',\n",
       "   '2. high': '781.0500',\n",
       "   '3. low': '765.4000',\n",
       "   '4. close': '768.9500',\n",
       "   '5. volume': '2782'},\n",
       "  '2025-07-09': {'1. open': '781.0000',\n",
       "   '2. high': '781.6500',\n",
       "   '3. low': '772.2500',\n",
       "   '4. close': '777.4500',\n",
       "   '5. volume': '5151'},\n",
       "  '2025-07-08': {'1. open': '781.0500',\n",
       "   '2. high': '786.9500',\n",
       "   '3. low': '776.0500',\n",
       "   '4. close': '782.4000',\n",
       "   '5. volume': '2953'},\n",
       "  '2025-07-07': {'1. open': '785.5500',\n",
       "   '2. high': '797.6500',\n",
       "   '3. low': '775.0000',\n",
       "   '4. close': '785.1000',\n",
       "   '5. volume': '8464'},\n",
       "  '2025-07-04': {'1. open': '788.9000',\n",
       "   '2. high': '794.0500',\n",
       "   '3. low': '773.5500',\n",
       "   '4. close': '781.8000',\n",
       "   '5. volume': '10307'},\n",
       "  '2025-07-03': {'1. open': '803.5500',\n",
       "   '2. high': '803.5500',\n",
       "   '3. low': '785.2500',\n",
       "   '4. close': '788.9000',\n",
       "   '5. volume': '9936'},\n",
       "  '2025-07-02': {'1. open': '780.3000',\n",
       "   '2. high': '812.4500',\n",
       "   '3. low': '780.3000',\n",
       "   '4. close': '801.7500',\n",
       "   '5. volume': '20737'},\n",
       "  '2025-07-01': {'1. open': '782.0000',\n",
       "   '2. high': '791.0000',\n",
       "   '3. low': '777.4500',\n",
       "   '4. close': '786.2000',\n",
       "   '5. volume': '10411'},\n",
       "  '2025-06-30': {'1. open': '772.0500',\n",
       "   '2. high': '792.2500',\n",
       "   '3. low': '772.0500',\n",
       "   '4. close': '782.0000',\n",
       "   '5. volume': '3763'},\n",
       "  '2025-06-27': {'1. open': '771.3000',\n",
       "   '2. high': '791.2000',\n",
       "   '3. low': '766.3500',\n",
       "   '4. close': '784.8000',\n",
       "   '5. volume': '12394'},\n",
       "  '2025-06-26': {'1. open': '769.8000',\n",
       "   '2. high': '774.0000',\n",
       "   '3. low': '760.2500',\n",
       "   '4. close': '771.8500',\n",
       "   '5. volume': '5501'},\n",
       "  '2025-06-25': {'1. open': '780.7500',\n",
       "   '2. high': '780.7500',\n",
       "   '3. low': '746.3000',\n",
       "   '4. close': '764.5000',\n",
       "   '5. volume': '16164'},\n",
       "  '2025-06-24': {'1. open': '788.8000',\n",
       "   '2. high': '788.9000',\n",
       "   '3. low': '743.6000',\n",
       "   '4. close': '751.1000',\n",
       "   '5. volume': '4870'},\n",
       "  '2025-06-23': {'1. open': '788.9500',\n",
       "   '2. high': '788.9500',\n",
       "   '3. low': '745.2500',\n",
       "   '4. close': '746.9000',\n",
       "   '5. volume': '3057'},\n",
       "  '2025-06-20': {'1. open': '752.8500',\n",
       "   '2. high': '768.7000',\n",
       "   '3. low': '740.7000',\n",
       "   '4. close': '762.2000',\n",
       "   '5. volume': '8770'},\n",
       "  '2025-06-19': {'1. open': '761.9500',\n",
       "   '2. high': '768.4500',\n",
       "   '3. low': '740.9500',\n",
       "   '4. close': '745.2000',\n",
       "   '5. volume': '4667'},\n",
       "  '2025-06-18': {'1. open': '771.2000',\n",
       "   '2. high': '777.8000',\n",
       "   '3. low': '761.0000',\n",
       "   '4. close': '762.8500',\n",
       "   '5. volume': '6664'},\n",
       "  '2025-06-17': {'1. open': '775.6000',\n",
       "   '2. high': '784.1000',\n",
       "   '3. low': '768.7500',\n",
       "   '4. close': '771.1500',\n",
       "   '5. volume': '4697'},\n",
       "  '2025-06-16': {'1. open': '777.4000',\n",
       "   '2. high': '787.0000',\n",
       "   '3. low': '767.9500',\n",
       "   '4. close': '773.7000',\n",
       "   '5. volume': '3267'},\n",
       "  '2025-06-13': {'1. open': '769.9500',\n",
       "   '2. high': '790.9000',\n",
       "   '3. low': '761.8000',\n",
       "   '4. close': '787.1000',\n",
       "   '5. volume': '5536'},\n",
       "  '2025-06-12': {'1. open': '794.5000',\n",
       "   '2. high': '796.7500',\n",
       "   '3. low': '770.1000',\n",
       "   '4. close': '771.7000',\n",
       "   '5. volume': '20860'},\n",
       "  '2025-06-11': {'1. open': '807.8500',\n",
       "   '2. high': '811.6500',\n",
       "   '3. low': '787.4000',\n",
       "   '4. close': '793.0000',\n",
       "   '5. volume': '7925'},\n",
       "  '2025-06-10': {'1. open': '834.9500',\n",
       "   '2. high': '834.9500',\n",
       "   '3. low': '806.0000',\n",
       "   '4. close': '807.6000',\n",
       "   '5. volume': '9596'},\n",
       "  '2025-06-09': {'1. open': '814.0000',\n",
       "   '2. high': '825.0000',\n",
       "   '3. low': '805.0000',\n",
       "   '4. close': '818.7500',\n",
       "   '5. volume': '5848'},\n",
       "  '2025-06-06': {'1. open': '818.0000',\n",
       "   '2. high': '819.9500',\n",
       "   '3. low': '802.4000',\n",
       "   '4. close': '805.7000',\n",
       "   '5. volume': '32885'},\n",
       "  '2025-06-05': {'1. open': '817.1500',\n",
       "   '2. high': '827.0000',\n",
       "   '3. low': '805.6500',\n",
       "   '4. close': '818.0000',\n",
       "   '5. volume': '46154'},\n",
       "  '2025-06-04': {'1. open': '785.0500',\n",
       "   '2. high': '826.6500',\n",
       "   '3. low': '785.0500',\n",
       "   '4. close': '815.2000',\n",
       "   '5. volume': '40705'},\n",
       "  '2025-06-03': {'1. open': '768.9500',\n",
       "   '2. high': '794.0000',\n",
       "   '3. low': '768.2500',\n",
       "   '4. close': '791.2500',\n",
       "   '5. volume': '56785'},\n",
       "  '2025-06-02': {'1. open': '764.0000',\n",
       "   '2. high': '766.0000',\n",
       "   '3. low': '749.4000',\n",
       "   '4. close': '763.2500',\n",
       "   '5. volume': '5716'},\n",
       "  '2025-05-30': {'1. open': '759.8000',\n",
       "   '2. high': '774.0500',\n",
       "   '3. low': '750.5500',\n",
       "   '4. close': '761.2500',\n",
       "   '5. volume': '11426'},\n",
       "  '2025-05-29': {'1. open': '748.8000',\n",
       "   '2. high': '756.3500',\n",
       "   '3. low': '748.5500',\n",
       "   '4. close': '753.8000',\n",
       "   '5. volume': '6299'},\n",
       "  '2025-05-28': {'1. open': '757.0000',\n",
       "   '2. high': '760.0000',\n",
       "   '3. low': '742.5000',\n",
       "   '4. close': '746.9500',\n",
       "   '5. volume': '7118'},\n",
       "  '2025-05-27': {'1. open': '744.4500',\n",
       "   '2. high': '754.5000',\n",
       "   '3. low': '744.0500',\n",
       "   '4. close': '753.1000',\n",
       "   '5. volume': '4771'},\n",
       "  '2025-05-26': {'1. open': '730.0000',\n",
       "   '2. high': '752.3000',\n",
       "   '3. low': '730.0000',\n",
       "   '4. close': '747.7500',\n",
       "   '5. volume': '2565'},\n",
       "  '2025-05-23': {'1. open': '740.9500',\n",
       "   '2. high': '752.8000',\n",
       "   '3. low': '740.9500',\n",
       "   '4. close': '744.8500',\n",
       "   '5. volume': '3305'},\n",
       "  '2025-05-22': {'1. open': '740.3500',\n",
       "   '2. high': '749.8000',\n",
       "   '3. low': '735.5500',\n",
       "   '4. close': '743.5000',\n",
       "   '5. volume': '3065'},\n",
       "  '2025-05-21': {'1. open': '740.0000',\n",
       "   '2. high': '755.3000',\n",
       "   '3. low': '736.1500',\n",
       "   '4. close': '740.3500',\n",
       "   '5. volume': '9778'},\n",
       "  '2025-05-20': {'1. open': '746.1500',\n",
       "   '2. high': '757.4500',\n",
       "   '3. low': '736.9500',\n",
       "   '4. close': '739.0500',\n",
       "   '5. volume': '4523'},\n",
       "  '2025-05-19': {'1. open': '730.3500',\n",
       "   '2. high': '752.6500',\n",
       "   '3. low': '730.3500',\n",
       "   '4. close': '749.4500',\n",
       "   '5. volume': '26420'},\n",
       "  '2025-05-16': {'1. open': '736.7500',\n",
       "   '2. high': '748.5500',\n",
       "   '3. low': '727.7000',\n",
       "   '4. close': '732.9500',\n",
       "   '5. volume': '15052'},\n",
       "  '2025-05-15': {'1. open': '730.0500',\n",
       "   '2. high': '746.4500',\n",
       "   '3. low': '727.2500',\n",
       "   '4. close': '732.1500',\n",
       "   '5. volume': '11381'},\n",
       "  '2025-05-14': {'1. open': '728.1000',\n",
       "   '2. high': '745.0000',\n",
       "   '3. low': '723.2000',\n",
       "   '4. close': '726.8000',\n",
       "   '5. volume': '10299'},\n",
       "  '2025-05-13': {'1. open': '723.9000',\n",
       "   '2. high': '729.4000',\n",
       "   '3. low': '718.0000',\n",
       "   '4. close': '728.0000',\n",
       "   '5. volume': '21473'},\n",
       "  '2025-05-12': {'1. open': '705.6500',\n",
       "   '2. high': '720.8000',\n",
       "   '3. low': '705.6500',\n",
       "   '4. close': '717.3000',\n",
       "   '5. volume': '32299'},\n",
       "  '2025-05-09': {'1. open': '679.0000',\n",
       "   '2. high': '708.6000',\n",
       "   '3. low': '663.0000',\n",
       "   '4. close': '704.0500',\n",
       "   '5. volume': '22076'},\n",
       "  '2025-05-08': {'1. open': '697.0000',\n",
       "   '2. high': '705.5000',\n",
       "   '3. low': '669.9500',\n",
       "   '4. close': '676.3000',\n",
       "   '5. volume': '12427'},\n",
       "  '2025-05-07': {'1. open': '677.7000',\n",
       "   '2. high': '702.4000',\n",
       "   '3. low': '677.7000',\n",
       "   '4. close': '695.8000',\n",
       "   '5. volume': '9502'},\n",
       "  '2025-05-06': {'1. open': '669.8000',\n",
       "   '2. high': '706.9000',\n",
       "   '3. low': '669.1500',\n",
       "   '4. close': '697.2500',\n",
       "   '5. volume': '118738'},\n",
       "  '2025-05-05': {'1. open': '663.5500',\n",
       "   '2. high': '672.9000',\n",
       "   '3. low': '655.8000',\n",
       "   '4. close': '667.0000',\n",
       "   '5. volume': '30063'},\n",
       "  '2025-05-02': {'1. open': '754.4000',\n",
       "   '2. high': '755.9500',\n",
       "   '3. low': '655.0000',\n",
       "   '4. close': '664.6000',\n",
       "   '5. volume': '199319'},\n",
       "  '2025-04-30': {'1. open': '772.0000',\n",
       "   '2. high': '783.5500',\n",
       "   '3. low': '764.0500',\n",
       "   '4. close': '771.6500',\n",
       "   '5. volume': '5760'},\n",
       "  '2025-04-29': {'1. open': '783.1000',\n",
       "   '2. high': '785.7000',\n",
       "   '3. low': '765.7000',\n",
       "   '4. close': '770.5000',\n",
       "   '5. volume': '20566'},\n",
       "  '2025-04-28': {'1. open': '768.5500',\n",
       "   '2. high': '790.0000',\n",
       "   '3. low': '768.0000',\n",
       "   '4. close': '783.0500',\n",
       "   '5. volume': '11027'},\n",
       "  '2025-04-25': {'1. open': '810.0000',\n",
       "   '2. high': '810.0000',\n",
       "   '3. low': '756.1000',\n",
       "   '4. close': '767.9000',\n",
       "   '5. volume': '24770'},\n",
       "  '2025-04-24': {'1. open': '772.8500',\n",
       "   '2. high': '799.0000',\n",
       "   '3. low': '766.3000',\n",
       "   '4. close': '795.2000',\n",
       "   '5. volume': '59057'},\n",
       "  '2025-04-23': {'1. open': '774.3500',\n",
       "   '2. high': '778.7000',\n",
       "   '3. low': '765.2500',\n",
       "   '4. close': '772.4000',\n",
       "   '5. volume': '17047'},\n",
       "  '2025-04-22': {'1. open': '745.0000',\n",
       "   '2. high': '775.7000',\n",
       "   '3. low': '745.0000',\n",
       "   '4. close': '770.0000',\n",
       "   '5. volume': '10703'},\n",
       "  '2025-04-21': {'1. open': '764.8500',\n",
       "   '2. high': '768.0500',\n",
       "   '3. low': '752.1500',\n",
       "   '4. close': '756.8500',\n",
       "   '5. volume': '27620'},\n",
       "  '2025-04-17': {'1. open': '771.6500',\n",
       "   '2. high': '789.9500',\n",
       "   '3. low': '756.0000',\n",
       "   '4. close': '766.1500',\n",
       "   '5. volume': '86748'},\n",
       "  '2025-04-16': {'1. open': '788.9500',\n",
       "   '2. high': '788.9500',\n",
       "   '3. low': '766.0500',\n",
       "   '4. close': '769.5500',\n",
       "   '5. volume': '16395'},\n",
       "  '2025-04-15': {'1. open': '779.9500',\n",
       "   '2. high': '791.7000',\n",
       "   '3. low': '773.3500',\n",
       "   '4. close': '778.2000',\n",
       "   '5. volume': '10998'},\n",
       "  '2025-04-11': {'1. open': '763.9500',\n",
       "   '2. high': '783.0500',\n",
       "   '3. low': '749.8000',\n",
       "   '4. close': '767.4000',\n",
       "   '5. volume': '23849'},\n",
       "  '2025-04-09': {'1. open': '716.4500',\n",
       "   '2. high': '743.9500',\n",
       "   '3. low': '710.1500',\n",
       "   '4. close': '741.6000',\n",
       "   '5. volume': '12285'},\n",
       "  '2025-04-08': {'1. open': '705.5500',\n",
       "   '2. high': '729.5000',\n",
       "   '3. low': '702.0500',\n",
       "   '4. close': '721.1500',\n",
       "   '5. volume': '10256'},\n",
       "  '2025-04-07': {'1. open': '707.7000',\n",
       "   '2. high': '707.7000',\n",
       "   '3. low': '673.0000',\n",
       "   '4. close': '701.1500',\n",
       "   '5. volume': '12852'},\n",
       "  '2025-04-04': {'1. open': '765.1000',\n",
       "   '2. high': '765.1000',\n",
       "   '3. low': '723.5500',\n",
       "   '4. close': '738.3000',\n",
       "   '5. volume': '11056'},\n",
       "  '2025-04-03': {'1. open': '782.0000',\n",
       "   '2. high': '786.4500',\n",
       "   '3. low': '762.7000',\n",
       "   '4. close': '769.5500',\n",
       "   '5. volume': '8291'},\n",
       "  '2025-04-02': {'1. open': '768.4000',\n",
       "   '2. high': '784.8000',\n",
       "   '3. low': '744.5000',\n",
       "   '4. close': '781.1500',\n",
       "   '5. volume': '6852'},\n",
       "  '2025-04-01': {'1. open': '751.1500',\n",
       "   '2. high': '755.6500',\n",
       "   '3. low': '740.2000',\n",
       "   '4. close': '750.2500',\n",
       "   '5. volume': '17901'},\n",
       "  '2025-03-28': {'1. open': '753.5500',\n",
       "   '2. high': '774.9500',\n",
       "   '3. low': '750.0000',\n",
       "   '4. close': '754.1500',\n",
       "   '5. volume': '17473'},\n",
       "  '2025-03-27': {'1. open': '767.5500',\n",
       "   '2. high': '777.9500',\n",
       "   '3. low': '742.0000',\n",
       "   '4. close': '759.7500',\n",
       "   '5. volume': '18189'},\n",
       "  '2025-03-26': {'1. open': '780.0000',\n",
       "   '2. high': '786.4500',\n",
       "   '3. low': '761.5500',\n",
       "   '4. close': '766.3500',\n",
       "   '5. volume': '10209'},\n",
       "  '2025-03-25': {'1. open': '798.9500',\n",
       "   '2. high': '798.9500',\n",
       "   '3. low': '760.1500',\n",
       "   '4. close': '773.9000',\n",
       "   '5. volume': '52694'},\n",
       "  '2025-03-24': {'1. open': '762.0500',\n",
       "   '2. high': '810.9500',\n",
       "   '3. low': '758.3000',\n",
       "   '4. close': '786.7000',\n",
       "   '5. volume': '93726'},\n",
       "  '2025-03-21': {'1. open': '755.0500',\n",
       "   '2. high': '797.6000',\n",
       "   '3. low': '754.6000',\n",
       "   '4. close': '769.6000',\n",
       "   '5. volume': '53533'},\n",
       "  '2025-03-20': {'1. open': '764.0500',\n",
       "   '2. high': '773.3500',\n",
       "   '3. low': '755.0000',\n",
       "   '4. close': '758.7000',\n",
       "   '5. volume': '109847'},\n",
       "  '2025-03-19': {'1. open': '773.9500',\n",
       "   '2. high': '773.9500',\n",
       "   '3. low': '752.2500',\n",
       "   '4. close': '761.8500',\n",
       "   '5. volume': '9608'},\n",
       "  '2025-03-18': {'1. open': '724.0000',\n",
       "   '2. high': '774.5000',\n",
       "   '3. low': '723.3500',\n",
       "   '4. close': '766.7500',\n",
       "   '5. volume': '23175'},\n",
       "  '2025-03-17': {'1. open': '722.5500',\n",
       "   '2. high': '728.3000',\n",
       "   '3. low': '714.5000',\n",
       "   '4. close': '725.4500',\n",
       "   '5. volume': '13671'},\n",
       "  '2025-03-13': {'1. open': '757.9500',\n",
       "   '2. high': '757.9500',\n",
       "   '3. low': '715.3500',\n",
       "   '4. close': '721.0000',\n",
       "   '5. volume': '8302'},\n",
       "  '2025-03-12': {'1. open': '763.5500',\n",
       "   '2. high': '766.7500',\n",
       "   '3. low': '730.1000',\n",
       "   '4. close': '733.5500',\n",
       "   '5. volume': '207868'},\n",
       "  '2025-03-11': {'1. open': '735.7000',\n",
       "   '2. high': '758.1000',\n",
       "   '3. low': '730.4500',\n",
       "   '4. close': '735.6500',\n",
       "   '5. volume': '38226'},\n",
       "  '2025-03-10': {'1. open': '774.9500',\n",
       "   '2. high': '774.9500',\n",
       "   '3. low': '742.9500',\n",
       "   '4. close': '745.7000',\n",
       "   '5. volume': '11271'},\n",
       "  '2025-03-07': {'1. open': '778.9500',\n",
       "   '2. high': '778.9500',\n",
       "   '3. low': '756.0500',\n",
       "   '4. close': '762.3000',\n",
       "   '5. volume': '17640'},\n",
       "  '2025-03-06': {'1. open': '773.5000',\n",
       "   '2. high': '784.5000',\n",
       "   '3. low': '753.8000',\n",
       "   '4. close': '771.2000',\n",
       "   '5. volume': '22788'},\n",
       "  '2025-03-05': {'1. open': '753.2000',\n",
       "   '2. high': '766.8000',\n",
       "   '3. low': '738.2000',\n",
       "   '4. close': '761.2500',\n",
       "   '5. volume': '17066'},\n",
       "  '2025-03-04': {'1. open': '720.0000',\n",
       "   '2. high': '748.8500',\n",
       "   '3. low': '711.5000',\n",
       "   '4. close': '739.4000',\n",
       "   '5. volume': '12840'},\n",
       "  '2025-03-03': {'1. open': '709.0500',\n",
       "   '2. high': '750.4500',\n",
       "   '3. low': '709.0500',\n",
       "   '4. close': '719.7500',\n",
       "   '5. volume': '20506'}}}"
      ]
     },
     "execution_count": 15,
     "metadata": {},
     "output_type": "execute_result"
    }
   ],
   "source": [
    "data1"
   ]
  },
  {
   "cell_type": "code",
   "execution_count": 16,
   "id": "1746743e",
   "metadata": {},
   "outputs": [
    {
     "data": {
      "text/plain": [
       "dict"
      ]
     },
     "execution_count": 16,
     "metadata": {},
     "output_type": "execute_result"
    }
   ],
   "source": [
    "type(data1)"
   ]
  },
  {
   "cell_type": "code",
   "execution_count": 17,
   "id": "5abcfdf7",
   "metadata": {},
   "outputs": [
    {
     "data": {
      "text/plain": [
       "dict_keys(['Meta Data', 'Time Series (Daily)'])"
      ]
     },
     "execution_count": 17,
     "metadata": {},
     "output_type": "execute_result"
    }
   ],
   "source": [
    "data1.keys()"
   ]
  },
  {
   "cell_type": "code",
   "execution_count": 18,
   "id": "7b0cdf16",
   "metadata": {},
   "outputs": [
    {
     "data": {
      "text/plain": [
       "{'2025-07-28': {'1. open': '842.8000',\n",
       "  '2. high': '854.0000',\n",
       "  '3. low': '828.8500',\n",
       "  '4. close': '836.1000',\n",
       "  '5. volume': '8536'},\n",
       " '2025-07-25': {'1. open': '851.1500',\n",
       "  '2. high': '871.4000',\n",
       "  '3. low': '835.0000',\n",
       "  '4. close': '838.6500',\n",
       "  '5. volume': '53978'},\n",
       " '2025-07-24': {'1. open': '850.2000',\n",
       "  '2. high': '876.3000',\n",
       "  '3. low': '840.0000',\n",
       "  '4. close': '853.7500',\n",
       "  '5. volume': '89382'},\n",
       " '2025-07-23': {'1. open': '793.3500',\n",
       "  '2. high': '853.1000',\n",
       "  '3. low': '793.3500',\n",
       "  '4. close': '848.7000',\n",
       "  '5. volume': '75270'},\n",
       " '2025-07-22': {'1. open': '803.0500',\n",
       "  '2. high': '816.7500',\n",
       "  '3. low': '799.5500',\n",
       "  '4. close': '810.0000',\n",
       "  '5. volume': '19280'},\n",
       " '2025-07-21': {'1. open': '809.9500',\n",
       "  '2. high': '811.1500',\n",
       "  '3. low': '795.0000',\n",
       "  '4. close': '806.7000',\n",
       "  '5. volume': '13098'},\n",
       " '2025-07-18': {'1. open': '790.6000',\n",
       "  '2. high': '816.9500',\n",
       "  '3. low': '784.4500',\n",
       "  '4. close': '801.2000',\n",
       "  '5. volume': '36309'},\n",
       " '2025-07-17': {'1. open': '778.7500',\n",
       "  '2. high': '795.0000',\n",
       "  '3. low': '778.7000',\n",
       "  '4. close': '787.8500',\n",
       "  '5. volume': '384993'},\n",
       " '2025-07-16': {'1. open': '770.9500',\n",
       "  '2. high': '784.2500',\n",
       "  '3. low': '770.9500',\n",
       "  '4. close': '777.2500',\n",
       "  '5. volume': '6938'},\n",
       " '2025-07-15': {'1. open': '761.1000',\n",
       "  '2. high': '786.0000',\n",
       "  '3. low': '761.1000',\n",
       "  '4. close': '774.7500',\n",
       "  '5. volume': '4193'},\n",
       " '2025-07-14': {'1. open': '769.2000',\n",
       "  '2. high': '784.0000',\n",
       "  '3. low': '769.2000',\n",
       "  '4. close': '774.6000',\n",
       "  '5. volume': '6074'},\n",
       " '2025-07-11': {'1. open': '750.0500',\n",
       "  '2. high': '783.7500',\n",
       "  '3. low': '750.0500',\n",
       "  '4. close': '780.4500',\n",
       "  '5. volume': '2779'},\n",
       " '2025-07-10': {'1. open': '779.9500',\n",
       "  '2. high': '781.0500',\n",
       "  '3. low': '765.4000',\n",
       "  '4. close': '768.9500',\n",
       "  '5. volume': '2782'},\n",
       " '2025-07-09': {'1. open': '781.0000',\n",
       "  '2. high': '781.6500',\n",
       "  '3. low': '772.2500',\n",
       "  '4. close': '777.4500',\n",
       "  '5. volume': '5151'},\n",
       " '2025-07-08': {'1. open': '781.0500',\n",
       "  '2. high': '786.9500',\n",
       "  '3. low': '776.0500',\n",
       "  '4. close': '782.4000',\n",
       "  '5. volume': '2953'},\n",
       " '2025-07-07': {'1. open': '785.5500',\n",
       "  '2. high': '797.6500',\n",
       "  '3. low': '775.0000',\n",
       "  '4. close': '785.1000',\n",
       "  '5. volume': '8464'},\n",
       " '2025-07-04': {'1. open': '788.9000',\n",
       "  '2. high': '794.0500',\n",
       "  '3. low': '773.5500',\n",
       "  '4. close': '781.8000',\n",
       "  '5. volume': '10307'},\n",
       " '2025-07-03': {'1. open': '803.5500',\n",
       "  '2. high': '803.5500',\n",
       "  '3. low': '785.2500',\n",
       "  '4. close': '788.9000',\n",
       "  '5. volume': '9936'},\n",
       " '2025-07-02': {'1. open': '780.3000',\n",
       "  '2. high': '812.4500',\n",
       "  '3. low': '780.3000',\n",
       "  '4. close': '801.7500',\n",
       "  '5. volume': '20737'},\n",
       " '2025-07-01': {'1. open': '782.0000',\n",
       "  '2. high': '791.0000',\n",
       "  '3. low': '777.4500',\n",
       "  '4. close': '786.2000',\n",
       "  '5. volume': '10411'},\n",
       " '2025-06-30': {'1. open': '772.0500',\n",
       "  '2. high': '792.2500',\n",
       "  '3. low': '772.0500',\n",
       "  '4. close': '782.0000',\n",
       "  '5. volume': '3763'},\n",
       " '2025-06-27': {'1. open': '771.3000',\n",
       "  '2. high': '791.2000',\n",
       "  '3. low': '766.3500',\n",
       "  '4. close': '784.8000',\n",
       "  '5. volume': '12394'},\n",
       " '2025-06-26': {'1. open': '769.8000',\n",
       "  '2. high': '774.0000',\n",
       "  '3. low': '760.2500',\n",
       "  '4. close': '771.8500',\n",
       "  '5. volume': '5501'},\n",
       " '2025-06-25': {'1. open': '780.7500',\n",
       "  '2. high': '780.7500',\n",
       "  '3. low': '746.3000',\n",
       "  '4. close': '764.5000',\n",
       "  '5. volume': '16164'},\n",
       " '2025-06-24': {'1. open': '788.8000',\n",
       "  '2. high': '788.9000',\n",
       "  '3. low': '743.6000',\n",
       "  '4. close': '751.1000',\n",
       "  '5. volume': '4870'},\n",
       " '2025-06-23': {'1. open': '788.9500',\n",
       "  '2. high': '788.9500',\n",
       "  '3. low': '745.2500',\n",
       "  '4. close': '746.9000',\n",
       "  '5. volume': '3057'},\n",
       " '2025-06-20': {'1. open': '752.8500',\n",
       "  '2. high': '768.7000',\n",
       "  '3. low': '740.7000',\n",
       "  '4. close': '762.2000',\n",
       "  '5. volume': '8770'},\n",
       " '2025-06-19': {'1. open': '761.9500',\n",
       "  '2. high': '768.4500',\n",
       "  '3. low': '740.9500',\n",
       "  '4. close': '745.2000',\n",
       "  '5. volume': '4667'},\n",
       " '2025-06-18': {'1. open': '771.2000',\n",
       "  '2. high': '777.8000',\n",
       "  '3. low': '761.0000',\n",
       "  '4. close': '762.8500',\n",
       "  '5. volume': '6664'},\n",
       " '2025-06-17': {'1. open': '775.6000',\n",
       "  '2. high': '784.1000',\n",
       "  '3. low': '768.7500',\n",
       "  '4. close': '771.1500',\n",
       "  '5. volume': '4697'},\n",
       " '2025-06-16': {'1. open': '777.4000',\n",
       "  '2. high': '787.0000',\n",
       "  '3. low': '767.9500',\n",
       "  '4. close': '773.7000',\n",
       "  '5. volume': '3267'},\n",
       " '2025-06-13': {'1. open': '769.9500',\n",
       "  '2. high': '790.9000',\n",
       "  '3. low': '761.8000',\n",
       "  '4. close': '787.1000',\n",
       "  '5. volume': '5536'},\n",
       " '2025-06-12': {'1. open': '794.5000',\n",
       "  '2. high': '796.7500',\n",
       "  '3. low': '770.1000',\n",
       "  '4. close': '771.7000',\n",
       "  '5. volume': '20860'},\n",
       " '2025-06-11': {'1. open': '807.8500',\n",
       "  '2. high': '811.6500',\n",
       "  '3. low': '787.4000',\n",
       "  '4. close': '793.0000',\n",
       "  '5. volume': '7925'},\n",
       " '2025-06-10': {'1. open': '834.9500',\n",
       "  '2. high': '834.9500',\n",
       "  '3. low': '806.0000',\n",
       "  '4. close': '807.6000',\n",
       "  '5. volume': '9596'},\n",
       " '2025-06-09': {'1. open': '814.0000',\n",
       "  '2. high': '825.0000',\n",
       "  '3. low': '805.0000',\n",
       "  '4. close': '818.7500',\n",
       "  '5. volume': '5848'},\n",
       " '2025-06-06': {'1. open': '818.0000',\n",
       "  '2. high': '819.9500',\n",
       "  '3. low': '802.4000',\n",
       "  '4. close': '805.7000',\n",
       "  '5. volume': '32885'},\n",
       " '2025-06-05': {'1. open': '817.1500',\n",
       "  '2. high': '827.0000',\n",
       "  '3. low': '805.6500',\n",
       "  '4. close': '818.0000',\n",
       "  '5. volume': '46154'},\n",
       " '2025-06-04': {'1. open': '785.0500',\n",
       "  '2. high': '826.6500',\n",
       "  '3. low': '785.0500',\n",
       "  '4. close': '815.2000',\n",
       "  '5. volume': '40705'},\n",
       " '2025-06-03': {'1. open': '768.9500',\n",
       "  '2. high': '794.0000',\n",
       "  '3. low': '768.2500',\n",
       "  '4. close': '791.2500',\n",
       "  '5. volume': '56785'},\n",
       " '2025-06-02': {'1. open': '764.0000',\n",
       "  '2. high': '766.0000',\n",
       "  '3. low': '749.4000',\n",
       "  '4. close': '763.2500',\n",
       "  '5. volume': '5716'},\n",
       " '2025-05-30': {'1. open': '759.8000',\n",
       "  '2. high': '774.0500',\n",
       "  '3. low': '750.5500',\n",
       "  '4. close': '761.2500',\n",
       "  '5. volume': '11426'},\n",
       " '2025-05-29': {'1. open': '748.8000',\n",
       "  '2. high': '756.3500',\n",
       "  '3. low': '748.5500',\n",
       "  '4. close': '753.8000',\n",
       "  '5. volume': '6299'},\n",
       " '2025-05-28': {'1. open': '757.0000',\n",
       "  '2. high': '760.0000',\n",
       "  '3. low': '742.5000',\n",
       "  '4. close': '746.9500',\n",
       "  '5. volume': '7118'},\n",
       " '2025-05-27': {'1. open': '744.4500',\n",
       "  '2. high': '754.5000',\n",
       "  '3. low': '744.0500',\n",
       "  '4. close': '753.1000',\n",
       "  '5. volume': '4771'},\n",
       " '2025-05-26': {'1. open': '730.0000',\n",
       "  '2. high': '752.3000',\n",
       "  '3. low': '730.0000',\n",
       "  '4. close': '747.7500',\n",
       "  '5. volume': '2565'},\n",
       " '2025-05-23': {'1. open': '740.9500',\n",
       "  '2. high': '752.8000',\n",
       "  '3. low': '740.9500',\n",
       "  '4. close': '744.8500',\n",
       "  '5. volume': '3305'},\n",
       " '2025-05-22': {'1. open': '740.3500',\n",
       "  '2. high': '749.8000',\n",
       "  '3. low': '735.5500',\n",
       "  '4. close': '743.5000',\n",
       "  '5. volume': '3065'},\n",
       " '2025-05-21': {'1. open': '740.0000',\n",
       "  '2. high': '755.3000',\n",
       "  '3. low': '736.1500',\n",
       "  '4. close': '740.3500',\n",
       "  '5. volume': '9778'},\n",
       " '2025-05-20': {'1. open': '746.1500',\n",
       "  '2. high': '757.4500',\n",
       "  '3. low': '736.9500',\n",
       "  '4. close': '739.0500',\n",
       "  '5. volume': '4523'},\n",
       " '2025-05-19': {'1. open': '730.3500',\n",
       "  '2. high': '752.6500',\n",
       "  '3. low': '730.3500',\n",
       "  '4. close': '749.4500',\n",
       "  '5. volume': '26420'},\n",
       " '2025-05-16': {'1. open': '736.7500',\n",
       "  '2. high': '748.5500',\n",
       "  '3. low': '727.7000',\n",
       "  '4. close': '732.9500',\n",
       "  '5. volume': '15052'},\n",
       " '2025-05-15': {'1. open': '730.0500',\n",
       "  '2. high': '746.4500',\n",
       "  '3. low': '727.2500',\n",
       "  '4. close': '732.1500',\n",
       "  '5. volume': '11381'},\n",
       " '2025-05-14': {'1. open': '728.1000',\n",
       "  '2. high': '745.0000',\n",
       "  '3. low': '723.2000',\n",
       "  '4. close': '726.8000',\n",
       "  '5. volume': '10299'},\n",
       " '2025-05-13': {'1. open': '723.9000',\n",
       "  '2. high': '729.4000',\n",
       "  '3. low': '718.0000',\n",
       "  '4. close': '728.0000',\n",
       "  '5. volume': '21473'},\n",
       " '2025-05-12': {'1. open': '705.6500',\n",
       "  '2. high': '720.8000',\n",
       "  '3. low': '705.6500',\n",
       "  '4. close': '717.3000',\n",
       "  '5. volume': '32299'},\n",
       " '2025-05-09': {'1. open': '679.0000',\n",
       "  '2. high': '708.6000',\n",
       "  '3. low': '663.0000',\n",
       "  '4. close': '704.0500',\n",
       "  '5. volume': '22076'},\n",
       " '2025-05-08': {'1. open': '697.0000',\n",
       "  '2. high': '705.5000',\n",
       "  '3. low': '669.9500',\n",
       "  '4. close': '676.3000',\n",
       "  '5. volume': '12427'},\n",
       " '2025-05-07': {'1. open': '677.7000',\n",
       "  '2. high': '702.4000',\n",
       "  '3. low': '677.7000',\n",
       "  '4. close': '695.8000',\n",
       "  '5. volume': '9502'},\n",
       " '2025-05-06': {'1. open': '669.8000',\n",
       "  '2. high': '706.9000',\n",
       "  '3. low': '669.1500',\n",
       "  '4. close': '697.2500',\n",
       "  '5. volume': '118738'},\n",
       " '2025-05-05': {'1. open': '663.5500',\n",
       "  '2. high': '672.9000',\n",
       "  '3. low': '655.8000',\n",
       "  '4. close': '667.0000',\n",
       "  '5. volume': '30063'},\n",
       " '2025-05-02': {'1. open': '754.4000',\n",
       "  '2. high': '755.9500',\n",
       "  '3. low': '655.0000',\n",
       "  '4. close': '664.6000',\n",
       "  '5. volume': '199319'},\n",
       " '2025-04-30': {'1. open': '772.0000',\n",
       "  '2. high': '783.5500',\n",
       "  '3. low': '764.0500',\n",
       "  '4. close': '771.6500',\n",
       "  '5. volume': '5760'},\n",
       " '2025-04-29': {'1. open': '783.1000',\n",
       "  '2. high': '785.7000',\n",
       "  '3. low': '765.7000',\n",
       "  '4. close': '770.5000',\n",
       "  '5. volume': '20566'},\n",
       " '2025-04-28': {'1. open': '768.5500',\n",
       "  '2. high': '790.0000',\n",
       "  '3. low': '768.0000',\n",
       "  '4. close': '783.0500',\n",
       "  '5. volume': '11027'},\n",
       " '2025-04-25': {'1. open': '810.0000',\n",
       "  '2. high': '810.0000',\n",
       "  '3. low': '756.1000',\n",
       "  '4. close': '767.9000',\n",
       "  '5. volume': '24770'},\n",
       " '2025-04-24': {'1. open': '772.8500',\n",
       "  '2. high': '799.0000',\n",
       "  '3. low': '766.3000',\n",
       "  '4. close': '795.2000',\n",
       "  '5. volume': '59057'},\n",
       " '2025-04-23': {'1. open': '774.3500',\n",
       "  '2. high': '778.7000',\n",
       "  '3. low': '765.2500',\n",
       "  '4. close': '772.4000',\n",
       "  '5. volume': '17047'},\n",
       " '2025-04-22': {'1. open': '745.0000',\n",
       "  '2. high': '775.7000',\n",
       "  '3. low': '745.0000',\n",
       "  '4. close': '770.0000',\n",
       "  '5. volume': '10703'},\n",
       " '2025-04-21': {'1. open': '764.8500',\n",
       "  '2. high': '768.0500',\n",
       "  '3. low': '752.1500',\n",
       "  '4. close': '756.8500',\n",
       "  '5. volume': '27620'},\n",
       " '2025-04-17': {'1. open': '771.6500',\n",
       "  '2. high': '789.9500',\n",
       "  '3. low': '756.0000',\n",
       "  '4. close': '766.1500',\n",
       "  '5. volume': '86748'},\n",
       " '2025-04-16': {'1. open': '788.9500',\n",
       "  '2. high': '788.9500',\n",
       "  '3. low': '766.0500',\n",
       "  '4. close': '769.5500',\n",
       "  '5. volume': '16395'},\n",
       " '2025-04-15': {'1. open': '779.9500',\n",
       "  '2. high': '791.7000',\n",
       "  '3. low': '773.3500',\n",
       "  '4. close': '778.2000',\n",
       "  '5. volume': '10998'},\n",
       " '2025-04-11': {'1. open': '763.9500',\n",
       "  '2. high': '783.0500',\n",
       "  '3. low': '749.8000',\n",
       "  '4. close': '767.4000',\n",
       "  '5. volume': '23849'},\n",
       " '2025-04-09': {'1. open': '716.4500',\n",
       "  '2. high': '743.9500',\n",
       "  '3. low': '710.1500',\n",
       "  '4. close': '741.6000',\n",
       "  '5. volume': '12285'},\n",
       " '2025-04-08': {'1. open': '705.5500',\n",
       "  '2. high': '729.5000',\n",
       "  '3. low': '702.0500',\n",
       "  '4. close': '721.1500',\n",
       "  '5. volume': '10256'},\n",
       " '2025-04-07': {'1. open': '707.7000',\n",
       "  '2. high': '707.7000',\n",
       "  '3. low': '673.0000',\n",
       "  '4. close': '701.1500',\n",
       "  '5. volume': '12852'},\n",
       " '2025-04-04': {'1. open': '765.1000',\n",
       "  '2. high': '765.1000',\n",
       "  '3. low': '723.5500',\n",
       "  '4. close': '738.3000',\n",
       "  '5. volume': '11056'},\n",
       " '2025-04-03': {'1. open': '782.0000',\n",
       "  '2. high': '786.4500',\n",
       "  '3. low': '762.7000',\n",
       "  '4. close': '769.5500',\n",
       "  '5. volume': '8291'},\n",
       " '2025-04-02': {'1. open': '768.4000',\n",
       "  '2. high': '784.8000',\n",
       "  '3. low': '744.5000',\n",
       "  '4. close': '781.1500',\n",
       "  '5. volume': '6852'},\n",
       " '2025-04-01': {'1. open': '751.1500',\n",
       "  '2. high': '755.6500',\n",
       "  '3. low': '740.2000',\n",
       "  '4. close': '750.2500',\n",
       "  '5. volume': '17901'},\n",
       " '2025-03-28': {'1. open': '753.5500',\n",
       "  '2. high': '774.9500',\n",
       "  '3. low': '750.0000',\n",
       "  '4. close': '754.1500',\n",
       "  '5. volume': '17473'},\n",
       " '2025-03-27': {'1. open': '767.5500',\n",
       "  '2. high': '777.9500',\n",
       "  '3. low': '742.0000',\n",
       "  '4. close': '759.7500',\n",
       "  '5. volume': '18189'},\n",
       " '2025-03-26': {'1. open': '780.0000',\n",
       "  '2. high': '786.4500',\n",
       "  '3. low': '761.5500',\n",
       "  '4. close': '766.3500',\n",
       "  '5. volume': '10209'},\n",
       " '2025-03-25': {'1. open': '798.9500',\n",
       "  '2. high': '798.9500',\n",
       "  '3. low': '760.1500',\n",
       "  '4. close': '773.9000',\n",
       "  '5. volume': '52694'},\n",
       " '2025-03-24': {'1. open': '762.0500',\n",
       "  '2. high': '810.9500',\n",
       "  '3. low': '758.3000',\n",
       "  '4. close': '786.7000',\n",
       "  '5. volume': '93726'},\n",
       " '2025-03-21': {'1. open': '755.0500',\n",
       "  '2. high': '797.6000',\n",
       "  '3. low': '754.6000',\n",
       "  '4. close': '769.6000',\n",
       "  '5. volume': '53533'},\n",
       " '2025-03-20': {'1. open': '764.0500',\n",
       "  '2. high': '773.3500',\n",
       "  '3. low': '755.0000',\n",
       "  '4. close': '758.7000',\n",
       "  '5. volume': '109847'},\n",
       " '2025-03-19': {'1. open': '773.9500',\n",
       "  '2. high': '773.9500',\n",
       "  '3. low': '752.2500',\n",
       "  '4. close': '761.8500',\n",
       "  '5. volume': '9608'},\n",
       " '2025-03-18': {'1. open': '724.0000',\n",
       "  '2. high': '774.5000',\n",
       "  '3. low': '723.3500',\n",
       "  '4. close': '766.7500',\n",
       "  '5. volume': '23175'},\n",
       " '2025-03-17': {'1. open': '722.5500',\n",
       "  '2. high': '728.3000',\n",
       "  '3. low': '714.5000',\n",
       "  '4. close': '725.4500',\n",
       "  '5. volume': '13671'},\n",
       " '2025-03-13': {'1. open': '757.9500',\n",
       "  '2. high': '757.9500',\n",
       "  '3. low': '715.3500',\n",
       "  '4. close': '721.0000',\n",
       "  '5. volume': '8302'},\n",
       " '2025-03-12': {'1. open': '763.5500',\n",
       "  '2. high': '766.7500',\n",
       "  '3. low': '730.1000',\n",
       "  '4. close': '733.5500',\n",
       "  '5. volume': '207868'},\n",
       " '2025-03-11': {'1. open': '735.7000',\n",
       "  '2. high': '758.1000',\n",
       "  '3. low': '730.4500',\n",
       "  '4. close': '735.6500',\n",
       "  '5. volume': '38226'},\n",
       " '2025-03-10': {'1. open': '774.9500',\n",
       "  '2. high': '774.9500',\n",
       "  '3. low': '742.9500',\n",
       "  '4. close': '745.7000',\n",
       "  '5. volume': '11271'},\n",
       " '2025-03-07': {'1. open': '778.9500',\n",
       "  '2. high': '778.9500',\n",
       "  '3. low': '756.0500',\n",
       "  '4. close': '762.3000',\n",
       "  '5. volume': '17640'},\n",
       " '2025-03-06': {'1. open': '773.5000',\n",
       "  '2. high': '784.5000',\n",
       "  '3. low': '753.8000',\n",
       "  '4. close': '771.2000',\n",
       "  '5. volume': '22788'},\n",
       " '2025-03-05': {'1. open': '753.2000',\n",
       "  '2. high': '766.8000',\n",
       "  '3. low': '738.2000',\n",
       "  '4. close': '761.2500',\n",
       "  '5. volume': '17066'},\n",
       " '2025-03-04': {'1. open': '720.0000',\n",
       "  '2. high': '748.8500',\n",
       "  '3. low': '711.5000',\n",
       "  '4. close': '739.4000',\n",
       "  '5. volume': '12840'},\n",
       " '2025-03-03': {'1. open': '709.0500',\n",
       "  '2. high': '750.4500',\n",
       "  '3. low': '709.0500',\n",
       "  '4. close': '719.7500',\n",
       "  '5. volume': '20506'}}"
      ]
     },
     "execution_count": 18,
     "metadata": {},
     "output_type": "execute_result"
    }
   ],
   "source": [
    "df1 = data1['Time Series (Daily)']\n",
    "df1"
   ]
  },
  {
   "cell_type": "code",
   "execution_count": 19,
   "id": "56f27726",
   "metadata": {},
   "outputs": [],
   "source": [
    "import pandas as pd"
   ]
  },
  {
   "cell_type": "code",
   "execution_count": 20,
   "id": "24a1b6cc",
   "metadata": {},
   "outputs": [],
   "source": [
    "df = pd.DataFrame(df1)"
   ]
  },
  {
   "cell_type": "code",
   "execution_count": 21,
   "id": "c1b262aa",
   "metadata": {},
   "outputs": [],
   "source": [
    "df = df.T"
   ]
  },
  {
   "cell_type": "code",
   "execution_count": 22,
   "id": "41f43685",
   "metadata": {},
   "outputs": [
    {
     "data": {
      "text/html": [
       "<div>\n",
       "<style scoped>\n",
       "    .dataframe tbody tr th:only-of-type {\n",
       "        vertical-align: middle;\n",
       "    }\n",
       "\n",
       "    .dataframe tbody tr th {\n",
       "        vertical-align: top;\n",
       "    }\n",
       "\n",
       "    .dataframe thead th {\n",
       "        text-align: right;\n",
       "    }\n",
       "</style>\n",
       "<table border=\"1\" class=\"dataframe\">\n",
       "  <thead>\n",
       "    <tr style=\"text-align: right;\">\n",
       "      <th></th>\n",
       "      <th>1. open</th>\n",
       "      <th>2. high</th>\n",
       "      <th>3. low</th>\n",
       "      <th>4. close</th>\n",
       "      <th>5. volume</th>\n",
       "    </tr>\n",
       "  </thead>\n",
       "  <tbody>\n",
       "    <tr>\n",
       "      <th>2025-07-28</th>\n",
       "      <td>842.8000</td>\n",
       "      <td>854.0000</td>\n",
       "      <td>828.8500</td>\n",
       "      <td>836.1000</td>\n",
       "      <td>8536</td>\n",
       "    </tr>\n",
       "    <tr>\n",
       "      <th>2025-07-25</th>\n",
       "      <td>851.1500</td>\n",
       "      <td>871.4000</td>\n",
       "      <td>835.0000</td>\n",
       "      <td>838.6500</td>\n",
       "      <td>53978</td>\n",
       "    </tr>\n",
       "    <tr>\n",
       "      <th>2025-07-24</th>\n",
       "      <td>850.2000</td>\n",
       "      <td>876.3000</td>\n",
       "      <td>840.0000</td>\n",
       "      <td>853.7500</td>\n",
       "      <td>89382</td>\n",
       "    </tr>\n",
       "    <tr>\n",
       "      <th>2025-07-23</th>\n",
       "      <td>793.3500</td>\n",
       "      <td>853.1000</td>\n",
       "      <td>793.3500</td>\n",
       "      <td>848.7000</td>\n",
       "      <td>75270</td>\n",
       "    </tr>\n",
       "    <tr>\n",
       "      <th>2025-07-22</th>\n",
       "      <td>803.0500</td>\n",
       "      <td>816.7500</td>\n",
       "      <td>799.5500</td>\n",
       "      <td>810.0000</td>\n",
       "      <td>19280</td>\n",
       "    </tr>\n",
       "    <tr>\n",
       "      <th>...</th>\n",
       "      <td>...</td>\n",
       "      <td>...</td>\n",
       "      <td>...</td>\n",
       "      <td>...</td>\n",
       "      <td>...</td>\n",
       "    </tr>\n",
       "    <tr>\n",
       "      <th>2025-03-07</th>\n",
       "      <td>778.9500</td>\n",
       "      <td>778.9500</td>\n",
       "      <td>756.0500</td>\n",
       "      <td>762.3000</td>\n",
       "      <td>17640</td>\n",
       "    </tr>\n",
       "    <tr>\n",
       "      <th>2025-03-06</th>\n",
       "      <td>773.5000</td>\n",
       "      <td>784.5000</td>\n",
       "      <td>753.8000</td>\n",
       "      <td>771.2000</td>\n",
       "      <td>22788</td>\n",
       "    </tr>\n",
       "    <tr>\n",
       "      <th>2025-03-05</th>\n",
       "      <td>753.2000</td>\n",
       "      <td>766.8000</td>\n",
       "      <td>738.2000</td>\n",
       "      <td>761.2500</td>\n",
       "      <td>17066</td>\n",
       "    </tr>\n",
       "    <tr>\n",
       "      <th>2025-03-04</th>\n",
       "      <td>720.0000</td>\n",
       "      <td>748.8500</td>\n",
       "      <td>711.5000</td>\n",
       "      <td>739.4000</td>\n",
       "      <td>12840</td>\n",
       "    </tr>\n",
       "    <tr>\n",
       "      <th>2025-03-03</th>\n",
       "      <td>709.0500</td>\n",
       "      <td>750.4500</td>\n",
       "      <td>709.0500</td>\n",
       "      <td>719.7500</td>\n",
       "      <td>20506</td>\n",
       "    </tr>\n",
       "  </tbody>\n",
       "</table>\n",
       "<p>100 rows × 5 columns</p>\n",
       "</div>"
      ],
      "text/plain": [
       "             1. open   2. high    3. low  4. close 5. volume\n",
       "2025-07-28  842.8000  854.0000  828.8500  836.1000      8536\n",
       "2025-07-25  851.1500  871.4000  835.0000  838.6500     53978\n",
       "2025-07-24  850.2000  876.3000  840.0000  853.7500     89382\n",
       "2025-07-23  793.3500  853.1000  793.3500  848.7000     75270\n",
       "2025-07-22  803.0500  816.7500  799.5500  810.0000     19280\n",
       "...              ...       ...       ...       ...       ...\n",
       "2025-03-07  778.9500  778.9500  756.0500  762.3000     17640\n",
       "2025-03-06  773.5000  784.5000  753.8000  771.2000     22788\n",
       "2025-03-05  753.2000  766.8000  738.2000  761.2500     17066\n",
       "2025-03-04  720.0000  748.8500  711.5000  739.4000     12840\n",
       "2025-03-03  709.0500  750.4500  709.0500  719.7500     20506\n",
       "\n",
       "[100 rows x 5 columns]"
      ]
     },
     "execution_count": 22,
     "metadata": {},
     "output_type": "execute_result"
    }
   ],
   "source": [
    "df"
   ]
  },
  {
   "cell_type": "code",
   "execution_count": 23,
   "id": "d50384d1",
   "metadata": {},
   "outputs": [
    {
     "data": {
      "text/plain": [
       "1. open      object\n",
       "2. high      object\n",
       "3. low       object\n",
       "4. close     object\n",
       "5. volume    object\n",
       "dtype: object"
      ]
     },
     "execution_count": 23,
     "metadata": {},
     "output_type": "execute_result"
    }
   ],
   "source": [
    "df.dtypes"
   ]
  },
  {
   "cell_type": "code",
   "execution_count": 24,
   "id": "59a3808a",
   "metadata": {},
   "outputs": [
    {
     "data": {
      "text/plain": [
       "Index(['2025-07-28', '2025-07-25', '2025-07-24', '2025-07-23', '2025-07-22',\n",
       "       '2025-07-21', '2025-07-18', '2025-07-17', '2025-07-16', '2025-07-15',\n",
       "       '2025-07-14', '2025-07-11', '2025-07-10', '2025-07-09', '2025-07-08',\n",
       "       '2025-07-07', '2025-07-04', '2025-07-03', '2025-07-02', '2025-07-01',\n",
       "       '2025-06-30', '2025-06-27', '2025-06-26', '2025-06-25', '2025-06-24',\n",
       "       '2025-06-23', '2025-06-20', '2025-06-19', '2025-06-18', '2025-06-17',\n",
       "       '2025-06-16', '2025-06-13', '2025-06-12', '2025-06-11', '2025-06-10',\n",
       "       '2025-06-09', '2025-06-06', '2025-06-05', '2025-06-04', '2025-06-03',\n",
       "       '2025-06-02', '2025-05-30', '2025-05-29', '2025-05-28', '2025-05-27',\n",
       "       '2025-05-26', '2025-05-23', '2025-05-22', '2025-05-21', '2025-05-20',\n",
       "       '2025-05-19', '2025-05-16', '2025-05-15', '2025-05-14', '2025-05-13',\n",
       "       '2025-05-12', '2025-05-09', '2025-05-08', '2025-05-07', '2025-05-06',\n",
       "       '2025-05-05', '2025-05-02', '2025-04-30', '2025-04-29', '2025-04-28',\n",
       "       '2025-04-25', '2025-04-24', '2025-04-23', '2025-04-22', '2025-04-21',\n",
       "       '2025-04-17', '2025-04-16', '2025-04-15', '2025-04-11', '2025-04-09',\n",
       "       '2025-04-08', '2025-04-07', '2025-04-04', '2025-04-03', '2025-04-02',\n",
       "       '2025-04-01', '2025-03-28', '2025-03-27', '2025-03-26', '2025-03-25',\n",
       "       '2025-03-24', '2025-03-21', '2025-03-20', '2025-03-19', '2025-03-18',\n",
       "       '2025-03-17', '2025-03-13', '2025-03-12', '2025-03-11', '2025-03-10',\n",
       "       '2025-03-07', '2025-03-06', '2025-03-05', '2025-03-04', '2025-03-03'],\n",
       "      dtype='object')"
      ]
     },
     "execution_count": 24,
     "metadata": {},
     "output_type": "execute_result"
    }
   ],
   "source": [
    "df.index"
   ]
  },
  {
   "cell_type": "code",
   "execution_count": 25,
   "id": "d207fa36",
   "metadata": {},
   "outputs": [],
   "source": [
    "#convert index into date format\n",
    "df.index = pd.to_datetime(df.index)"
   ]
  },
  {
   "cell_type": "code",
   "execution_count": 26,
   "id": "f04d8679",
   "metadata": {},
   "outputs": [
    {
     "data": {
      "text/plain": [
       "DatetimeIndex(['2025-07-28', '2025-07-25', '2025-07-24', '2025-07-23',\n",
       "               '2025-07-22', '2025-07-21', '2025-07-18', '2025-07-17',\n",
       "               '2025-07-16', '2025-07-15', '2025-07-14', '2025-07-11',\n",
       "               '2025-07-10', '2025-07-09', '2025-07-08', '2025-07-07',\n",
       "               '2025-07-04', '2025-07-03', '2025-07-02', '2025-07-01',\n",
       "               '2025-06-30', '2025-06-27', '2025-06-26', '2025-06-25',\n",
       "               '2025-06-24', '2025-06-23', '2025-06-20', '2025-06-19',\n",
       "               '2025-06-18', '2025-06-17', '2025-06-16', '2025-06-13',\n",
       "               '2025-06-12', '2025-06-11', '2025-06-10', '2025-06-09',\n",
       "               '2025-06-06', '2025-06-05', '2025-06-04', '2025-06-03',\n",
       "               '2025-06-02', '2025-05-30', '2025-05-29', '2025-05-28',\n",
       "               '2025-05-27', '2025-05-26', '2025-05-23', '2025-05-22',\n",
       "               '2025-05-21', '2025-05-20', '2025-05-19', '2025-05-16',\n",
       "               '2025-05-15', '2025-05-14', '2025-05-13', '2025-05-12',\n",
       "               '2025-05-09', '2025-05-08', '2025-05-07', '2025-05-06',\n",
       "               '2025-05-05', '2025-05-02', '2025-04-30', '2025-04-29',\n",
       "               '2025-04-28', '2025-04-25', '2025-04-24', '2025-04-23',\n",
       "               '2025-04-22', '2025-04-21', '2025-04-17', '2025-04-16',\n",
       "               '2025-04-15', '2025-04-11', '2025-04-09', '2025-04-08',\n",
       "               '2025-04-07', '2025-04-04', '2025-04-03', '2025-04-02',\n",
       "               '2025-04-01', '2025-03-28', '2025-03-27', '2025-03-26',\n",
       "               '2025-03-25', '2025-03-24', '2025-03-21', '2025-03-20',\n",
       "               '2025-03-19', '2025-03-18', '2025-03-17', '2025-03-13',\n",
       "               '2025-03-12', '2025-03-11', '2025-03-10', '2025-03-07',\n",
       "               '2025-03-06', '2025-03-05', '2025-03-04', '2025-03-03'],\n",
       "              dtype='datetime64[ns]', freq=None)"
      ]
     },
     "execution_count": 26,
     "metadata": {},
     "output_type": "execute_result"
    }
   ],
   "source": [
    "df.index"
   ]
  },
  {
   "cell_type": "code",
   "execution_count": 27,
   "id": "e768d3f5",
   "metadata": {},
   "outputs": [],
   "source": [
    "df.index.name = \"Date\""
   ]
  },
  {
   "cell_type": "code",
   "execution_count": 28,
   "id": "99145f8d",
   "metadata": {},
   "outputs": [
    {
     "data": {
      "text/html": [
       "<div>\n",
       "<style scoped>\n",
       "    .dataframe tbody tr th:only-of-type {\n",
       "        vertical-align: middle;\n",
       "    }\n",
       "\n",
       "    .dataframe tbody tr th {\n",
       "        vertical-align: top;\n",
       "    }\n",
       "\n",
       "    .dataframe thead th {\n",
       "        text-align: right;\n",
       "    }\n",
       "</style>\n",
       "<table border=\"1\" class=\"dataframe\">\n",
       "  <thead>\n",
       "    <tr style=\"text-align: right;\">\n",
       "      <th></th>\n",
       "      <th>1. open</th>\n",
       "      <th>2. high</th>\n",
       "      <th>3. low</th>\n",
       "      <th>4. close</th>\n",
       "      <th>5. volume</th>\n",
       "    </tr>\n",
       "    <tr>\n",
       "      <th>Date</th>\n",
       "      <th></th>\n",
       "      <th></th>\n",
       "      <th></th>\n",
       "      <th></th>\n",
       "      <th></th>\n",
       "    </tr>\n",
       "  </thead>\n",
       "  <tbody>\n",
       "    <tr>\n",
       "      <th>2025-07-28</th>\n",
       "      <td>842.8000</td>\n",
       "      <td>854.0000</td>\n",
       "      <td>828.8500</td>\n",
       "      <td>836.1000</td>\n",
       "      <td>8536</td>\n",
       "    </tr>\n",
       "    <tr>\n",
       "      <th>2025-07-25</th>\n",
       "      <td>851.1500</td>\n",
       "      <td>871.4000</td>\n",
       "      <td>835.0000</td>\n",
       "      <td>838.6500</td>\n",
       "      <td>53978</td>\n",
       "    </tr>\n",
       "    <tr>\n",
       "      <th>2025-07-24</th>\n",
       "      <td>850.2000</td>\n",
       "      <td>876.3000</td>\n",
       "      <td>840.0000</td>\n",
       "      <td>853.7500</td>\n",
       "      <td>89382</td>\n",
       "    </tr>\n",
       "    <tr>\n",
       "      <th>2025-07-23</th>\n",
       "      <td>793.3500</td>\n",
       "      <td>853.1000</td>\n",
       "      <td>793.3500</td>\n",
       "      <td>848.7000</td>\n",
       "      <td>75270</td>\n",
       "    </tr>\n",
       "    <tr>\n",
       "      <th>2025-07-22</th>\n",
       "      <td>803.0500</td>\n",
       "      <td>816.7500</td>\n",
       "      <td>799.5500</td>\n",
       "      <td>810.0000</td>\n",
       "      <td>19280</td>\n",
       "    </tr>\n",
       "  </tbody>\n",
       "</table>\n",
       "</div>"
      ],
      "text/plain": [
       "             1. open   2. high    3. low  4. close 5. volume\n",
       "Date                                                        \n",
       "2025-07-28  842.8000  854.0000  828.8500  836.1000      8536\n",
       "2025-07-25  851.1500  871.4000  835.0000  838.6500     53978\n",
       "2025-07-24  850.2000  876.3000  840.0000  853.7500     89382\n",
       "2025-07-23  793.3500  853.1000  793.3500  848.7000     75270\n",
       "2025-07-22  803.0500  816.7500  799.5500  810.0000     19280"
      ]
     },
     "execution_count": 28,
     "metadata": {},
     "output_type": "execute_result"
    }
   ],
   "source": [
    "df.head()"
   ]
  },
  {
   "cell_type": "code",
   "execution_count": 29,
   "id": "55eb54dd",
   "metadata": {},
   "outputs": [
    {
     "name": "stdout",
     "output_type": "stream",
     "text": [
      "Requirement already satisfied: plotly in c:\\users\\hp\\anaconda3\\lib\\site-packages (5.24.1)Note: you may need to restart the kernel to use updated packages.\n",
      "\n",
      "Requirement already satisfied: tenacity>=6.2.0 in c:\\users\\hp\\anaconda3\\lib\\site-packages (from plotly) (8.2.3)\n",
      "Requirement already satisfied: packaging in c:\\users\\hp\\anaconda3\\lib\\site-packages (from plotly) (24.1)\n"
     ]
    }
   ],
   "source": [
    "%pip install plotly"
   ]
  },
  {
   "cell_type": "code",
   "execution_count": 30,
   "id": "75641d17",
   "metadata": {},
   "outputs": [
    {
     "data": {
      "text/plain": [
       "Index(['1. open', '2. high', '3. low', '4. close', '5. volume'], dtype='object')"
      ]
     },
     "execution_count": 30,
     "metadata": {},
     "output_type": "execute_result"
    }
   ],
   "source": [
    "df.columns"
   ]
  },
  {
   "cell_type": "code",
   "execution_count": 31,
   "id": "fbeaaf92",
   "metadata": {},
   "outputs": [],
   "source": [
    "import plotly.graph_objects as go"
   ]
  },
  {
   "cell_type": "code",
   "execution_count": 32,
   "id": "cde83cb8",
   "metadata": {},
   "outputs": [
    {
     "data": {
      "application/vnd.plotly.v1+json": {
       "config": {
        "plotlyServerURL": "https://plot.ly"
       },
       "data": [
        {
         "close": [
          "836.1000",
          "838.6500",
          "853.7500",
          "848.7000",
          "810.0000",
          "806.7000",
          "801.2000",
          "787.8500",
          "777.2500",
          "774.7500",
          "774.6000",
          "780.4500",
          "768.9500",
          "777.4500",
          "782.4000",
          "785.1000",
          "781.8000",
          "788.9000",
          "801.7500",
          "786.2000",
          "782.0000",
          "784.8000",
          "771.8500",
          "764.5000",
          "751.1000",
          "746.9000",
          "762.2000",
          "745.2000",
          "762.8500",
          "771.1500",
          "773.7000",
          "787.1000",
          "771.7000",
          "793.0000",
          "807.6000",
          "818.7500",
          "805.7000",
          "818.0000",
          "815.2000",
          "791.2500",
          "763.2500",
          "761.2500",
          "753.8000",
          "746.9500",
          "753.1000",
          "747.7500",
          "744.8500",
          "743.5000",
          "740.3500",
          "739.0500",
          "749.4500",
          "732.9500",
          "732.1500",
          "726.8000",
          "728.0000",
          "717.3000",
          "704.0500",
          "676.3000",
          "695.8000",
          "697.2500",
          "667.0000",
          "664.6000",
          "771.6500",
          "770.5000",
          "783.0500",
          "767.9000",
          "795.2000",
          "772.4000",
          "770.0000",
          "756.8500",
          "766.1500",
          "769.5500",
          "778.2000",
          "767.4000",
          "741.6000",
          "721.1500",
          "701.1500",
          "738.3000",
          "769.5500",
          "781.1500",
          "750.2500",
          "754.1500",
          "759.7500",
          "766.3500",
          "773.9000",
          "786.7000",
          "769.6000",
          "758.7000",
          "761.8500",
          "766.7500",
          "725.4500",
          "721.0000",
          "733.5500",
          "735.6500",
          "745.7000",
          "762.3000",
          "771.2000",
          "761.2500",
          "739.4000",
          "719.7500"
         ],
         "high": [
          "854.0000",
          "871.4000",
          "876.3000",
          "853.1000",
          "816.7500",
          "811.1500",
          "816.9500",
          "795.0000",
          "784.2500",
          "786.0000",
          "784.0000",
          "783.7500",
          "781.0500",
          "781.6500",
          "786.9500",
          "797.6500",
          "794.0500",
          "803.5500",
          "812.4500",
          "791.0000",
          "792.2500",
          "791.2000",
          "774.0000",
          "780.7500",
          "788.9000",
          "788.9500",
          "768.7000",
          "768.4500",
          "777.8000",
          "784.1000",
          "787.0000",
          "790.9000",
          "796.7500",
          "811.6500",
          "834.9500",
          "825.0000",
          "819.9500",
          "827.0000",
          "826.6500",
          "794.0000",
          "766.0000",
          "774.0500",
          "756.3500",
          "760.0000",
          "754.5000",
          "752.3000",
          "752.8000",
          "749.8000",
          "755.3000",
          "757.4500",
          "752.6500",
          "748.5500",
          "746.4500",
          "745.0000",
          "729.4000",
          "720.8000",
          "708.6000",
          "705.5000",
          "702.4000",
          "706.9000",
          "672.9000",
          "755.9500",
          "783.5500",
          "785.7000",
          "790.0000",
          "810.0000",
          "799.0000",
          "778.7000",
          "775.7000",
          "768.0500",
          "789.9500",
          "788.9500",
          "791.7000",
          "783.0500",
          "743.9500",
          "729.5000",
          "707.7000",
          "765.1000",
          "786.4500",
          "784.8000",
          "755.6500",
          "774.9500",
          "777.9500",
          "786.4500",
          "798.9500",
          "810.9500",
          "797.6000",
          "773.3500",
          "773.9500",
          "774.5000",
          "728.3000",
          "757.9500",
          "766.7500",
          "758.1000",
          "774.9500",
          "778.9500",
          "784.5000",
          "766.8000",
          "748.8500",
          "750.4500"
         ],
         "low": [
          "828.8500",
          "835.0000",
          "840.0000",
          "793.3500",
          "799.5500",
          "795.0000",
          "784.4500",
          "778.7000",
          "770.9500",
          "761.1000",
          "769.2000",
          "750.0500",
          "765.4000",
          "772.2500",
          "776.0500",
          "775.0000",
          "773.5500",
          "785.2500",
          "780.3000",
          "777.4500",
          "772.0500",
          "766.3500",
          "760.2500",
          "746.3000",
          "743.6000",
          "745.2500",
          "740.7000",
          "740.9500",
          "761.0000",
          "768.7500",
          "767.9500",
          "761.8000",
          "770.1000",
          "787.4000",
          "806.0000",
          "805.0000",
          "802.4000",
          "805.6500",
          "785.0500",
          "768.2500",
          "749.4000",
          "750.5500",
          "748.5500",
          "742.5000",
          "744.0500",
          "730.0000",
          "740.9500",
          "735.5500",
          "736.1500",
          "736.9500",
          "730.3500",
          "727.7000",
          "727.2500",
          "723.2000",
          "718.0000",
          "705.6500",
          "663.0000",
          "669.9500",
          "677.7000",
          "669.1500",
          "655.8000",
          "655.0000",
          "764.0500",
          "765.7000",
          "768.0000",
          "756.1000",
          "766.3000",
          "765.2500",
          "745.0000",
          "752.1500",
          "756.0000",
          "766.0500",
          "773.3500",
          "749.8000",
          "710.1500",
          "702.0500",
          "673.0000",
          "723.5500",
          "762.7000",
          "744.5000",
          "740.2000",
          "750.0000",
          "742.0000",
          "761.5500",
          "760.1500",
          "758.3000",
          "754.6000",
          "755.0000",
          "752.2500",
          "723.3500",
          "714.5000",
          "715.3500",
          "730.1000",
          "730.4500",
          "742.9500",
          "756.0500",
          "753.8000",
          "738.2000",
          "711.5000",
          "709.0500"
         ],
         "open": [
          "842.8000",
          "851.1500",
          "850.2000",
          "793.3500",
          "803.0500",
          "809.9500",
          "790.6000",
          "778.7500",
          "770.9500",
          "761.1000",
          "769.2000",
          "750.0500",
          "779.9500",
          "781.0000",
          "781.0500",
          "785.5500",
          "788.9000",
          "803.5500",
          "780.3000",
          "782.0000",
          "772.0500",
          "771.3000",
          "769.8000",
          "780.7500",
          "788.8000",
          "788.9500",
          "752.8500",
          "761.9500",
          "771.2000",
          "775.6000",
          "777.4000",
          "769.9500",
          "794.5000",
          "807.8500",
          "834.9500",
          "814.0000",
          "818.0000",
          "817.1500",
          "785.0500",
          "768.9500",
          "764.0000",
          "759.8000",
          "748.8000",
          "757.0000",
          "744.4500",
          "730.0000",
          "740.9500",
          "740.3500",
          "740.0000",
          "746.1500",
          "730.3500",
          "736.7500",
          "730.0500",
          "728.1000",
          "723.9000",
          "705.6500",
          "679.0000",
          "697.0000",
          "677.7000",
          "669.8000",
          "663.5500",
          "754.4000",
          "772.0000",
          "783.1000",
          "768.5500",
          "810.0000",
          "772.8500",
          "774.3500",
          "745.0000",
          "764.8500",
          "771.6500",
          "788.9500",
          "779.9500",
          "763.9500",
          "716.4500",
          "705.5500",
          "707.7000",
          "765.1000",
          "782.0000",
          "768.4000",
          "751.1500",
          "753.5500",
          "767.5500",
          "780.0000",
          "798.9500",
          "762.0500",
          "755.0500",
          "764.0500",
          "773.9500",
          "724.0000",
          "722.5500",
          "757.9500",
          "763.5500",
          "735.7000",
          "774.9500",
          "778.9500",
          "773.5000",
          "753.2000",
          "720.0000",
          "709.0500"
         ],
         "type": "candlestick",
         "x": [
          "2025-07-28T00:00:00",
          "2025-07-25T00:00:00",
          "2025-07-24T00:00:00",
          "2025-07-23T00:00:00",
          "2025-07-22T00:00:00",
          "2025-07-21T00:00:00",
          "2025-07-18T00:00:00",
          "2025-07-17T00:00:00",
          "2025-07-16T00:00:00",
          "2025-07-15T00:00:00",
          "2025-07-14T00:00:00",
          "2025-07-11T00:00:00",
          "2025-07-10T00:00:00",
          "2025-07-09T00:00:00",
          "2025-07-08T00:00:00",
          "2025-07-07T00:00:00",
          "2025-07-04T00:00:00",
          "2025-07-03T00:00:00",
          "2025-07-02T00:00:00",
          "2025-07-01T00:00:00",
          "2025-06-30T00:00:00",
          "2025-06-27T00:00:00",
          "2025-06-26T00:00:00",
          "2025-06-25T00:00:00",
          "2025-06-24T00:00:00",
          "2025-06-23T00:00:00",
          "2025-06-20T00:00:00",
          "2025-06-19T00:00:00",
          "2025-06-18T00:00:00",
          "2025-06-17T00:00:00",
          "2025-06-16T00:00:00",
          "2025-06-13T00:00:00",
          "2025-06-12T00:00:00",
          "2025-06-11T00:00:00",
          "2025-06-10T00:00:00",
          "2025-06-09T00:00:00",
          "2025-06-06T00:00:00",
          "2025-06-05T00:00:00",
          "2025-06-04T00:00:00",
          "2025-06-03T00:00:00",
          "2025-06-02T00:00:00",
          "2025-05-30T00:00:00",
          "2025-05-29T00:00:00",
          "2025-05-28T00:00:00",
          "2025-05-27T00:00:00",
          "2025-05-26T00:00:00",
          "2025-05-23T00:00:00",
          "2025-05-22T00:00:00",
          "2025-05-21T00:00:00",
          "2025-05-20T00:00:00",
          "2025-05-19T00:00:00",
          "2025-05-16T00:00:00",
          "2025-05-15T00:00:00",
          "2025-05-14T00:00:00",
          "2025-05-13T00:00:00",
          "2025-05-12T00:00:00",
          "2025-05-09T00:00:00",
          "2025-05-08T00:00:00",
          "2025-05-07T00:00:00",
          "2025-05-06T00:00:00",
          "2025-05-05T00:00:00",
          "2025-05-02T00:00:00",
          "2025-04-30T00:00:00",
          "2025-04-29T00:00:00",
          "2025-04-28T00:00:00",
          "2025-04-25T00:00:00",
          "2025-04-24T00:00:00",
          "2025-04-23T00:00:00",
          "2025-04-22T00:00:00",
          "2025-04-21T00:00:00",
          "2025-04-17T00:00:00",
          "2025-04-16T00:00:00",
          "2025-04-15T00:00:00",
          "2025-04-11T00:00:00",
          "2025-04-09T00:00:00",
          "2025-04-08T00:00:00",
          "2025-04-07T00:00:00",
          "2025-04-04T00:00:00",
          "2025-04-03T00:00:00",
          "2025-04-02T00:00:00",
          "2025-04-01T00:00:00",
          "2025-03-28T00:00:00",
          "2025-03-27T00:00:00",
          "2025-03-26T00:00:00",
          "2025-03-25T00:00:00",
          "2025-03-24T00:00:00",
          "2025-03-21T00:00:00",
          "2025-03-20T00:00:00",
          "2025-03-19T00:00:00",
          "2025-03-18T00:00:00",
          "2025-03-17T00:00:00",
          "2025-03-13T00:00:00",
          "2025-03-12T00:00:00",
          "2025-03-11T00:00:00",
          "2025-03-10T00:00:00",
          "2025-03-07T00:00:00",
          "2025-03-06T00:00:00",
          "2025-03-05T00:00:00",
          "2025-03-04T00:00:00",
          "2025-03-03T00:00:00"
         ]
        }
       ],
       "layout": {
        "template": {
         "data": {
          "bar": [
           {
            "error_x": {
             "color": "#2a3f5f"
            },
            "error_y": {
             "color": "#2a3f5f"
            },
            "marker": {
             "line": {
              "color": "#E5ECF6",
              "width": 0.5
             },
             "pattern": {
              "fillmode": "overlay",
              "size": 10,
              "solidity": 0.2
             }
            },
            "type": "bar"
           }
          ],
          "barpolar": [
           {
            "marker": {
             "line": {
              "color": "#E5ECF6",
              "width": 0.5
             },
             "pattern": {
              "fillmode": "overlay",
              "size": 10,
              "solidity": 0.2
             }
            },
            "type": "barpolar"
           }
          ],
          "carpet": [
           {
            "aaxis": {
             "endlinecolor": "#2a3f5f",
             "gridcolor": "white",
             "linecolor": "white",
             "minorgridcolor": "white",
             "startlinecolor": "#2a3f5f"
            },
            "baxis": {
             "endlinecolor": "#2a3f5f",
             "gridcolor": "white",
             "linecolor": "white",
             "minorgridcolor": "white",
             "startlinecolor": "#2a3f5f"
            },
            "type": "carpet"
           }
          ],
          "choropleth": [
           {
            "colorbar": {
             "outlinewidth": 0,
             "ticks": ""
            },
            "type": "choropleth"
           }
          ],
          "contour": [
           {
            "colorbar": {
             "outlinewidth": 0,
             "ticks": ""
            },
            "colorscale": [
             [
              0,
              "#0d0887"
             ],
             [
              0.1111111111111111,
              "#46039f"
             ],
             [
              0.2222222222222222,
              "#7201a8"
             ],
             [
              0.3333333333333333,
              "#9c179e"
             ],
             [
              0.4444444444444444,
              "#bd3786"
             ],
             [
              0.5555555555555556,
              "#d8576b"
             ],
             [
              0.6666666666666666,
              "#ed7953"
             ],
             [
              0.7777777777777778,
              "#fb9f3a"
             ],
             [
              0.8888888888888888,
              "#fdca26"
             ],
             [
              1,
              "#f0f921"
             ]
            ],
            "type": "contour"
           }
          ],
          "contourcarpet": [
           {
            "colorbar": {
             "outlinewidth": 0,
             "ticks": ""
            },
            "type": "contourcarpet"
           }
          ],
          "heatmap": [
           {
            "colorbar": {
             "outlinewidth": 0,
             "ticks": ""
            },
            "colorscale": [
             [
              0,
              "#0d0887"
             ],
             [
              0.1111111111111111,
              "#46039f"
             ],
             [
              0.2222222222222222,
              "#7201a8"
             ],
             [
              0.3333333333333333,
              "#9c179e"
             ],
             [
              0.4444444444444444,
              "#bd3786"
             ],
             [
              0.5555555555555556,
              "#d8576b"
             ],
             [
              0.6666666666666666,
              "#ed7953"
             ],
             [
              0.7777777777777778,
              "#fb9f3a"
             ],
             [
              0.8888888888888888,
              "#fdca26"
             ],
             [
              1,
              "#f0f921"
             ]
            ],
            "type": "heatmap"
           }
          ],
          "heatmapgl": [
           {
            "colorbar": {
             "outlinewidth": 0,
             "ticks": ""
            },
            "colorscale": [
             [
              0,
              "#0d0887"
             ],
             [
              0.1111111111111111,
              "#46039f"
             ],
             [
              0.2222222222222222,
              "#7201a8"
             ],
             [
              0.3333333333333333,
              "#9c179e"
             ],
             [
              0.4444444444444444,
              "#bd3786"
             ],
             [
              0.5555555555555556,
              "#d8576b"
             ],
             [
              0.6666666666666666,
              "#ed7953"
             ],
             [
              0.7777777777777778,
              "#fb9f3a"
             ],
             [
              0.8888888888888888,
              "#fdca26"
             ],
             [
              1,
              "#f0f921"
             ]
            ],
            "type": "heatmapgl"
           }
          ],
          "histogram": [
           {
            "marker": {
             "pattern": {
              "fillmode": "overlay",
              "size": 10,
              "solidity": 0.2
             }
            },
            "type": "histogram"
           }
          ],
          "histogram2d": [
           {
            "colorbar": {
             "outlinewidth": 0,
             "ticks": ""
            },
            "colorscale": [
             [
              0,
              "#0d0887"
             ],
             [
              0.1111111111111111,
              "#46039f"
             ],
             [
              0.2222222222222222,
              "#7201a8"
             ],
             [
              0.3333333333333333,
              "#9c179e"
             ],
             [
              0.4444444444444444,
              "#bd3786"
             ],
             [
              0.5555555555555556,
              "#d8576b"
             ],
             [
              0.6666666666666666,
              "#ed7953"
             ],
             [
              0.7777777777777778,
              "#fb9f3a"
             ],
             [
              0.8888888888888888,
              "#fdca26"
             ],
             [
              1,
              "#f0f921"
             ]
            ],
            "type": "histogram2d"
           }
          ],
          "histogram2dcontour": [
           {
            "colorbar": {
             "outlinewidth": 0,
             "ticks": ""
            },
            "colorscale": [
             [
              0,
              "#0d0887"
             ],
             [
              0.1111111111111111,
              "#46039f"
             ],
             [
              0.2222222222222222,
              "#7201a8"
             ],
             [
              0.3333333333333333,
              "#9c179e"
             ],
             [
              0.4444444444444444,
              "#bd3786"
             ],
             [
              0.5555555555555556,
              "#d8576b"
             ],
             [
              0.6666666666666666,
              "#ed7953"
             ],
             [
              0.7777777777777778,
              "#fb9f3a"
             ],
             [
              0.8888888888888888,
              "#fdca26"
             ],
             [
              1,
              "#f0f921"
             ]
            ],
            "type": "histogram2dcontour"
           }
          ],
          "mesh3d": [
           {
            "colorbar": {
             "outlinewidth": 0,
             "ticks": ""
            },
            "type": "mesh3d"
           }
          ],
          "parcoords": [
           {
            "line": {
             "colorbar": {
              "outlinewidth": 0,
              "ticks": ""
             }
            },
            "type": "parcoords"
           }
          ],
          "pie": [
           {
            "automargin": true,
            "type": "pie"
           }
          ],
          "scatter": [
           {
            "fillpattern": {
             "fillmode": "overlay",
             "size": 10,
             "solidity": 0.2
            },
            "type": "scatter"
           }
          ],
          "scatter3d": [
           {
            "line": {
             "colorbar": {
              "outlinewidth": 0,
              "ticks": ""
             }
            },
            "marker": {
             "colorbar": {
              "outlinewidth": 0,
              "ticks": ""
             }
            },
            "type": "scatter3d"
           }
          ],
          "scattercarpet": [
           {
            "marker": {
             "colorbar": {
              "outlinewidth": 0,
              "ticks": ""
             }
            },
            "type": "scattercarpet"
           }
          ],
          "scattergeo": [
           {
            "marker": {
             "colorbar": {
              "outlinewidth": 0,
              "ticks": ""
             }
            },
            "type": "scattergeo"
           }
          ],
          "scattergl": [
           {
            "marker": {
             "colorbar": {
              "outlinewidth": 0,
              "ticks": ""
             }
            },
            "type": "scattergl"
           }
          ],
          "scattermapbox": [
           {
            "marker": {
             "colorbar": {
              "outlinewidth": 0,
              "ticks": ""
             }
            },
            "type": "scattermapbox"
           }
          ],
          "scatterpolar": [
           {
            "marker": {
             "colorbar": {
              "outlinewidth": 0,
              "ticks": ""
             }
            },
            "type": "scatterpolar"
           }
          ],
          "scatterpolargl": [
           {
            "marker": {
             "colorbar": {
              "outlinewidth": 0,
              "ticks": ""
             }
            },
            "type": "scatterpolargl"
           }
          ],
          "scatterternary": [
           {
            "marker": {
             "colorbar": {
              "outlinewidth": 0,
              "ticks": ""
             }
            },
            "type": "scatterternary"
           }
          ],
          "surface": [
           {
            "colorbar": {
             "outlinewidth": 0,
             "ticks": ""
            },
            "colorscale": [
             [
              0,
              "#0d0887"
             ],
             [
              0.1111111111111111,
              "#46039f"
             ],
             [
              0.2222222222222222,
              "#7201a8"
             ],
             [
              0.3333333333333333,
              "#9c179e"
             ],
             [
              0.4444444444444444,
              "#bd3786"
             ],
             [
              0.5555555555555556,
              "#d8576b"
             ],
             [
              0.6666666666666666,
              "#ed7953"
             ],
             [
              0.7777777777777778,
              "#fb9f3a"
             ],
             [
              0.8888888888888888,
              "#fdca26"
             ],
             [
              1,
              "#f0f921"
             ]
            ],
            "type": "surface"
           }
          ],
          "table": [
           {
            "cells": {
             "fill": {
              "color": "#EBF0F8"
             },
             "line": {
              "color": "white"
             }
            },
            "header": {
             "fill": {
              "color": "#C8D4E3"
             },
             "line": {
              "color": "white"
             }
            },
            "type": "table"
           }
          ]
         },
         "layout": {
          "annotationdefaults": {
           "arrowcolor": "#2a3f5f",
           "arrowhead": 0,
           "arrowwidth": 1
          },
          "autotypenumbers": "strict",
          "coloraxis": {
           "colorbar": {
            "outlinewidth": 0,
            "ticks": ""
           }
          },
          "colorscale": {
           "diverging": [
            [
             0,
             "#8e0152"
            ],
            [
             0.1,
             "#c51b7d"
            ],
            [
             0.2,
             "#de77ae"
            ],
            [
             0.3,
             "#f1b6da"
            ],
            [
             0.4,
             "#fde0ef"
            ],
            [
             0.5,
             "#f7f7f7"
            ],
            [
             0.6,
             "#e6f5d0"
            ],
            [
             0.7,
             "#b8e186"
            ],
            [
             0.8,
             "#7fbc41"
            ],
            [
             0.9,
             "#4d9221"
            ],
            [
             1,
             "#276419"
            ]
           ],
           "sequential": [
            [
             0,
             "#0d0887"
            ],
            [
             0.1111111111111111,
             "#46039f"
            ],
            [
             0.2222222222222222,
             "#7201a8"
            ],
            [
             0.3333333333333333,
             "#9c179e"
            ],
            [
             0.4444444444444444,
             "#bd3786"
            ],
            [
             0.5555555555555556,
             "#d8576b"
            ],
            [
             0.6666666666666666,
             "#ed7953"
            ],
            [
             0.7777777777777778,
             "#fb9f3a"
            ],
            [
             0.8888888888888888,
             "#fdca26"
            ],
            [
             1,
             "#f0f921"
            ]
           ],
           "sequentialminus": [
            [
             0,
             "#0d0887"
            ],
            [
             0.1111111111111111,
             "#46039f"
            ],
            [
             0.2222222222222222,
             "#7201a8"
            ],
            [
             0.3333333333333333,
             "#9c179e"
            ],
            [
             0.4444444444444444,
             "#bd3786"
            ],
            [
             0.5555555555555556,
             "#d8576b"
            ],
            [
             0.6666666666666666,
             "#ed7953"
            ],
            [
             0.7777777777777778,
             "#fb9f3a"
            ],
            [
             0.8888888888888888,
             "#fdca26"
            ],
            [
             1,
             "#f0f921"
            ]
           ]
          },
          "colorway": [
           "#636efa",
           "#EF553B",
           "#00cc96",
           "#ab63fa",
           "#FFA15A",
           "#19d3f3",
           "#FF6692",
           "#B6E880",
           "#FF97FF",
           "#FECB52"
          ],
          "font": {
           "color": "#2a3f5f"
          },
          "geo": {
           "bgcolor": "white",
           "lakecolor": "white",
           "landcolor": "#E5ECF6",
           "showlakes": true,
           "showland": true,
           "subunitcolor": "white"
          },
          "hoverlabel": {
           "align": "left"
          },
          "hovermode": "closest",
          "mapbox": {
           "style": "light"
          },
          "paper_bgcolor": "white",
          "plot_bgcolor": "#E5ECF6",
          "polar": {
           "angularaxis": {
            "gridcolor": "white",
            "linecolor": "white",
            "ticks": ""
           },
           "bgcolor": "#E5ECF6",
           "radialaxis": {
            "gridcolor": "white",
            "linecolor": "white",
            "ticks": ""
           }
          },
          "scene": {
           "xaxis": {
            "backgroundcolor": "#E5ECF6",
            "gridcolor": "white",
            "gridwidth": 2,
            "linecolor": "white",
            "showbackground": true,
            "ticks": "",
            "zerolinecolor": "white"
           },
           "yaxis": {
            "backgroundcolor": "#E5ECF6",
            "gridcolor": "white",
            "gridwidth": 2,
            "linecolor": "white",
            "showbackground": true,
            "ticks": "",
            "zerolinecolor": "white"
           },
           "zaxis": {
            "backgroundcolor": "#E5ECF6",
            "gridcolor": "white",
            "gridwidth": 2,
            "linecolor": "white",
            "showbackground": true,
            "ticks": "",
            "zerolinecolor": "white"
           }
          },
          "shapedefaults": {
           "line": {
            "color": "#2a3f5f"
           }
          },
          "ternary": {
           "aaxis": {
            "gridcolor": "white",
            "linecolor": "white",
            "ticks": ""
           },
           "baxis": {
            "gridcolor": "white",
            "linecolor": "white",
            "ticks": ""
           },
           "bgcolor": "#E5ECF6",
           "caxis": {
            "gridcolor": "white",
            "linecolor": "white",
            "ticks": ""
           }
          },
          "title": {
           "x": 0.05
          },
          "xaxis": {
           "automargin": true,
           "gridcolor": "white",
           "linecolor": "white",
           "ticks": "",
           "title": {
            "standoff": 15
           },
           "zerolinecolor": "white",
           "zerolinewidth": 2
          },
          "yaxis": {
           "automargin": true,
           "gridcolor": "white",
           "linecolor": "white",
           "ticks": "",
           "title": {
            "standoff": 15
           },
           "zerolinecolor": "white",
           "zerolinewidth": 2
          }
         }
        },
        "title": {
         "text": "Candelstick_chart"
        },
        "xaxis": {
         "title": {
          "text": "Date"
         }
        },
        "yaxis": {
         "title": {
          "text": "Shares"
         }
        }
       }
      }
     },
     "metadata": {},
     "output_type": "display_data"
    }
   ],
   "source": [
    "fig = go.Figure(data=[go.Candlestick(x=df.index,\n",
    "                open=df['1. open'],\n",
    "                high=df['2. high'],\n",
    "                low=df['3. low'],\n",
    "                close=df['4. close'])])\n",
    "\n",
    "\n",
    "fig.update_layout(title= \"Candelstick_chart\" ,  xaxis_title  =\"Date\" , yaxis_title  = \"Shares\")"
   ]
  },
  {
   "cell_type": "code",
   "execution_count": 33,
   "id": "9e8240c6",
   "metadata": {},
   "outputs": [],
   "source": [
    "import pandas as pd\n",
    "import plotly.graph_objects as go\n",
    "import requests\n",
    " \n",
    "class  STOCKAPI:\n",
    "    def __init__(self , api_key):\n",
    "        self.api_key  =  api_key\n",
    "        self.url = \"https://alpha-vantage.p.rapidapi.com/query\"\n",
    "        self.headers = {\"x-rapidapi-key\": self.api_key,\n",
    "                        \"x-rapidapi-host\": \"alpha-vantage.p.rapidapi.com\"}\n",
    "       \n",
    " \n",
    "        # create method for symbol search\n",
    " \n",
    "    def symbol_search(self , keyword):\n",
    "        querystring = {\"datatype\":\"json\",\n",
    "                           \"keywords\":keyword,\n",
    "                           \"function\":\"SYMBOL_SEARCH\"}\n",
    "        response = requests.get(self.url,\n",
    "                                headers=self.headers,\n",
    "                                params=querystring)\n",
    " \n",
    "        data  =  response.json()\n",
    "        dict1 =  {}\n",
    "        for  i  in  data['bestMatches']:\n",
    "            symbols  =  i['1. symbol']\n",
    "            dict1[symbols] = [i['2. name'] ,  i['4. region'] , i['8. currency']]\n",
    "        return  dict1\n",
    "   \n",
    "    # create method to get time series daily data\n",
    "   \n",
    " \n",
    "    def  Time_Series_Daily(self ,  symbol):\n",
    "        querystring = {\"function\":\"TIME_SERIES_DAILY\",\n",
    "                       \"symbol\":symbol,\n",
    "                       \"outputsize\":\"compact\",\n",
    "                       \"datatype\":\"json\"}\n",
    "        response = requests.get(self.url, headers=self.headers, params=querystring)\n",
    "        data1  = response.json()\n",
    " \n",
    "        # convert in dataframe\n",
    "        df1  =  data1['Time Series (Daily)']\n",
    "        df =  pd.DataFrame(df1).T\n",
    " \n",
    "        # change datatype\n",
    "        df  =  df.astype('float')\n",
    " \n",
    "        # change index data type\n",
    "        df.index  =  pd.to_datetime(df.index)\n",
    " \n",
    "        # give name to  index\n",
    "        df.index.name  =  \"Date\"\n",
    "        return  df\n",
    "   \n",
    " \n",
    "    # plot the data\n",
    " \n",
    "    def candelstick_chart(self , df):\n",
    "        fig = go.Figure(data=[go.Candlestick(x=df.index,\n",
    "                open=df['1. open'],\n",
    "                high=df['2. high'],\n",
    "                low=df['3. low'],\n",
    "                close=df['4. close'])])\n",
    "        fig.update_layout(title= \"Candelstick_chart\" ,  xaxis_title  =\"Date\" , yaxis_title  = \"Shares\")\n",
    "        return fig"
   ]
  },
  {
   "cell_type": "code",
   "execution_count": null,
   "id": "d1770b12",
   "metadata": {},
   "outputs": [],
   "source": []
  }
 ],
 "metadata": {
  "kernelspec": {
   "display_name": "base",
   "language": "python",
   "name": "python3"
  },
  "language_info": {
   "codemirror_mode": {
    "name": "ipython",
    "version": 3
   },
   "file_extension": ".py",
   "mimetype": "text/x-python",
   "name": "python",
   "nbconvert_exporter": "python",
   "pygments_lexer": "ipython3",
   "version": "3.12.7"
  }
 },
 "nbformat": 4,
 "nbformat_minor": 5
}
