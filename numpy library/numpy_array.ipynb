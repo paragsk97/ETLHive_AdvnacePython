{
 "cells": [
  {
   "attachments": {
    "image.png": {
     "image/png": "[encoded data removed]"
    }
   },
   "cell_type": "markdown",
   "id": "45fd0f97",
   "metadata": {},
   "source": [
    "![image.png](attachment:image.png)"
   ]
  },
  {
   "cell_type": "code",
   "execution_count": 91,
   "id": "624d2f3f",
   "metadata": {},
   "outputs": [
    {
     "data": {
      "text/plain": [
       "[12, 35, 67, 7]"
      ]
     },
     "execution_count": 91,
     "metadata": {},
     "output_type": "execute_result"
    }
   ],
   "source": [
    "l = [12, 35, 67, 7]\n",
    "l"
   ]
  },
  {
   "cell_type": "code",
   "execution_count": 92,
   "id": "408234ad",
   "metadata": {},
   "outputs": [],
   "source": [
    "import numpy as np"
   ]
  },
  {
   "cell_type": "code",
   "execution_count": 93,
   "id": "cafa34a5",
   "metadata": {},
   "outputs": [],
   "source": [
    "ar1 = np.array(l)"
   ]
  },
  {
   "cell_type": "code",
   "execution_count": 94,
   "id": "fc7b7e5d",
   "metadata": {},
   "outputs": [
    {
     "data": {
      "text/plain": [
       "array([12, 35, 67,  7])"
      ]
     },
     "execution_count": 94,
     "metadata": {},
     "output_type": "execute_result"
    }
   ],
   "source": [
    "ar1"
   ]
  },
  {
   "cell_type": "markdown",
   "id": "c4433115",
   "metadata": {},
   "source": [
    "## attributes used\n",
    "- ndim\n",
    "- size\n",
    "- shape"
   ]
  },
  {
   "cell_type": "code",
   "execution_count": 95,
   "id": "e68c1ec8",
   "metadata": {},
   "outputs": [
    {
     "data": {
      "text/plain": [
       "1"
      ]
     },
     "execution_count": 95,
     "metadata": {},
     "output_type": "execute_result"
    }
   ],
   "source": [
    "ar1.ndim"
   ]
  },
  {
   "cell_type": "code",
   "execution_count": 96,
   "id": "75b025ad",
   "metadata": {},
   "outputs": [
    {
     "data": {
      "text/plain": [
       "4"
      ]
     },
     "execution_count": 96,
     "metadata": {},
     "output_type": "execute_result"
    }
   ],
   "source": [
    "ar1.size"
   ]
  },
  {
   "cell_type": "code",
   "execution_count": 97,
   "id": "1f4adc1a",
   "metadata": {},
   "outputs": [
    {
     "data": {
      "text/plain": [
       "(4,)"
      ]
     },
     "execution_count": 97,
     "metadata": {},
     "output_type": "execute_result"
    }
   ],
   "source": [
    "ar1.shape"
   ]
  },
  {
   "cell_type": "code",
   "execution_count": 98,
   "id": "cad1f6bf",
   "metadata": {},
   "outputs": [
    {
     "data": {
      "text/plain": [
       "numpy.ndarray"
      ]
     },
     "execution_count": 98,
     "metadata": {},
     "output_type": "execute_result"
    }
   ],
   "source": [
    "type(ar1)"
   ]
  },
  {
   "cell_type": "code",
   "execution_count": 99,
   "id": "5c3a25c7",
   "metadata": {},
   "outputs": [
    {
     "data": {
      "text/plain": [
       "dtype('int32')"
      ]
     },
     "execution_count": 99,
     "metadata": {},
     "output_type": "execute_result"
    }
   ],
   "source": [
    "ar1.dtype"
   ]
  },
  {
   "cell_type": "code",
   "execution_count": 100,
   "id": "fe95833e",
   "metadata": {},
   "outputs": [],
   "source": [
    "ar2 = np.array(['s','v',23, 56])"
   ]
  },
  {
   "cell_type": "code",
   "execution_count": 101,
   "id": "90c58ac8",
   "metadata": {},
   "outputs": [
    {
     "data": {
      "text/plain": [
       "array(['s', 'v', '23', '56'], dtype='<U11')"
      ]
     },
     "execution_count": 101,
     "metadata": {},
     "output_type": "execute_result"
    }
   ],
   "source": [
    "ar2"
   ]
  },
  {
   "cell_type": "code",
   "execution_count": 102,
   "id": "aad23e26",
   "metadata": {},
   "outputs": [
    {
     "data": {
      "text/plain": [
       "dtype('<U11')"
      ]
     },
     "execution_count": 102,
     "metadata": {},
     "output_type": "execute_result"
    }
   ],
   "source": [
    "ar2.dtype"
   ]
  },
  {
   "cell_type": "code",
   "execution_count": 103,
   "id": "369ad0a5",
   "metadata": {},
   "outputs": [],
   "source": [
    "ar3 = np.array([12,34,45.56,56.78])"
   ]
  },
  {
   "cell_type": "code",
   "execution_count": 104,
   "id": "6814ed0b",
   "metadata": {},
   "outputs": [
    {
     "data": {
      "text/plain": [
       "dtype('float64')"
      ]
     },
     "execution_count": 104,
     "metadata": {},
     "output_type": "execute_result"
    }
   ],
   "source": [
    "ar3.dtype"
   ]
  },
  {
   "cell_type": "markdown",
   "id": "16688334",
   "metadata": {},
   "source": [
    "## array containes only homogeneous data types"
   ]
  },
  {
   "cell_type": "code",
   "execution_count": 105,
   "id": "57eaa427",
   "metadata": {},
   "outputs": [],
   "source": [
    "l1 = [[12,34,23, 45], [56,67,78,89]]\n"
   ]
  },
  {
   "cell_type": "code",
   "execution_count": 106,
   "id": "6f9f25c1",
   "metadata": {},
   "outputs": [],
   "source": [
    "ar4 = np.array(l1)"
   ]
  },
  {
   "cell_type": "code",
   "execution_count": 107,
   "id": "862143ab",
   "metadata": {},
   "outputs": [
    {
     "data": {
      "text/plain": [
       "2"
      ]
     },
     "execution_count": 107,
     "metadata": {},
     "output_type": "execute_result"
    }
   ],
   "source": [
    "ar4.ndim"
   ]
  },
  {
   "cell_type": "code",
   "execution_count": 108,
   "id": "0de61972",
   "metadata": {},
   "outputs": [
    {
     "data": {
      "text/plain": [
       "array([[12, 34, 23, 45],\n",
       "       [56, 67, 78, 89]])"
      ]
     },
     "execution_count": 108,
     "metadata": {},
     "output_type": "execute_result"
    }
   ],
   "source": [
    "ar4"
   ]
  },
  {
   "cell_type": "code",
   "execution_count": 109,
   "id": "4534afc1",
   "metadata": {},
   "outputs": [
    {
     "data": {
      "text/plain": [
       "(2, 4)"
      ]
     },
     "execution_count": 109,
     "metadata": {},
     "output_type": "execute_result"
    }
   ],
   "source": [
    "ar4.shape"
   ]
  },
  {
   "cell_type": "code",
   "execution_count": 110,
   "id": "897d455a",
   "metadata": {},
   "outputs": [
    {
     "data": {
      "text/plain": [
       "8"
      ]
     },
     "execution_count": 110,
     "metadata": {},
     "output_type": "execute_result"
    }
   ],
   "source": [
    "ar4.size"
   ]
  },
  {
   "cell_type": "code",
   "execution_count": 111,
   "id": "50c92981",
   "metadata": {},
   "outputs": [],
   "source": [
    "# create 3D Array\n",
    "l3 = [[[1,2,3], [4,5,6], [7,8,9]]]"
   ]
  },
  {
   "cell_type": "code",
   "execution_count": 112,
   "id": "637592e0",
   "metadata": {},
   "outputs": [],
   "source": [
    "ar5 = np.array(l3)"
   ]
  },
  {
   "cell_type": "code",
   "execution_count": 113,
   "id": "0146949a",
   "metadata": {},
   "outputs": [
    {
     "data": {
      "text/plain": [
       "array([[[1, 2, 3],\n",
       "        [4, 5, 6],\n",
       "        [7, 8, 9]]])"
      ]
     },
     "execution_count": 113,
     "metadata": {},
     "output_type": "execute_result"
    }
   ],
   "source": [
    "ar5"
   ]
  },
  {
   "cell_type": "code",
   "execution_count": 114,
   "id": "c29640e8",
   "metadata": {},
   "outputs": [
    {
     "data": {
      "text/plain": [
       "(1, 3, 3)"
      ]
     },
     "execution_count": 114,
     "metadata": {},
     "output_type": "execute_result"
    }
   ],
   "source": [
    "ar5.shape"
   ]
  },
  {
   "cell_type": "code",
   "execution_count": 115,
   "id": "f79df888",
   "metadata": {},
   "outputs": [
    {
     "data": {
      "text/plain": [
       "9"
      ]
     },
     "execution_count": 115,
     "metadata": {},
     "output_type": "execute_result"
    }
   ],
   "source": [
    "ar5.size"
   ]
  },
  {
   "cell_type": "code",
   "execution_count": 116,
   "id": "247e9e0c",
   "metadata": {},
   "outputs": [
    {
     "data": {
      "text/plain": [
       "3"
      ]
     },
     "execution_count": 116,
     "metadata": {},
     "output_type": "execute_result"
    }
   ],
   "source": [
    "ar5.ndim"
   ]
  },
  {
   "cell_type": "code",
   "execution_count": 117,
   "id": "73a92e75",
   "metadata": {},
   "outputs": [],
   "source": [
    "import numpy as np"
   ]
  },
  {
   "cell_type": "code",
   "execution_count": 118,
   "id": "b9aebf05",
   "metadata": {},
   "outputs": [],
   "source": [
    "l4=  [[[1,2,3], [4,5,6]] ,[ [7,8,9], [10 ,11,12]]]"
   ]
  },
  {
   "cell_type": "code",
   "execution_count": 119,
   "id": "32699236",
   "metadata": {},
   "outputs": [
    {
     "data": {
      "text/plain": [
       "array([[[ 1,  2,  3],\n",
       "        [ 4,  5,  6]],\n",
       "\n",
       "       [[ 7,  8,  9],\n",
       "        [10, 11, 12]]])"
      ]
     },
     "execution_count": 119,
     "metadata": {},
     "output_type": "execute_result"
    }
   ],
   "source": [
    "np.array(l4)"
   ]
  },
  {
   "cell_type": "code",
   "execution_count": 120,
   "id": "9a69f781",
   "metadata": {},
   "outputs": [],
   "source": [
    "ar6 = np.array(l4)"
   ]
  },
  {
   "cell_type": "code",
   "execution_count": 121,
   "id": "e4d6cd2a",
   "metadata": {},
   "outputs": [
    {
     "data": {
      "text/plain": [
       "3"
      ]
     },
     "execution_count": 121,
     "metadata": {},
     "output_type": "execute_result"
    }
   ],
   "source": [
    "ar6.ndim"
   ]
  },
  {
   "cell_type": "code",
   "execution_count": 122,
   "id": "05f26f23",
   "metadata": {},
   "outputs": [
    {
     "data": {
      "text/plain": [
       "(2, 2, 3)"
      ]
     },
     "execution_count": 122,
     "metadata": {},
     "output_type": "execute_result"
    }
   ],
   "source": [
    "ar6.shape"
   ]
  },
  {
   "cell_type": "code",
   "execution_count": 123,
   "id": "870d5246",
   "metadata": {},
   "outputs": [],
   "source": [
    "ar_2d = np.array([[1,2,3], [5,6, 7]])"
   ]
  },
  {
   "cell_type": "code",
   "execution_count": 124,
   "id": "b3d640a8",
   "metadata": {},
   "outputs": [
    {
     "data": {
      "text/plain": [
       "array([[1, 2, 3],\n",
       "       [5, 6, 7]])"
      ]
     },
     "execution_count": 124,
     "metadata": {},
     "output_type": "execute_result"
    }
   ],
   "source": [
    "ar_2d"
   ]
  },
  {
   "cell_type": "markdown",
   "id": "85233690",
   "metadata": {},
   "source": [
    "## functions used on array\n",
    "- sum \n",
    "- max\n",
    "- min\n",
    "- mean\n",
    "- prod\n",
    "- argmax\n",
    "- argmin\n",
    "- square\n",
    "- sqrt"
   ]
  },
  {
   "cell_type": "code",
   "execution_count": 125,
   "id": "d713b275",
   "metadata": {},
   "outputs": [
    {
     "data": {
      "text/plain": [
       "array([12, 35, 67,  7])"
      ]
     },
     "execution_count": 125,
     "metadata": {},
     "output_type": "execute_result"
    }
   ],
   "source": [
    "ar1"
   ]
  },
  {
   "cell_type": "code",
   "execution_count": 126,
   "id": "a6880fa5",
   "metadata": {},
   "outputs": [
    {
     "data": {
      "text/plain": [
       "24"
      ]
     },
     "execution_count": 126,
     "metadata": {},
     "output_type": "execute_result"
    }
   ],
   "source": [
    "np.sum(ar_2d)"
   ]
  },
  {
   "cell_type": "code",
   "execution_count": 127,
   "id": "ea0c5ff1",
   "metadata": {},
   "outputs": [
    {
     "data": {
      "text/plain": [
       "array([ 6,  8, 10])"
      ]
     },
     "execution_count": 127,
     "metadata": {},
     "output_type": "execute_result"
    }
   ],
   "source": [
    "np.sum(ar_2d, axis = 0)"
   ]
  },
  {
   "cell_type": "code",
   "execution_count": 128,
   "id": "123a2de5",
   "metadata": {},
   "outputs": [
    {
     "data": {
      "text/plain": [
       "array([ 6, 18])"
      ]
     },
     "execution_count": 128,
     "metadata": {},
     "output_type": "execute_result"
    }
   ],
   "source": [
    "np.sum(ar_2d, axis = 1)"
   ]
  },
  {
   "cell_type": "code",
   "execution_count": 129,
   "id": "b8a9a890",
   "metadata": {},
   "outputs": [
    {
     "data": {
      "text/plain": [
       "7"
      ]
     },
     "execution_count": 129,
     "metadata": {},
     "output_type": "execute_result"
    }
   ],
   "source": [
    "np.max(ar_2d)"
   ]
  },
  {
   "cell_type": "code",
   "execution_count": 130,
   "id": "a41dcd7f",
   "metadata": {},
   "outputs": [
    {
     "data": {
      "text/plain": [
       "1"
      ]
     },
     "execution_count": 130,
     "metadata": {},
     "output_type": "execute_result"
    }
   ],
   "source": [
    "np.min(ar_2d)"
   ]
  },
  {
   "cell_type": "code",
   "execution_count": 131,
   "id": "4fba7b11",
   "metadata": {},
   "outputs": [
    {
     "data": {
      "text/plain": [
       "4.0"
      ]
     },
     "execution_count": 131,
     "metadata": {},
     "output_type": "execute_result"
    }
   ],
   "source": [
    "np.mean(ar_2d)"
   ]
  },
  {
   "cell_type": "code",
   "execution_count": 132,
   "id": "1d95fafb",
   "metadata": {},
   "outputs": [
    {
     "data": {
      "text/plain": [
       "1260"
      ]
     },
     "execution_count": 132,
     "metadata": {},
     "output_type": "execute_result"
    }
   ],
   "source": [
    "np.prod(ar_2d)"
   ]
  },
  {
   "cell_type": "code",
   "execution_count": 133,
   "id": "aa765503",
   "metadata": {},
   "outputs": [
    {
     "data": {
      "text/plain": [
       "array([[ 1,  4,  9],\n",
       "       [25, 36, 49]])"
      ]
     },
     "execution_count": 133,
     "metadata": {},
     "output_type": "execute_result"
    }
   ],
   "source": [
    "np.square(ar_2d)"
   ]
  },
  {
   "cell_type": "code",
   "execution_count": 134,
   "id": "8e6f15ec",
   "metadata": {},
   "outputs": [
    {
     "data": {
      "text/plain": [
       "array([[1.        , 1.41421356, 1.73205081],\n",
       "       [2.23606798, 2.44948974, 2.64575131]])"
      ]
     },
     "execution_count": 134,
     "metadata": {},
     "output_type": "execute_result"
    }
   ],
   "source": [
    "np.sqrt(ar_2d)"
   ]
  },
  {
   "cell_type": "code",
   "execution_count": 135,
   "id": "321e05b5",
   "metadata": {},
   "outputs": [
    {
     "data": {
      "text/plain": [
       "5"
      ]
     },
     "execution_count": 135,
     "metadata": {},
     "output_type": "execute_result"
    }
   ],
   "source": [
    "np.argmax(ar_2d)"
   ]
  },
  {
   "cell_type": "code",
   "execution_count": 136,
   "id": "655fe933",
   "metadata": {},
   "outputs": [
    {
     "data": {
      "text/plain": [
       "0"
      ]
     },
     "execution_count": 136,
     "metadata": {},
     "output_type": "execute_result"
    }
   ],
   "source": [
    "np.argmin(ar_2d)"
   ]
  },
  {
   "cell_type": "code",
   "execution_count": 137,
   "id": "0287908e",
   "metadata": {},
   "outputs": [
    {
     "data": {
      "text/plain": [
       "array([[1.        , 1.25992105, 1.44224957],\n",
       "       [1.70997595, 1.81712059, 1.91293118]])"
      ]
     },
     "execution_count": 137,
     "metadata": {},
     "output_type": "execute_result"
    }
   ],
   "source": [
    "np.cbrt(ar_2d)"
   ]
  },
  {
   "cell_type": "code",
   "execution_count": 138,
   "id": "09fb4785",
   "metadata": {},
   "outputs": [
    {
     "name": "stdout",
     "output_type": "stream",
     "text": [
      "26.5\n",
      "4\n",
      "56\n",
      "106\n",
      "91392\n"
     ]
    }
   ],
   "source": [
    "l  =  [12,34,56,4]\n",
    "print(np.mean(l))\n",
    "print(np.min(l))\n",
    "print(np.max(l))\n",
    "print(np.sum(l))\n",
    "print(np.prod(l))"
   ]
  },
  {
   "cell_type": "code",
   "execution_count": 139,
   "id": "863588dc",
   "metadata": {},
   "outputs": [
    {
     "data": {
      "text/plain": [
       "[1, 3, 6, 7, 8, 5, 6, 8, 9, 10]"
      ]
     },
     "execution_count": 139,
     "metadata": {},
     "output_type": "execute_result"
    }
   ],
   "source": [
    "l =  [1,3,6,7,8]\n",
    "n  =  [5,6,8,9, 10]\n",
    "l  +  n"
   ]
  },
  {
   "cell_type": "code",
   "execution_count": 140,
   "id": "b96153a7",
   "metadata": {},
   "outputs": [],
   "source": [
    "ar  =  np.array(l)"
   ]
  },
  {
   "cell_type": "code",
   "execution_count": 141,
   "id": "fe296dc5",
   "metadata": {},
   "outputs": [],
   "source": [
    "n_ar  =  np.array(n)"
   ]
  },
  {
   "cell_type": "code",
   "execution_count": 142,
   "id": "94eb1eba",
   "metadata": {},
   "outputs": [
    {
     "name": "stdout",
     "output_type": "stream",
     "text": [
      "[1 3 6 7 8]\n",
      "[ 5  6  8  9 10]\n",
      "[ 6  9 14 16 18]\n",
      "[-4 -3 -2 -2 -2]\n"
     ]
    }
   ],
   "source": [
    "print(ar)\n",
    "print(n_ar)\n",
    "print(ar+n_ar)\n",
    "print(ar - n_ar)"
   ]
  },
  {
   "cell_type": "code",
   "execution_count": 143,
   "id": "f5b3b2b8",
   "metadata": {},
   "outputs": [
    {
     "data": {
      "text/plain": [
       "0.21150073366327637"
      ]
     },
     "execution_count": 143,
     "metadata": {},
     "output_type": "execute_result"
    }
   ],
   "source": [
    "# generate random numbers\n",
    "# generate randoms between 0 to 1\n",
    "import numpy as np\n",
    "np.random.rand()"
   ]
  },
  {
   "cell_type": "code",
   "execution_count": 144,
   "id": "217a2952",
   "metadata": {},
   "outputs": [
    {
     "data": {
      "text/plain": [
       "array([ 5, 18, 48, 63, 80])"
      ]
     },
     "execution_count": 144,
     "metadata": {},
     "output_type": "execute_result"
    }
   ],
   "source": [
    "ar*n_ar"
   ]
  },
  {
   "cell_type": "code",
   "execution_count": 145,
   "id": "be699212",
   "metadata": {},
   "outputs": [
    {
     "data": {
      "text/plain": [
       "array([0.2       , 0.5       , 0.75      , 0.77777778, 0.8       ])"
      ]
     },
     "execution_count": 145,
     "metadata": {},
     "output_type": "execute_result"
    }
   ],
   "source": [
    "ar/n_ar"
   ]
  },
  {
   "cell_type": "code",
   "execution_count": 146,
   "id": "f45ae121",
   "metadata": {},
   "outputs": [
    {
     "data": {
      "text/plain": [
       "array([0, 0, 0, 0, 0])"
      ]
     },
     "execution_count": 146,
     "metadata": {},
     "output_type": "execute_result"
    }
   ],
   "source": [
    "ar//n_ar"
   ]
  },
  {
   "cell_type": "code",
   "execution_count": 147,
   "id": "1d90cddd",
   "metadata": {},
   "outputs": [
    {
     "data": {
      "text/plain": [
       "array([1, 3, 6, 7, 8])"
      ]
     },
     "execution_count": 147,
     "metadata": {},
     "output_type": "execute_result"
    }
   ],
   "source": [
    "ar%n_ar"
   ]
  },
  {
   "cell_type": "code",
   "execution_count": 148,
   "id": "ed02a6df",
   "metadata": {},
   "outputs": [
    {
     "data": {
      "text/plain": [
       "array([         1,        729,    1679616,   40353607, 1073741824])"
      ]
     },
     "execution_count": 148,
     "metadata": {},
     "output_type": "execute_result"
    }
   ],
   "source": [
    "ar**n_ar"
   ]
  },
  {
   "cell_type": "code",
   "execution_count": 149,
   "id": "f1f38990",
   "metadata": {},
   "outputs": [
    {
     "data": {
      "text/plain": [
       "[1, 3, 6, 7, 8]"
      ]
     },
     "execution_count": 149,
     "metadata": {},
     "output_type": "execute_result"
    }
   ],
   "source": [
    "l"
   ]
  },
  {
   "cell_type": "code",
   "execution_count": 150,
   "id": "c75745ee",
   "metadata": {},
   "outputs": [
    {
     "name": "stdout",
     "output_type": "stream",
     "text": [
      "[1 3 6 7 8]\n",
      "*2 [ 2  6 12 14 16]\n",
      "/2 [0.5 1.5 3.  3.5 4. ]\n",
      "//2 [0 1 3 3 4]\n",
      "**2 [ 1  9 36 49 64]\n",
      "-2 [-1  1  4  5  6]\n",
      "+2 [ 3  5  8  9 10]\n",
      "%2 [1 1 0 1 0]\n"
     ]
    }
   ],
   "source": [
    "print(ar)\n",
    "print('*2' ,ar*2)\n",
    "print('/2' ,     ar/2)\n",
    "print('//2' ,    ar//2)\n",
    "print('**2',   ar**2)\n",
    "print('-2' ,   ar-2)\n",
    "print('+2',   ar+2)\n",
    "print('%2',   ar%2)"
   ]
  },
  {
   "cell_type": "markdown",
   "id": "60c8adb0",
   "metadata": {},
   "source": [
    "## indexing"
   ]
  },
  {
   "cell_type": "code",
   "execution_count": 151,
   "id": "e80886ff",
   "metadata": {},
   "outputs": [
    {
     "data": {
      "text/plain": [
       "array([1, 3, 6, 7, 8])"
      ]
     },
     "execution_count": 151,
     "metadata": {},
     "output_type": "execute_result"
    }
   ],
   "source": [
    "ar"
   ]
  },
  {
   "cell_type": "code",
   "execution_count": 152,
   "id": "4132f88f",
   "metadata": {},
   "outputs": [
    {
     "name": "stdout",
     "output_type": "stream",
     "text": [
      "7\n",
      "3\n"
     ]
    }
   ],
   "source": [
    "ar[0]\n",
    "print(ar[3])\n",
    "print(ar[-4])"
   ]
  },
  {
   "cell_type": "code",
   "execution_count": 153,
   "id": "d6856ce6",
   "metadata": {},
   "outputs": [
    {
     "data": {
      "text/plain": [
       "array([[1, 2, 3],\n",
       "       [5, 6, 7]])"
      ]
     },
     "execution_count": 153,
     "metadata": {},
     "output_type": "execute_result"
    }
   ],
   "source": [
    "ar_2d"
   ]
  },
  {
   "cell_type": "code",
   "execution_count": 154,
   "id": "c83f2b53",
   "metadata": {},
   "outputs": [
    {
     "name": "stdout",
     "output_type": "stream",
     "text": [
      "[1 2 3]\n",
      "[5 6 7]\n",
      "6\n",
      "3\n",
      "1\n"
     ]
    }
   ],
   "source": [
    "print(ar_2d[0])\n",
    "print(ar_2d[1])\n",
    "print(ar_2d[1 ,1])\n",
    "print(ar_2d[0 ,2 ])\n",
    "print(ar_2d[0,0])"
   ]
  },
  {
   "cell_type": "code",
   "execution_count": 155,
   "id": "8f7f92b4",
   "metadata": {},
   "outputs": [
    {
     "data": {
      "text/plain": [
       "array([[[ 1,  2,  3],\n",
       "        [ 4,  5,  6]],\n",
       "\n",
       "       [[ 7,  8,  9],\n",
       "        [10, 11, 12]]])"
      ]
     },
     "execution_count": 155,
     "metadata": {},
     "output_type": "execute_result"
    }
   ],
   "source": [
    "ar6"
   ]
  },
  {
   "cell_type": "code",
   "execution_count": 156,
   "id": "576de349",
   "metadata": {},
   "outputs": [
    {
     "name": "stdout",
     "output_type": "stream",
     "text": [
      "(2, 2, 3)\n",
      "[[1 2 3]\n",
      " [4 5 6]]\n",
      "[[ 7  8  9]\n",
      " [10 11 12]]\n",
      "[1 2 3]\n",
      "12\n",
      "6\n"
     ]
    }
   ],
   "source": [
    "print(ar6.shape)\n",
    "print(ar6[0])\n",
    "print(ar6[1])\n",
    "print(ar6[0 ,  0]  )\n",
    "print(ar6[1, 1,2])\n",
    "print(ar6[0 ,  1, 2])"
   ]
  },
  {
   "cell_type": "code",
   "execution_count": 157,
   "id": "1bc39f84",
   "metadata": {},
   "outputs": [
    {
     "data": {
      "text/plain": [
       "array([[1, 2, 3],\n",
       "       [4, 5, 6]])"
      ]
     },
     "execution_count": 157,
     "metadata": {},
     "output_type": "execute_result"
    }
   ],
   "source": [
    "ar6[0]"
   ]
  },
  {
   "cell_type": "markdown",
   "id": "a8a9c1c4",
   "metadata": {},
   "source": [
    "## Generate obsns"
   ]
  },
  {
   "cell_type": "code",
   "execution_count": 158,
   "id": "253a47eb",
   "metadata": {},
   "outputs": [
    {
     "data": {
      "text/plain": [
       "[1, 2, 3, 4, 5, 6, 7, 8, 9, 10]"
      ]
     },
     "execution_count": 158,
     "metadata": {},
     "output_type": "execute_result"
    }
   ],
   "source": [
    "list(range(1 ,11))   # range is used to genertae integers"
   ]
  },
  {
   "cell_type": "markdown",
   "id": "d304046c",
   "metadata": {},
   "source": [
    "## arange\n",
    "- To generate floats/ int we can use arange , linspace"
   ]
  },
  {
   "cell_type": "code",
   "execution_count": 159,
   "id": "d9ad4fe4",
   "metadata": {},
   "outputs": [
    {
     "data": {
      "text/plain": [
       "array([2, 5, 8])"
      ]
     },
     "execution_count": 159,
     "metadata": {},
     "output_type": "execute_result"
    }
   ],
   "source": [
    "np.arange(start  = 2 , stop  = 10 , step  =  3)"
   ]
  },
  {
   "cell_type": "code",
   "execution_count": 160,
   "id": "ffbd9285",
   "metadata": {},
   "outputs": [
    {
     "data": {
      "text/plain": [
       "array([10. , 15.5, 21. , 26.5, 32. , 37.5, 43. , 48.5, 54. , 59.5, 65. ,\n",
       "       70.5, 76. , 81.5, 87. , 92.5, 98. ])"
      ]
     },
     "execution_count": 160,
     "metadata": {},
     "output_type": "execute_result"
    }
   ],
   "source": [
    "np.arange(start  =  10  , stop =  100 , step =  5.5)"
   ]
  },
  {
   "cell_type": "code",
   "execution_count": 161,
   "id": "360ee0dc",
   "metadata": {},
   "outputs": [
    {
     "data": {
      "text/plain": [
       "(array([200.        , 200.1001001 , 200.2002002 , 200.3003003 ,\n",
       "        200.4004004 , 200.5005005 , 200.6006006 , 200.7007007 ,\n",
       "        200.8008008 , 200.9009009 , 201.001001  , 201.1011011 ,\n",
       "        201.2012012 , 201.3013013 , 201.4014014 , 201.5015015 ,\n",
       "        201.6016016 , 201.7017017 , 201.8018018 , 201.9019019 ,\n",
       "        202.002002  , 202.1021021 , 202.2022022 , 202.3023023 ,\n",
       "        202.4024024 , 202.5025025 , 202.6026026 , 202.7027027 ,\n",
       "        202.8028028 , 202.9029029 , 203.003003  , 203.1031031 ,\n",
       "        203.2032032 , 203.3033033 , 203.4034034 , 203.5035035 ,\n",
       "        203.6036036 , 203.7037037 , 203.8038038 , 203.9039039 ,\n",
       "        204.004004  , 204.1041041 , 204.2042042 , 204.3043043 ,\n",
       "        204.4044044 , 204.5045045 , 204.6046046 , 204.7047047 ,\n",
       "        204.8048048 , 204.9049049 , 205.00500501, 205.10510511,\n",
       "        205.20520521, 205.30530531, 205.40540541, 205.50550551,\n",
       "        205.60560561, 205.70570571, 205.80580581, 205.90590591,\n",
       "        206.00600601, 206.10610611, 206.20620621, 206.30630631,\n",
       "        206.40640641, 206.50650651, 206.60660661, 206.70670671,\n",
       "        206.80680681, 206.90690691, 207.00700701, 207.10710711,\n",
       "        207.20720721, 207.30730731, 207.40740741, 207.50750751,\n",
       "        207.60760761, 207.70770771, 207.80780781, 207.90790791,\n",
       "        208.00800801, 208.10810811, 208.20820821, 208.30830831,\n",
       "        208.40840841, 208.50850851, 208.60860861, 208.70870871,\n",
       "        208.80880881, 208.90890891, 209.00900901, 209.10910911,\n",
       "        209.20920921, 209.30930931, 209.40940941, 209.50950951,\n",
       "        209.60960961, 209.70970971, 209.80980981, 209.90990991,\n",
       "        210.01001001, 210.11011011, 210.21021021, 210.31031031,\n",
       "        210.41041041, 210.51051051, 210.61061061, 210.71071071,\n",
       "        210.81081081, 210.91091091, 211.01101101, 211.11111111,\n",
       "        211.21121121, 211.31131131, 211.41141141, 211.51151151,\n",
       "        211.61161161, 211.71171171, 211.81181181, 211.91191191,\n",
       "        212.01201201, 212.11211211, 212.21221221, 212.31231231,\n",
       "        212.41241241, 212.51251251, 212.61261261, 212.71271271,\n",
       "        212.81281281, 212.91291291, 213.01301301, 213.11311311,\n",
       "        213.21321321, 213.31331331, 213.41341341, 213.51351351,\n",
       "        213.61361361, 213.71371371, 213.81381381, 213.91391391,\n",
       "        214.01401401, 214.11411411, 214.21421421, 214.31431431,\n",
       "        214.41441441, 214.51451451, 214.61461461, 214.71471471,\n",
       "        214.81481481, 214.91491491, 215.01501502, 215.11511512,\n",
       "        215.21521522, 215.31531532, 215.41541542, 215.51551552,\n",
       "        215.61561562, 215.71571572, 215.81581582, 215.91591592,\n",
       "        216.01601602, 216.11611612, 216.21621622, 216.31631632,\n",
       "        216.41641642, 216.51651652, 216.61661662, 216.71671672,\n",
       "        216.81681682, 216.91691692, 217.01701702, 217.11711712,\n",
       "        217.21721722, 217.31731732, 217.41741742, 217.51751752,\n",
       "        217.61761762, 217.71771772, 217.81781782, 217.91791792,\n",
       "        218.01801802, 218.11811812, 218.21821822, 218.31831832,\n",
       "        218.41841842, 218.51851852, 218.61861862, 218.71871872,\n",
       "        218.81881882, 218.91891892, 219.01901902, 219.11911912,\n",
       "        219.21921922, 219.31931932, 219.41941942, 219.51951952,\n",
       "        219.61961962, 219.71971972, 219.81981982, 219.91991992,\n",
       "        220.02002002, 220.12012012, 220.22022022, 220.32032032,\n",
       "        220.42042042, 220.52052052, 220.62062062, 220.72072072,\n",
       "        220.82082082, 220.92092092, 221.02102102, 221.12112112,\n",
       "        221.22122122, 221.32132132, 221.42142142, 221.52152152,\n",
       "        221.62162162, 221.72172172, 221.82182182, 221.92192192,\n",
       "        222.02202202, 222.12212212, 222.22222222, 222.32232232,\n",
       "        222.42242242, 222.52252252, 222.62262262, 222.72272272,\n",
       "        222.82282282, 222.92292292, 223.02302302, 223.12312312,\n",
       "        223.22322322, 223.32332332, 223.42342342, 223.52352352,\n",
       "        223.62362362, 223.72372372, 223.82382382, 223.92392392,\n",
       "        224.02402402, 224.12412412, 224.22422422, 224.32432432,\n",
       "        224.42442442, 224.52452452, 224.62462462, 224.72472472,\n",
       "        224.82482482, 224.92492492, 225.02502503, 225.12512513,\n",
       "        225.22522523, 225.32532533, 225.42542543, 225.52552553,\n",
       "        225.62562563, 225.72572573, 225.82582583, 225.92592593,\n",
       "        226.02602603, 226.12612613, 226.22622623, 226.32632633,\n",
       "        226.42642643, 226.52652653, 226.62662663, 226.72672673,\n",
       "        226.82682683, 226.92692693, 227.02702703, 227.12712713,\n",
       "        227.22722723, 227.32732733, 227.42742743, 227.52752753,\n",
       "        227.62762763, 227.72772773, 227.82782783, 227.92792793,\n",
       "        228.02802803, 228.12812813, 228.22822823, 228.32832833,\n",
       "        228.42842843, 228.52852853, 228.62862863, 228.72872873,\n",
       "        228.82882883, 228.92892893, 229.02902903, 229.12912913,\n",
       "        229.22922923, 229.32932933, 229.42942943, 229.52952953,\n",
       "        229.62962963, 229.72972973, 229.82982983, 229.92992993,\n",
       "        230.03003003, 230.13013013, 230.23023023, 230.33033033,\n",
       "        230.43043043, 230.53053053, 230.63063063, 230.73073073,\n",
       "        230.83083083, 230.93093093, 231.03103103, 231.13113113,\n",
       "        231.23123123, 231.33133133, 231.43143143, 231.53153153,\n",
       "        231.63163163, 231.73173173, 231.83183183, 231.93193193,\n",
       "        232.03203203, 232.13213213, 232.23223223, 232.33233233,\n",
       "        232.43243243, 232.53253253, 232.63263263, 232.73273273,\n",
       "        232.83283283, 232.93293293, 233.03303303, 233.13313313,\n",
       "        233.23323323, 233.33333333, 233.43343343, 233.53353353,\n",
       "        233.63363363, 233.73373373, 233.83383383, 233.93393393,\n",
       "        234.03403403, 234.13413413, 234.23423423, 234.33433433,\n",
       "        234.43443443, 234.53453453, 234.63463463, 234.73473473,\n",
       "        234.83483483, 234.93493493, 235.03503504, 235.13513514,\n",
       "        235.23523524, 235.33533534, 235.43543544, 235.53553554,\n",
       "        235.63563564, 235.73573574, 235.83583584, 235.93593594,\n",
       "        236.03603604, 236.13613614, 236.23623624, 236.33633634,\n",
       "        236.43643644, 236.53653654, 236.63663664, 236.73673674,\n",
       "        236.83683684, 236.93693694, 237.03703704, 237.13713714,\n",
       "        237.23723724, 237.33733734, 237.43743744, 237.53753754,\n",
       "        237.63763764, 237.73773774, 237.83783784, 237.93793794,\n",
       "        238.03803804, 238.13813814, 238.23823824, 238.33833834,\n",
       "        238.43843844, 238.53853854, 238.63863864, 238.73873874,\n",
       "        238.83883884, 238.93893894, 239.03903904, 239.13913914,\n",
       "        239.23923924, 239.33933934, 239.43943944, 239.53953954,\n",
       "        239.63963964, 239.73973974, 239.83983984, 239.93993994,\n",
       "        240.04004004, 240.14014014, 240.24024024, 240.34034034,\n",
       "        240.44044044, 240.54054054, 240.64064064, 240.74074074,\n",
       "        240.84084084, 240.94094094, 241.04104104, 241.14114114,\n",
       "        241.24124124, 241.34134134, 241.44144144, 241.54154154,\n",
       "        241.64164164, 241.74174174, 241.84184184, 241.94194194,\n",
       "        242.04204204, 242.14214214, 242.24224224, 242.34234234,\n",
       "        242.44244244, 242.54254254, 242.64264264, 242.74274274,\n",
       "        242.84284284, 242.94294294, 243.04304304, 243.14314314,\n",
       "        243.24324324, 243.34334334, 243.44344344, 243.54354354,\n",
       "        243.64364364, 243.74374374, 243.84384384, 243.94394394,\n",
       "        244.04404404, 244.14414414, 244.24424424, 244.34434434,\n",
       "        244.44444444, 244.54454454, 244.64464464, 244.74474474,\n",
       "        244.84484484, 244.94494494, 245.04504505, 245.14514515,\n",
       "        245.24524525, 245.34534535, 245.44544545, 245.54554555,\n",
       "        245.64564565, 245.74574575, 245.84584585, 245.94594595,\n",
       "        246.04604605, 246.14614615, 246.24624625, 246.34634635,\n",
       "        246.44644645, 246.54654655, 246.64664665, 246.74674675,\n",
       "        246.84684685, 246.94694695, 247.04704705, 247.14714715,\n",
       "        247.24724725, 247.34734735, 247.44744745, 247.54754755,\n",
       "        247.64764765, 247.74774775, 247.84784785, 247.94794795,\n",
       "        248.04804805, 248.14814815, 248.24824825, 248.34834835,\n",
       "        248.44844845, 248.54854855, 248.64864865, 248.74874875,\n",
       "        248.84884885, 248.94894895, 249.04904905, 249.14914915,\n",
       "        249.24924925, 249.34934935, 249.44944945, 249.54954955,\n",
       "        249.64964965, 249.74974975, 249.84984985, 249.94994995,\n",
       "        250.05005005, 250.15015015, 250.25025025, 250.35035035,\n",
       "        250.45045045, 250.55055055, 250.65065065, 250.75075075,\n",
       "        250.85085085, 250.95095095, 251.05105105, 251.15115115,\n",
       "        251.25125125, 251.35135135, 251.45145145, 251.55155155,\n",
       "        251.65165165, 251.75175175, 251.85185185, 251.95195195,\n",
       "        252.05205205, 252.15215215, 252.25225225, 252.35235235,\n",
       "        252.45245245, 252.55255255, 252.65265265, 252.75275275,\n",
       "        252.85285285, 252.95295295, 253.05305305, 253.15315315,\n",
       "        253.25325325, 253.35335335, 253.45345345, 253.55355355,\n",
       "        253.65365365, 253.75375375, 253.85385385, 253.95395395,\n",
       "        254.05405405, 254.15415415, 254.25425425, 254.35435435,\n",
       "        254.45445445, 254.55455455, 254.65465465, 254.75475475,\n",
       "        254.85485485, 254.95495495, 255.05505506, 255.15515516,\n",
       "        255.25525526, 255.35535536, 255.45545546, 255.55555556,\n",
       "        255.65565566, 255.75575576, 255.85585586, 255.95595596,\n",
       "        256.05605606, 256.15615616, 256.25625626, 256.35635636,\n",
       "        256.45645646, 256.55655656, 256.65665666, 256.75675676,\n",
       "        256.85685686, 256.95695696, 257.05705706, 257.15715716,\n",
       "        257.25725726, 257.35735736, 257.45745746, 257.55755756,\n",
       "        257.65765766, 257.75775776, 257.85785786, 257.95795796,\n",
       "        258.05805806, 258.15815816, 258.25825826, 258.35835836,\n",
       "        258.45845846, 258.55855856, 258.65865866, 258.75875876,\n",
       "        258.85885886, 258.95895896, 259.05905906, 259.15915916,\n",
       "        259.25925926, 259.35935936, 259.45945946, 259.55955956,\n",
       "        259.65965966, 259.75975976, 259.85985986, 259.95995996,\n",
       "        260.06006006, 260.16016016, 260.26026026, 260.36036036,\n",
       "        260.46046046, 260.56056056, 260.66066066, 260.76076076,\n",
       "        260.86086086, 260.96096096, 261.06106106, 261.16116116,\n",
       "        261.26126126, 261.36136136, 261.46146146, 261.56156156,\n",
       "        261.66166166, 261.76176176, 261.86186186, 261.96196196,\n",
       "        262.06206206, 262.16216216, 262.26226226, 262.36236236,\n",
       "        262.46246246, 262.56256256, 262.66266266, 262.76276276,\n",
       "        262.86286286, 262.96296296, 263.06306306, 263.16316316,\n",
       "        263.26326326, 263.36336336, 263.46346346, 263.56356356,\n",
       "        263.66366366, 263.76376376, 263.86386386, 263.96396396,\n",
       "        264.06406406, 264.16416416, 264.26426426, 264.36436436,\n",
       "        264.46446446, 264.56456456, 264.66466466, 264.76476476,\n",
       "        264.86486486, 264.96496496, 265.06506507, 265.16516517,\n",
       "        265.26526527, 265.36536537, 265.46546547, 265.56556557,\n",
       "        265.66566567, 265.76576577, 265.86586587, 265.96596597,\n",
       "        266.06606607, 266.16616617, 266.26626627, 266.36636637,\n",
       "        266.46646647, 266.56656657, 266.66666667, 266.76676677,\n",
       "        266.86686687, 266.96696697, 267.06706707, 267.16716717,\n",
       "        267.26726727, 267.36736737, 267.46746747, 267.56756757,\n",
       "        267.66766767, 267.76776777, 267.86786787, 267.96796797,\n",
       "        268.06806807, 268.16816817, 268.26826827, 268.36836837,\n",
       "        268.46846847, 268.56856857, 268.66866867, 268.76876877,\n",
       "        268.86886887, 268.96896897, 269.06906907, 269.16916917,\n",
       "        269.26926927, 269.36936937, 269.46946947, 269.56956957,\n",
       "        269.66966967, 269.76976977, 269.86986987, 269.96996997,\n",
       "        270.07007007, 270.17017017, 270.27027027, 270.37037037,\n",
       "        270.47047047, 270.57057057, 270.67067067, 270.77077077,\n",
       "        270.87087087, 270.97097097, 271.07107107, 271.17117117,\n",
       "        271.27127127, 271.37137137, 271.47147147, 271.57157157,\n",
       "        271.67167167, 271.77177177, 271.87187187, 271.97197197,\n",
       "        272.07207207, 272.17217217, 272.27227227, 272.37237237,\n",
       "        272.47247247, 272.57257257, 272.67267267, 272.77277277,\n",
       "        272.87287287, 272.97297297, 273.07307307, 273.17317317,\n",
       "        273.27327327, 273.37337337, 273.47347347, 273.57357357,\n",
       "        273.67367367, 273.77377377, 273.87387387, 273.97397397,\n",
       "        274.07407407, 274.17417417, 274.27427427, 274.37437437,\n",
       "        274.47447447, 274.57457457, 274.67467467, 274.77477477,\n",
       "        274.87487487, 274.97497497, 275.07507508, 275.17517518,\n",
       "        275.27527528, 275.37537538, 275.47547548, 275.57557558,\n",
       "        275.67567568, 275.77577578, 275.87587588, 275.97597598,\n",
       "        276.07607608, 276.17617618, 276.27627628, 276.37637638,\n",
       "        276.47647648, 276.57657658, 276.67667668, 276.77677678,\n",
       "        276.87687688, 276.97697698, 277.07707708, 277.17717718,\n",
       "        277.27727728, 277.37737738, 277.47747748, 277.57757758,\n",
       "        277.67767768, 277.77777778, 277.87787788, 277.97797798,\n",
       "        278.07807808, 278.17817818, 278.27827828, 278.37837838,\n",
       "        278.47847848, 278.57857858, 278.67867868, 278.77877878,\n",
       "        278.87887888, 278.97897898, 279.07907908, 279.17917918,\n",
       "        279.27927928, 279.37937938, 279.47947948, 279.57957958,\n",
       "        279.67967968, 279.77977978, 279.87987988, 279.97997998,\n",
       "        280.08008008, 280.18018018, 280.28028028, 280.38038038,\n",
       "        280.48048048, 280.58058058, 280.68068068, 280.78078078,\n",
       "        280.88088088, 280.98098098, 281.08108108, 281.18118118,\n",
       "        281.28128128, 281.38138138, 281.48148148, 281.58158158,\n",
       "        281.68168168, 281.78178178, 281.88188188, 281.98198198,\n",
       "        282.08208208, 282.18218218, 282.28228228, 282.38238238,\n",
       "        282.48248248, 282.58258258, 282.68268268, 282.78278278,\n",
       "        282.88288288, 282.98298298, 283.08308308, 283.18318318,\n",
       "        283.28328328, 283.38338338, 283.48348348, 283.58358358,\n",
       "        283.68368368, 283.78378378, 283.88388388, 283.98398398,\n",
       "        284.08408408, 284.18418418, 284.28428428, 284.38438438,\n",
       "        284.48448448, 284.58458458, 284.68468468, 284.78478478,\n",
       "        284.88488488, 284.98498498, 285.08508509, 285.18518519,\n",
       "        285.28528529, 285.38538539, 285.48548549, 285.58558559,\n",
       "        285.68568569, 285.78578579, 285.88588589, 285.98598599,\n",
       "        286.08608609, 286.18618619, 286.28628629, 286.38638639,\n",
       "        286.48648649, 286.58658659, 286.68668669, 286.78678679,\n",
       "        286.88688689, 286.98698699, 287.08708709, 287.18718719,\n",
       "        287.28728729, 287.38738739, 287.48748749, 287.58758759,\n",
       "        287.68768769, 287.78778779, 287.88788789, 287.98798799,\n",
       "        288.08808809, 288.18818819, 288.28828829, 288.38838839,\n",
       "        288.48848849, 288.58858859, 288.68868869, 288.78878879,\n",
       "        288.88888889, 288.98898899, 289.08908909, 289.18918919,\n",
       "        289.28928929, 289.38938939, 289.48948949, 289.58958959,\n",
       "        289.68968969, 289.78978979, 289.88988989, 289.98998999,\n",
       "        290.09009009, 290.19019019, 290.29029029, 290.39039039,\n",
       "        290.49049049, 290.59059059, 290.69069069, 290.79079079,\n",
       "        290.89089089, 290.99099099, 291.09109109, 291.19119119,\n",
       "        291.29129129, 291.39139139, 291.49149149, 291.59159159,\n",
       "        291.69169169, 291.79179179, 291.89189189, 291.99199199,\n",
       "        292.09209209, 292.19219219, 292.29229229, 292.39239239,\n",
       "        292.49249249, 292.59259259, 292.69269269, 292.79279279,\n",
       "        292.89289289, 292.99299299, 293.09309309, 293.19319319,\n",
       "        293.29329329, 293.39339339, 293.49349349, 293.59359359,\n",
       "        293.69369369, 293.79379379, 293.89389389, 293.99399399,\n",
       "        294.09409409, 294.19419419, 294.29429429, 294.39439439,\n",
       "        294.49449449, 294.59459459, 294.69469469, 294.79479479,\n",
       "        294.89489489, 294.99499499, 295.0950951 , 295.1951952 ,\n",
       "        295.2952953 , 295.3953954 , 295.4954955 , 295.5955956 ,\n",
       "        295.6956957 , 295.7957958 , 295.8958959 , 295.995996  ,\n",
       "        296.0960961 , 296.1961962 , 296.2962963 , 296.3963964 ,\n",
       "        296.4964965 , 296.5965966 , 296.6966967 , 296.7967968 ,\n",
       "        296.8968969 , 296.996997  , 297.0970971 , 297.1971972 ,\n",
       "        297.2972973 , 297.3973974 , 297.4974975 , 297.5975976 ,\n",
       "        297.6976977 , 297.7977978 , 297.8978979 , 297.997998  ,\n",
       "        298.0980981 , 298.1981982 , 298.2982983 , 298.3983984 ,\n",
       "        298.4984985 , 298.5985986 , 298.6986987 , 298.7987988 ,\n",
       "        298.8988989 , 298.998999  , 299.0990991 , 299.1991992 ,\n",
       "        299.2992993 , 299.3993994 , 299.4994995 , 299.5995996 ,\n",
       "        299.6996997 , 299.7997998 , 299.8998999 , 300.        ]),\n",
       " 0.1001001001001001)"
      ]
     },
     "execution_count": 161,
     "metadata": {},
     "output_type": "execute_result"
    }
   ],
   "source": [
    "# linspace\n",
    "num  = np.linspace(start  =  200 , stop  =  300 , num  =  1000  , retstep =  True)\n",
    "num"
   ]
  },
  {
   "cell_type": "code",
   "execution_count": 162,
   "id": "827b89a2",
   "metadata": {},
   "outputs": [
    {
     "data": {
      "text/plain": [
       "2"
      ]
     },
     "execution_count": 162,
     "metadata": {},
     "output_type": "execute_result"
    }
   ],
   "source": [
    "len(num)"
   ]
  },
  {
   "cell_type": "code",
   "execution_count": 163,
   "id": "ce7833da",
   "metadata": {},
   "outputs": [
    {
     "name": "stdout",
     "output_type": "stream",
     "text": [
      "0.10010010000002012\n",
      "0.10010009999996328\n"
     ]
    }
   ],
   "source": [
    "print(300 -299.8998999 )\n",
    "print(299.8998999-299.7997998)"
   ]
  },
  {
   "cell_type": "code",
   "execution_count": 164,
   "id": "5dc9f654",
   "metadata": {},
   "outputs": [
    {
     "data": {
      "text/plain": [
       "0.4355042050730915"
      ]
     },
     "execution_count": 164,
     "metadata": {},
     "output_type": "execute_result"
    }
   ],
   "source": [
    "# generate random numbers between 0 to 1\n",
    "import numpy as np\n",
    "np.random.rand()"
   ]
  },
  {
   "cell_type": "markdown",
   "id": "13472b3c",
   "metadata": {},
   "source": [
    "## generate random numbers"
   ]
  },
  {
   "cell_type": "code",
   "execution_count": 165,
   "id": "9dfd32c4",
   "metadata": {},
   "outputs": [
    {
     "data": {
      "text/plain": [
       "array([0.83510221])"
      ]
     },
     "execution_count": 165,
     "metadata": {},
     "output_type": "execute_result"
    }
   ],
   "source": [
    "np.random.rand(1)"
   ]
  },
  {
   "cell_type": "code",
   "execution_count": 166,
   "id": "844f0f9a",
   "metadata": {},
   "outputs": [
    {
     "data": {
      "text/plain": [
       "array([0.56987408, 0.30248336, 0.27763169, 0.7179528 , 0.71796748,\n",
       "       0.56857907, 0.9004828 , 0.48815677, 0.43553016, 0.24118365,\n",
       "       0.24808086, 0.87402919, 0.07366838, 0.50416557, 0.05398178,\n",
       "       0.0666678 , 0.47338644, 0.80391313, 0.78436736, 0.61017371,\n",
       "       0.42816545, 0.76982916, 0.598281  , 0.57401073, 0.02732482,\n",
       "       0.90235333, 0.12339642, 0.31159167, 0.48141958, 0.25795307,\n",
       "       0.23686778, 0.39328436, 0.00378422, 0.12448166, 0.60783401,\n",
       "       0.61042505, 0.94381406, 0.452082  , 0.89495102, 0.58456266,\n",
       "       0.37619834, 0.30401791, 0.39483115, 0.41795217, 0.68469096,\n",
       "       0.69646813, 0.93596465, 0.72213711, 0.81902592, 0.33159786])"
      ]
     },
     "execution_count": 166,
     "metadata": {},
     "output_type": "execute_result"
    }
   ],
   "source": [
    "# 50 random numbers between 0 to 1\n",
    "np.random.rand(50)"
   ]
  },
  {
   "cell_type": "code",
   "execution_count": 167,
   "id": "1503fef1",
   "metadata": {},
   "outputs": [
    {
     "data": {
      "text/plain": [
       "array([3311, 1691, 2266,  332, 1044, 4517, 3869, 4104, 4625, 1789, 1902,\n",
       "       1754, 2410,  768, 1889, 3103, 1096, 2115, 4032, 2542, 4700, 4684,\n",
       "       1989, 3572, 2358, 1681, 2397, 1535, 3109, 2519, 4485, 1303,  423,\n",
       "       2253, 1124, 1383,  923, 3296, 2101, 1190,  779,  191, 4774, 2904,\n",
       "        577, 1786, 4489,  129, 4479, 1858,  776, 2831, 3047,  714,  817,\n",
       "       2832,  586,  791, 2227, 3471, 3827, 4318,  654, 3966, 1217, 1742,\n",
       "       2594, 3904, 3875, 3826, 3380, 1195, 2502, 4062, 3570, 1411, 2130,\n",
       "       3244, 1570, 4224, 3760, 2993, 1751, 3204,  780, 1166, 4832, 2369,\n",
       "        519, 3359, 2884, 2179, 4421, 2855, 2243, 3789, 4037, 2483,  839,\n",
       "        909, 3668, 4713, 3988, 3714, 4915, 4012, 2279, 3490, 4574, 3628,\n",
       "       2519, 3058, 4816, 4246,  756,  592, 3216, 3776, 1759, 1615, 2020,\n",
       "       2434, 3598,  356, 3494, 4259,  686, 1714, 1893, 4648,  544,  870,\n",
       "       3632, 1055, 1821, 4393, 4157, 2700,  851, 3662, 4925,  521, 3970,\n",
       "        229, 3637, 4023, 2308, 2854, 2147, 3343,  990, 1386, 1885,  201,\n",
       "        880, 1477,  313, 2248, 4359, 4520, 4439, 1958,  515, 3050, 1115,\n",
       "       2810, 1228,  149, 3902, 2327, 1080,  862, 2569, 2122, 2471, 3573,\n",
       "       2485, 4274,  484,  648,  439, 4439, 1914, 2561, 4980, 2813, 4210,\n",
       "       3268, 3497, 4386, 1261, 2320, 2978, 1681, 3184, 3309, 1118, 3258,\n",
       "       3713,  851, 4907, 2091, 2419, 1163, 1470,  806, 3986, 3421, 4182,\n",
       "       3291, 4287, 1566, 2971, 2995,  835,  272, 2013, 3767, 1199, 1851,\n",
       "       4846, 2541, 1906, 2208, 3177, 4425, 3222, 4869, 1313, 1268, 1125,\n",
       "        581, 3721, 4334,  109, 3636,  373, 3355, 4768, 2758, 1237, 2476,\n",
       "       1488, 4581, 1710, 4287, 3449, 1968, 2924, 2802, 2928, 4611, 3228,\n",
       "       1000, 2315,  954,  781, 2753, 1090,  860, 4591, 1036, 2527, 4463,\n",
       "       4790,  244, 2369, 3767, 2627, 2516,  888,  143, 4350, 4144, 1868,\n",
       "        882, 1929, 1247,  472, 1035, 1186, 3307,  726, 2811, 3527, 1406,\n",
       "       2018, 1119,  375, 3647, 1403, 4557, 1970, 2452, 1594, 2338, 3133,\n",
       "        294, 2821,  930, 3418,  760, 4629, 1540, 2198,  532,  664, 4448,\n",
       "        421, 2971, 1070, 4179, 1864, 4789, 1126, 3282, 4654,  165,  714,\n",
       "       1360, 2527, 1385, 1266,  505, 2803,  332, 4250, 4419, 1590, 2816,\n",
       "       2447, 4350, 2409, 2652, 2815, 2107, 4750, 4153, 1760, 1390, 2027,\n",
       "        619, 3584,  604, 4298, 1071, 1653,  162, 4044,  748, 1844, 2278,\n",
       "        131, 3207,  580, 1767, 1325, 1402, 4376, 3215, 2706, 4290, 4511,\n",
       "       4928, 4484, 1322, 4036,  401, 4257, 2594, 4887,  109, 2908, 1320,\n",
       "        778, 2206, 4080,  453, 1965, 1712, 1798,  532, 1453, 3403, 1536,\n",
       "        585,  560,  243, 1255, 2651, 4776, 2235, 1627, 1387, 3826, 2979,\n",
       "       4960, 2277, 2218, 1841, 3730,  608, 3491, 3671, 1822,  920, 2490,\n",
       "       1510, 4979, 1111, 2152, 3100,  279, 4318, 4639,  943, 3802, 3947,\n",
       "       1355, 4114, 1188, 4295, 1309, 4388, 1747, 1159, 4716, 2502, 1592,\n",
       "       4641, 3970, 3889, 2169, 1345, 2625, 4752, 4157,  645, 4145, 1103,\n",
       "       2980, 2821,  931, 1006, 2931, 2414, 2917, 1966, 4071, 2198,  911,\n",
       "       4380, 2354,  332, 3199, 3968, 1066, 4824,  524, 4398, 3820, 3619,\n",
       "       1181,  402, 1249, 1392, 3601,  170, 3866, 4311, 2887, 1009, 2423,\n",
       "       1946, 4403, 3150, 2405, 2505,  403, 1249, 1383, 2293, 3556, 3297,\n",
       "       1005, 2230, 2551, 2623,  680, 1430,  305,  269, 3069, 3316, 2949,\n",
       "       2826, 3992, 2226, 1264, 1419, 2952, 4794, 1689, 3819, 2721,  525,\n",
       "       4320, 4960, 3226, 4120, 3240, 4850, 2490, 1137, 3120, 4042,  386,\n",
       "       1327, 2358, 2751,  847, 4417,  284, 2574, 4239, 1369, 2214, 4995,\n",
       "       4053,  418,  956, 1960, 4058, 3763,  469, 3372, 3542, 2739,  742,\n",
       "       4230,  732,  682,  440, 4796, 4971, 2521, 1466, 3322, 4544, 2352,\n",
       "       4952,  622, 2331, 3088, 1235, 4808,  710, 2048, 2669, 1121,  165,\n",
       "        482,  466, 2783,  287, 1928, 1734, 2201, 1513, 4596, 1932, 1306,\n",
       "        753, 3890, 2879, 3321, 1450, 1444, 4025, 4199, 3663, 1919, 1414,\n",
       "       4732, 4276, 2359, 4287, 4039, 4252, 4921, 2330,  718, 4436, 1062,\n",
       "        979, 2418,  973,  193, 3078, 1340, 2985, 4166, 3206, 3172, 1989,\n",
       "        271, 2211, 2681, 2276,  500, 3069, 4637, 2333, 3367,  477,  788,\n",
       "        428, 2522, 1301, 3063, 3470,  450, 1218, 2004, 3992, 3716, 1996,\n",
       "       3234, 3646, 2162, 1847, 1180, 1581, 1767, 2925, 1219, 4812,  988,\n",
       "       1245, 3840, 3033, 1525, 3041,  423, 2728, 3357, 1433, 1185,  906,\n",
       "        310, 2809, 2153, 1278, 3315, 2508, 3769, 1322, 3434, 2319,  603,\n",
       "       1796, 2684, 2481, 3916, 2019,  208,  705, 2343, 1373,  909,  562,\n",
       "       2999, 1904, 4304, 3230, 4994, 3294, 4874, 4052, 1447,  943, 2955,\n",
       "       1885, 4419, 3777, 1048, 4942, 1160,  983, 4513, 2888, 2963, 4574,\n",
       "       2086, 1140,  745, 2919,  525, 4591,  742,  386,  311, 2321,  180,\n",
       "       4878, 2986, 3592, 4970, 3473, 2395, 1390, 3386, 1000, 3465,  362,\n",
       "       4839, 3973,  757, 4719, 2757, 3386, 2738, 4653, 3972, 3182, 1746,\n",
       "       4971, 4601, 3943,  416, 3772,  335, 4526, 4140, 3027, 2237, 4856,\n",
       "       3756,  607, 3541, 1659, 3402, 1709, 1854, 2748, 1617, 3951, 1890,\n",
       "        299, 2514, 2641, 4160, 3427, 2113, 3653, 1894, 4228, 2840, 4074,\n",
       "       1841, 3031, 2564, 1122, 2801, 3807, 4278, 3085, 4829,  516, 3770,\n",
       "       2052, 1681, 2190, 1506, 2380, 3861, 3615,  385, 4387, 1548, 4688,\n",
       "       4025, 2631, 4504, 4793, 3478, 1066, 3652, 2781,  995, 3579, 3777,\n",
       "       1110,  326, 2138, 2595, 1474, 3417, 4321, 4046, 2210, 3940, 4835,\n",
       "       4518, 4443, 3229, 4680,  733, 3460, 4478, 2580, 4101, 4536, 1291,\n",
       "        671, 4097, 2203, 4310,  286, 4120,  499, 2566, 3497, 1150, 3981,\n",
       "       2900, 3570, 3852, 1529, 1833, 1203, 2365, 3605,  360, 3486, 2116,\n",
       "       4856, 3354, 1769,  502, 3339, 1895, 2250,  200, 3230, 1059, 3261,\n",
       "        686, 4335, 4939, 1643, 3495, 2595, 1652, 4966, 2260, 2548, 1880,\n",
       "       1943, 3142, 1771, 3239, 4604,  859, 4487, 2943,  194, 1065,  432,\n",
       "       4474, 3707, 1286, 2254,  951, 2515, 2923, 1003, 2492, 1890, 4337,\n",
       "       3359, 2129, 2608, 3638,  479, 4530, 1524, 4312,  814, 1200, 3902,\n",
       "       2477, 3965,  679, 1724, 1646, 1770, 2987, 3337,  177, 2182, 1097,\n",
       "       4986,  364,  807, 2455,  618, 2192, 1655, 3200, 2458, 4064, 4459,\n",
       "       3416, 4103, 4144, 1351, 2129, 4550, 4107, 4881, 2457,  607, 3245,\n",
       "        691, 3197,  423, 1120,  406, 2751, 2397, 1373, 3028, 1631, 2621,\n",
       "       1227, 2649, 2461, 4120, 1929,  344, 1070, 4946, 4402, 2512, 3402,\n",
       "       1524, 1060, 4813, 3503, 4588, 3152, 1731, 3836, 2344, 3678, 3829,\n",
       "       4723, 1373, 1532, 4004, 3708,  389, 1707, 3925,  436, 1756,  306,\n",
       "       4141, 2725, 4719, 1003, 3582, 2201, 2376, 4734, 2950, 2827,  627,\n",
       "       2749, 4765,  647, 3457,  698, 4033,  589,  229, 2060,  521, 1846,\n",
       "        564, 1305, 1120, 1364, 1243, 1527, 4310, 1507, 2558,  788])"
      ]
     },
     "execution_count": 167,
     "metadata": {},
     "output_type": "execute_result"
    }
   ],
   "source": [
    "#generate random integers\n",
    "np.random.randint(100, 5000, 1000)"
   ]
  },
  {
   "cell_type": "code",
   "execution_count": 168,
   "id": "73d81736",
   "metadata": {},
   "outputs": [
    {
     "data": {
      "text/plain": [
       "array([-67.61648224, -29.54404247, -20.65190133, -28.45241144,\n",
       "        42.12073873,  21.89883737,  22.75049875,  -5.60497342,\n",
       "        31.08793521,  27.18724269, -18.72268962,  42.79111235,\n",
       "         5.93572214,  -6.63188102,  22.75668732,  61.25957885,\n",
       "       -18.72197639,  31.6299833 ,  13.2940789 ,  69.25811825,\n",
       "        52.20590737, -54.93289733,  60.55093354, -17.8537551 ,\n",
       "        69.2425874 , -24.12252858,  34.99739113,  32.24285463,\n",
       "        56.7077066 ,  53.33249699,  42.90227968,  89.38446846,\n",
       "        -7.00018695,  -8.84849267,  40.32287637,  57.98062864,\n",
       "        18.49146833,  73.36673676,  -9.58110503,  30.89104455,\n",
       "         9.81689286,  49.41387836,  88.23466282,  64.02250944,\n",
       "       -17.11246224, -45.01138504,  14.247157  ,  50.85570564,\n",
       "        71.40800174,  70.53700538, -47.48415872,  -2.29362525,\n",
       "        -1.7081193 , -25.09427716,  40.85139173,  11.23355324,\n",
       "        98.0067222 ,  30.09289769,  61.15346619,  42.27207675,\n",
       "       114.35193735,  61.00315489, -44.32506174,  44.35252284,\n",
       "        94.75658658,  30.89707636,  43.79027092,  16.04307067,\n",
       "         3.91547361, -11.7960114 ,   1.54194073, -12.60970089,\n",
       "        35.10823289,  53.2782344 , -19.35010614,  70.97844335,\n",
       "        96.68330203, -17.63013413,  -0.639048  ,  46.59262676,\n",
       "         3.48910766,  39.0050872 , -12.14932574,  35.38555825,\n",
       "        39.89282096, 118.56084462,   6.09763344, -20.54881271,\n",
       "         5.28324412,  23.91263662,  24.24389114,   8.65412347,\n",
       "       -52.28941224,  50.77976746, -25.26929262,  41.23221363,\n",
       "         5.61237413,  24.04742178,  15.89826834,  28.90892821,\n",
       "       -82.19667096,  43.15753149, -35.47445763,  50.96795272,\n",
       "        22.64397785,  -1.42699467,  20.05407129,  -5.43002858,\n",
       "       -17.74076369,  15.2559837 ,  38.13545158,  -3.00865467,\n",
       "        32.7734845 ,   8.27332727,   2.03470699,  52.6289631 ,\n",
       "        94.27221428, -17.27189245,  33.16717135,  42.15817161,\n",
       "        42.63671524,  40.42179073, -24.26922637,  11.53820226,\n",
       "         8.57708495,  16.38092524,  22.80784847,  20.97449354,\n",
       "       -51.50290552,  76.54757527,  31.90725144,  53.00948308,\n",
       "        13.42349223,  67.68105947,  24.27880373, -26.98308405,\n",
       "        -4.36118489,  18.80098111,  47.84288938,  35.02488593,\n",
       "        19.58340724,   6.22673448,  55.4978461 ,   3.42495757,\n",
       "        35.35886531,  40.61905593, -27.08664876,  -3.04990999,\n",
       "        39.8048275 , -25.86485318,  41.56670858, -37.38726146,\n",
       "       -53.49160874,  -1.62504742, 104.95540744,  30.89655016,\n",
       "        24.49735881,  24.35244051,  -5.18920361,  30.53533034,\n",
       "         9.51995924, -19.70677116,  20.03687968,  13.55743911,\n",
       "       -34.36578805,  25.67922885,  28.07057574, -16.63472472,\n",
       "       -22.02517805,  44.36730464,  32.66194827,   7.79480629,\n",
       "        15.6724854 ,  43.03063387,  75.47095949,  41.21711784,\n",
       "        42.8325241 , -15.51847811, -21.13586837, -27.12814814,\n",
       "       -53.72907673,   5.9649928 ,  29.64034591,  -5.61762469,\n",
       "        19.96951087,  36.82701167,  56.07503755,  21.5026772 ,\n",
       "        19.60887335, -18.77852682,  18.97753899,  58.6530819 ,\n",
       "        24.53447015,  33.57039971,  30.41295729,  35.78099925,\n",
       "       -72.9201297 ,  61.35693915,  19.69674218,  -2.91006043,\n",
       "       -33.33777105, -38.41254347,  81.04693125,  64.26789821,\n",
       "        17.12414105,  31.1021536 ,  41.62799779,  29.67831555,\n",
       "        -8.58789501,  30.54567833,  85.28464048,  13.52677963,\n",
       "        56.76445929, -42.39777986,  54.80102336,  41.32078787,\n",
       "        14.43823   ,  -2.63445341,  63.13328277,  39.77844514,\n",
       "        34.57470014,  20.88910169,  39.76422091,  -1.94877859,\n",
       "        65.11760989,  31.45368441,  38.32452668, -16.20612315,\n",
       "       -27.36739994,  15.56761223,  47.69675907,  68.04777458,\n",
       "        24.63203078, -17.27085831,  20.69314632,  -2.70329886,\n",
       "         6.23810268,  -9.9234554 ,  51.4434907 ,  22.39041608,\n",
       "       -30.748912  ,  26.4530144 , -18.82175113,  18.92960456,\n",
       "       -31.01197829,  26.40390375,   8.97916914,  77.09765347,\n",
       "       -60.85676728, -19.40288849, -30.59978148,  25.87632923,\n",
       "        37.68818957,  20.69878038, -39.61987736,   0.97317195,\n",
       "        -5.00943306,  37.50659253,  73.82262858,  59.59490259,\n",
       "         1.66855819,  54.71788821,  85.30432075,  22.30920714,\n",
       "        12.52802571,  25.3232539 , -19.96962904,  46.02643348,\n",
       "        -7.01364771,  34.24941352,  22.95016151,  16.72753523,\n",
       "        56.24836512,  13.00185298,  35.0667145 ,   5.75995991,\n",
       "        72.73801353,  15.27051138,  15.42070267,  -8.1727727 ,\n",
       "        40.69828773,  20.79586262, -13.49108616,  -0.56713985,\n",
       "        37.43719977,  26.13135739,  72.75223651,  11.56007542,\n",
       "        46.44743634,  46.76988986,   3.47283491,  63.72579538,\n",
       "         5.36974533, -35.54539984,  65.5586332 ,  -3.03676728,\n",
       "       -13.28291801, -10.5338422 ,  46.30078695,  -7.34633467,\n",
       "        34.88671492,  33.91633454,  73.24095398,  -9.06049118,\n",
       "        58.47247024,   5.83591285,  28.03247291,  13.16755479,\n",
       "        20.51245846,   7.80896707, -11.44451458, -57.32430706,\n",
       "        56.72377793,  26.92396884,  46.90559181,   7.12868324,\n",
       "         7.51229337,  67.55683488,  94.79708687,  20.57817678,\n",
       "        41.53709929,  39.48481418,  -3.35916799, -45.64377601,\n",
       "        36.88125571,  -7.83150862,  38.71889713, 130.67638526,\n",
       "         7.14879086,  31.6289696 ,  12.44271721, -45.71793467,\n",
       "        52.19612457,  55.57591699,  38.82832647,  33.45029453,\n",
       "        27.57242893,  61.74169103,  24.20808426,  25.20844743,\n",
       "         2.67940872,  13.23186166, -21.01896732,  62.19331311,\n",
       "        36.21240531, -22.23663185, -14.24406777,  -8.51287712,\n",
       "        62.65719416,  22.78224992,  21.71563523,  33.40935941,\n",
       "        46.90442429,  -7.75732681, -13.17232088,   8.05399159,\n",
       "        38.79612356,  56.72146703,  28.29027695,   6.57329158,\n",
       "        64.91725067,  -0.20638072,  45.4193588 ,  -8.88800728,\n",
       "        48.97694814,  78.2306179 ,  18.08168524,  36.64927271,\n",
       "        91.16850316,  44.14578083,  -4.72951948,  27.59379062,\n",
       "        33.21315383,  12.60337538, -49.13298069,  32.83494951,\n",
       "        10.04085483,  54.80769702, -80.45498393, -25.96687526,\n",
       "        11.47462282,  53.32210364,  26.24639487, -63.93032118,\n",
       "       -20.42656916,  47.48310623,   7.65917097,  21.11844076,\n",
       "       -11.90812851,   4.95481598,  95.86283132, -12.80863979,\n",
       "        49.61888654,  66.83424815,   2.06406834,  21.01904315,\n",
       "        16.26371159, -12.57706334,  76.0810171 ,  31.92857086,\n",
       "        -6.59561941,  30.61191221, -13.01357751,  82.23758452,\n",
       "        34.59022073,  15.58584045,  43.62027081,  24.6811805 ,\n",
       "        -4.48929438,  32.78637242,   1.75220022, -28.90907752,\n",
       "        90.84734868,  44.17929528,  40.80030912,  15.49571121,\n",
       "        29.91418308, -30.96384044,  48.8295063 ,  21.6013987 ,\n",
       "        -8.40026383,   3.06162939,  59.92532181,  37.28805401,\n",
       "       -10.56865667, -66.93026479,  35.64413918,  41.28737112,\n",
       "        32.35227479,   3.90407395,  41.00629449,  16.30903419,\n",
       "         7.8851306 , 106.93612434,   8.77055789,  46.79088307,\n",
       "        34.28313978,   7.31183079,  69.89057855,  42.3842498 ,\n",
       "        36.40549334,   8.34493205,  21.5283322 ,  51.71097811,\n",
       "       -28.94931177,  32.56928826,  55.46091124, -33.496681  ,\n",
       "        -8.48425409,  26.92661512,  55.04839796,  43.29447208,\n",
       "         8.97092039,  18.73913021,  27.94555932,  87.04386671,\n",
       "        22.72709041, -19.08364867,  29.86888923,  87.80479938,\n",
       "        91.1554813 ,  16.68801214,  31.16902964, -13.64716605,\n",
       "         1.64414964, -45.55234712, -12.00029637,  40.60559005,\n",
       "       -36.12245723,  19.21348095,  29.77681791,  28.6592175 ,\n",
       "       -31.06887793, -27.21432197,  27.45513433,  64.10240674,\n",
       "        31.59787059,  16.61502405, -12.89154454,  12.40416673,\n",
       "         7.07484305,   2.89882369,  48.64230716,  32.85093551,\n",
       "       -49.31829932,  -5.91551429, -82.57717293,  53.07719249,\n",
       "        51.47950451, -25.31500153,  16.46121102,  20.02768038,\n",
       "        76.76747542,  33.91307629,  39.69893882,  56.18884502,\n",
       "        18.47040815,  27.08690353,  42.91986347,  -5.95153248])"
      ]
     },
     "execution_count": 168,
     "metadata": {},
     "output_type": "execute_result"
    }
   ],
   "source": [
    "#generate random numbers from normal distribution\n",
    "a =np.random.normal(23, 34.5, 500)\n",
    "a"
   ]
  },
  {
   "cell_type": "code",
   "execution_count": 169,
   "id": "4e1eaf19",
   "metadata": {},
   "outputs": [
    {
     "data": {
      "text/plain": [
       "<Axes: ylabel='Frequency'>"
      ]
     },
     "execution_count": 169,
     "metadata": {},
     "output_type": "execute_result"
    },
    {
     "data": {
      "image/png": "[encoded data removed]",
      "text/plain": [
       "<Figure size 640x480 with 1 Axes>"
      ]
     },
     "metadata": {},
     "output_type": "display_data"
    }
   ],
   "source": [
    "import pandas as pd\n",
    "a = pd.Series(a)\n",
    "a.plot(kind = 'hist')"
   ]
  },
  {
   "cell_type": "code",
   "execution_count": 170,
   "id": "6c93d2bf",
   "metadata": {},
   "outputs": [
    {
     "data": {
      "text/plain": [
       "36.54233682474572"
      ]
     },
     "execution_count": 170,
     "metadata": {},
     "output_type": "execute_result"
    }
   ],
   "source": [
    "# generate random numbers from uniform\n",
    "np.random.uniform(56)"
   ]
  },
  {
   "cell_type": "code",
   "execution_count": 171,
   "id": "73fc6294",
   "metadata": {},
   "outputs": [
    {
     "data": {
      "text/plain": [
       "array([28.85434517, 34.67885961, 30.89981481, 27.02526315, 31.41061888,\n",
       "       29.94921849, 25.93783133, 21.99358787, 29.78779762, 27.43489587,\n",
       "       28.54469881, 21.46366341, 23.24027606, 20.98929133, 33.69723814,\n",
       "       35.00676329, 27.1631372 , 26.11918356, 34.46949054, 25.1845748 ,\n",
       "       20.39556165, 34.89530577, 33.84922745, 20.0752661 , 23.32265417,\n",
       "       28.07309855, 28.30864967, 33.27105806, 25.32669507, 39.57358968,\n",
       "       30.18587872, 22.8114245 , 22.13719529, 24.2618888 , 38.13498905,\n",
       "       26.91432325, 26.94308907, 21.73983764, 26.58461346, 30.19341272,\n",
       "       36.98385886, 36.92566691, 36.91098361, 34.69601327, 37.43272219,\n",
       "       39.17859595, 22.18854725, 38.46242702, 30.25169091, 21.10562984,\n",
       "       37.8664518 , 22.06697667, 31.08315996, 27.83818774, 34.58465191,\n",
       "       26.05969365, 33.9843451 , 25.53348599, 24.67474495, 30.77887221,\n",
       "       33.77451681, 27.09934995, 36.40317279, 23.64041205, 23.58373431,\n",
       "       25.63219718, 22.44142911, 25.92845083, 31.90821072, 24.33485816,\n",
       "       21.20374432, 21.29970825, 25.32320175, 25.18893751, 21.42480077,\n",
       "       30.12680224, 21.08521337, 24.09846724, 29.15276611, 20.25371854,\n",
       "       34.82901708, 33.45608832, 24.67699343, 20.44523749, 24.3527205 ,\n",
       "       21.35442796, 20.61916681, 39.13130771, 20.43693734, 30.5131842 ,\n",
       "       39.20831504, 38.30998141, 28.8479309 , 39.81055156, 37.00745073,\n",
       "       36.59580947, 32.20325889, 29.98196127, 35.0868297 , 34.10671963,\n",
       "       24.48870447, 23.36562097, 38.22898693, 29.97287452, 37.95519516,\n",
       "       24.79181196, 33.30025024, 30.46718517, 22.44077552, 37.59059677,\n",
       "       25.74594359, 38.76625416, 25.91091922, 22.54462184, 32.66691679,\n",
       "       24.91965255, 29.97193872, 22.45076864, 25.99920502, 38.72641746,\n",
       "       39.71639708, 21.69165365, 26.4848473 , 33.54691154, 34.41999582,\n",
       "       39.08128337, 27.3273043 , 21.78054458, 39.07089138, 29.12347927,\n",
       "       38.33958335, 39.11334016, 26.06373978, 31.02381525, 23.55882676,\n",
       "       33.82202414, 30.12987555, 30.19285615, 29.57017277, 20.40034319,\n",
       "       24.73039114, 23.29993776, 22.92749991, 21.74619503, 30.58722763,\n",
       "       21.6266969 , 38.04528054, 29.19520794, 20.38874215, 38.80969794,\n",
       "       38.67932018, 30.73412773, 20.33246769, 35.48833704, 23.21759938,\n",
       "       36.01559811, 29.86311472, 28.74730501, 22.5998219 , 36.56933089,\n",
       "       34.75331935, 27.07624032, 38.96562301, 23.17544751, 31.72685243,\n",
       "       35.46879151, 30.74980047, 22.44038308, 36.49762291, 23.0465578 ,\n",
       "       22.50362141, 31.6385761 , 34.15139045, 24.7901351 , 31.10212657,\n",
       "       29.25523192, 24.94925224, 34.0550211 , 38.03827131, 29.52189512,\n",
       "       35.82652728, 21.33944278, 24.31437812, 22.47763501, 34.60530087,\n",
       "       27.25804842, 31.15625264, 30.41168431, 38.48366621, 36.13035817,\n",
       "       26.45733363, 30.78563332, 37.62122405, 27.64685023, 24.76112765,\n",
       "       21.79804057, 20.06636056, 31.62550953, 26.25370735, 32.90698513,\n",
       "       38.51286134, 28.15984946, 38.47037966, 23.91808922, 34.03895806,\n",
       "       25.26754714, 27.94602621, 24.983282  , 35.71280779, 20.9247977 ,\n",
       "       21.50503121, 23.06666708, 29.86499616, 26.65592108, 33.97163615,\n",
       "       26.69819506, 29.52599457, 25.98885385, 23.45802975, 20.02988532,\n",
       "       23.48625258, 23.35874087, 22.26970333, 23.33236341, 35.19676192,\n",
       "       29.09597426, 22.33600562, 38.13303346, 33.53315635, 20.4813615 ,\n",
       "       39.91014987, 21.57703557, 26.43361641, 26.68297508, 24.0010211 ,\n",
       "       32.26094974, 31.68676515, 29.60312947, 27.65778936, 30.3374414 ,\n",
       "       33.12345172, 26.13582484, 24.8045385 , 37.45320327, 23.18693235,\n",
       "       25.05235742, 31.05009647, 30.00460694, 26.75600438, 23.78246696,\n",
       "       25.67069246, 38.66868564, 35.39575146, 23.56302156, 37.46350078,\n",
       "       31.54511332, 34.56767057, 34.26077073, 29.50329322, 33.08721782,\n",
       "       20.36630916, 23.05626495, 20.66027616, 39.88558716, 21.69469352,\n",
       "       24.46711778, 21.93495417, 28.0845746 , 38.62116617, 28.31197378,\n",
       "       30.52136209, 35.61760724, 25.01142412, 23.24180929, 20.79077202,\n",
       "       20.048845  , 33.2635395 , 39.95645986, 21.24095961, 35.10979261,\n",
       "       20.18107947, 27.90385156, 29.99242866, 20.03737211, 36.42834487,\n",
       "       36.3541118 , 23.37845786, 31.72323896, 28.45854529, 34.67111629,\n",
       "       21.40288792, 32.72114904, 34.08659841, 25.91727265, 34.29571958,\n",
       "       35.59025175, 39.02840428, 31.22351527, 37.12096693, 20.37743975,\n",
       "       26.69378295, 37.53981507, 27.84022637, 30.32544186, 20.88972459,\n",
       "       32.63412915, 30.73339279, 23.56742232, 23.89460755, 26.58075987,\n",
       "       20.51822572, 33.91465048, 31.80884301, 29.89501509, 20.33893298,\n",
       "       21.56680341, 32.63636344, 30.59088669, 37.60726566, 28.16731976,\n",
       "       30.37227082, 25.81614669, 33.35311414, 22.22776792, 22.78461781,\n",
       "       24.75739666, 38.21480533, 28.34324346, 26.80632422, 26.90237948,\n",
       "       31.66834525, 20.72528047, 35.18508751, 36.20659174, 33.28930496,\n",
       "       30.46988515, 31.59048068, 31.67488101, 24.50568553, 26.5440973 ,\n",
       "       34.1213583 , 33.61647372, 28.43516193, 26.69973998, 34.19187326,\n",
       "       23.49291972, 37.10125644, 37.66054121, 22.5243777 , 22.35250515,\n",
       "       37.67913667, 20.78713518, 27.83087329, 30.16253562, 37.96165291,\n",
       "       22.58250169, 25.48475482, 21.53010885, 27.99522824, 31.63804935,\n",
       "       23.35915519, 25.35113951, 33.63672365, 39.6028393 , 37.87650841,\n",
       "       30.03060359, 30.09870415, 36.23842399, 24.80054437, 30.10522367,\n",
       "       31.01668224, 24.94492686, 21.44199424, 33.657652  , 30.36654595,\n",
       "       37.82400782, 30.91420732, 25.82516086, 23.67614968, 27.54104063,\n",
       "       38.75138597, 33.91720286, 25.33650697, 26.10657814, 30.08547461,\n",
       "       23.52991324, 24.37130932, 25.96862798, 35.36382091, 32.50441488,\n",
       "       39.11072357, 31.06958908, 23.92389163, 20.77584176, 26.94679166,\n",
       "       21.70628489, 37.37750099, 26.17929824, 26.92538786, 38.13651951,\n",
       "       36.23081556, 20.58363793, 29.9943367 , 33.32966601, 21.33678165,\n",
       "       27.35867738, 31.45146971, 26.3735661 , 35.28831075, 32.54205921,\n",
       "       21.82952093, 37.08275871, 37.99643514, 28.19781647, 39.11985182,\n",
       "       34.33126669, 35.74018522, 23.71146485, 22.2988076 , 37.34941814,\n",
       "       24.28975732, 33.06955108, 22.66356448, 37.17261308, 20.01282459,\n",
       "       33.68538406, 25.42453584, 36.2491583 , 22.39362457, 25.58685846,\n",
       "       32.32902624, 27.34353911, 33.05006087, 25.5014054 , 20.71462552,\n",
       "       28.7540821 , 21.2014222 , 39.67622705, 36.1822086 , 31.50592577,\n",
       "       25.06187918, 20.55730146, 31.40450455, 22.40105102, 33.26385538,\n",
       "       37.8127351 , 25.38569405, 39.69971506, 21.71049583, 28.88241385,\n",
       "       32.92068994, 23.43069869, 38.5161852 , 30.84464015, 32.35200495,\n",
       "       35.33913958, 21.72426394, 27.97119125, 38.68137337, 39.20327456,\n",
       "       26.76032939, 39.82647908, 32.33624012, 38.06502529, 24.44810978,\n",
       "       34.53794914, 22.63262375, 21.02765433, 28.33559317, 36.73546733,\n",
       "       37.04169386, 21.17575543, 35.4907337 , 22.3574545 , 20.94102353,\n",
       "       22.55431916, 35.29940154, 33.57749574, 27.084008  , 20.44774107,\n",
       "       24.78011222, 28.15735191, 21.09903143, 39.64175887, 32.80979646,\n",
       "       39.09765852, 31.53181189, 22.8348644 , 39.03631305, 26.83069923,\n",
       "       31.54262449, 39.9687508 , 26.89203081, 22.34266316, 35.15205565,\n",
       "       24.76118622, 22.73332001, 38.32195314, 35.43259567, 32.22400298])"
      ]
     },
     "execution_count": 171,
     "metadata": {},
     "output_type": "execute_result"
    }
   ],
   "source": [
    "np.random.uniform(low = 20, high = 40 , size = 500)"
   ]
  },
  {
   "cell_type": "markdown",
   "id": "5def303b",
   "metadata": {},
   "source": [
    "## Trignometric functions by numpy library\n",
    "- sin \n",
    "- cos\n",
    "- tan\n",
    "- radian"
   ]
  },
  {
   "cell_type": "code",
   "execution_count": 172,
   "id": "2d1eba25",
   "metadata": {},
   "outputs": [
    {
     "data": {
      "text/plain": [
       "array([-0.98803162,  0.85090352, -0.30481062,  0.89399666])"
      ]
     },
     "execution_count": 172,
     "metadata": {},
     "output_type": "execute_result"
    }
   ],
   "source": [
    "l = [30, 45, 60, 90]\n",
    "np.sin(l)"
   ]
  },
  {
   "cell_type": "code",
   "execution_count": 173,
   "id": "8e886b91",
   "metadata": {},
   "outputs": [
    {
     "data": {
      "text/plain": [
       "array([ 0.15425145,  0.52532199, -0.95241298, -0.44807362])"
      ]
     },
     "execution_count": 173,
     "metadata": {},
     "output_type": "execute_result"
    }
   ],
   "source": [
    "np.cos(l)"
   ]
  },
  {
   "cell_type": "code",
   "execution_count": 174,
   "id": "41c475e0",
   "metadata": {},
   "outputs": [
    {
     "data": {
      "text/plain": [
       "1.5574077246549023"
      ]
     },
     "execution_count": 174,
     "metadata": {},
     "output_type": "execute_result"
    }
   ],
   "source": [
    "np.tan(1)"
   ]
  },
  {
   "cell_type": "code",
   "execution_count": 175,
   "id": "97c957b4",
   "metadata": {},
   "outputs": [
    {
     "data": {
      "text/plain": [
       "0.017453292519943295"
      ]
     },
     "execution_count": 175,
     "metadata": {},
     "output_type": "execute_result"
    }
   ],
   "source": [
    "np.radians(1)"
   ]
  },
  {
   "cell_type": "code",
   "execution_count": 176,
   "id": "9ea6d07f",
   "metadata": {},
   "outputs": [
    {
     "data": {
      "text/plain": [
       "array([123,  46, 687,  35])"
      ]
     },
     "execution_count": 176,
     "metadata": {},
     "output_type": "execute_result"
    }
   ],
   "source": [
    "l = [-123, -46, 687, -35]\n",
    "np.abs(l)"
   ]
  },
  {
   "cell_type": "code",
   "execution_count": 177,
   "id": "8a04a98c",
   "metadata": {},
   "outputs": [
    {
     "data": {
      "text/plain": [
       "array([123,  46, 687,  35])"
      ]
     },
     "execution_count": 177,
     "metadata": {},
     "output_type": "execute_result"
    }
   ],
   "source": [
    "np.absolute(l)"
   ]
  },
  {
   "cell_type": "code",
   "execution_count": 178,
   "id": "7bb16d24",
   "metadata": {},
   "outputs": [
    {
     "data": {
      "text/plain": [
       "array([-123,  -46,  687,  -35])"
      ]
     },
     "execution_count": 178,
     "metadata": {},
     "output_type": "execute_result"
    }
   ],
   "source": [
    "np.round(l)"
   ]
  },
  {
   "cell_type": "code",
   "execution_count": 179,
   "id": "3026e422",
   "metadata": {},
   "outputs": [
    {
     "data": {
      "text/plain": [
       "(2, 3)"
      ]
     },
     "execution_count": 179,
     "metadata": {},
     "output_type": "execute_result"
    }
   ],
   "source": [
    "l = np.array([12,45,67,78,89,45])\n",
    "l1 = l.reshape(2,3)\n",
    "l1.shape"
   ]
  },
  {
   "cell_type": "code",
   "execution_count": null,
   "id": "795950c3",
   "metadata": {},
   "outputs": [],
   "source": []
  }
 ],
 "metadata": {
  "kernelspec": {
   "display_name": "base",
   "language": "python",
   "name": "python3"
  },
  "language_info": {
   "codemirror_mode": {
    "name": "ipython",
    "version": 3
   },
   "file_extension": ".py",
   "mimetype": "text/x-python",
   "name": "python",
   "nbconvert_exporter": "python",
   "pygments_lexer": "ipython3",
   "version": "3.12.7"
  }
 },
 "nbformat": 4,
 "nbformat_minor": 5
}
