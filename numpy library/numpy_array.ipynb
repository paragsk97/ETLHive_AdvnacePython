{
 "cells": [
  {
   "attachments": {
    "image.png": {
     "image/png": "[encoded data removed]"
    }
   },
   "cell_type": "markdown",
   "id": "45fd0f97",
   "metadata": {},
   "source": [
    "![image.png](attachment:image.png)"
   ]
  },
  {
   "cell_type": "code",
   "execution_count": 20,
   "id": "624d2f3f",
   "metadata": {},
   "outputs": [
    {
     "data": {
      "text/plain": [
       "[12, 35, 67, 7]"
      ]
     },
     "execution_count": 20,
     "metadata": {},
     "output_type": "execute_result"
    }
   ],
   "source": [
    "l = [12, 35, 67, 7]\n",
    "l"
   ]
  },
  {
   "cell_type": "code",
   "execution_count": 21,
   "id": "408234ad",
   "metadata": {},
   "outputs": [],
   "source": [
    "import numpy as np"
   ]
  },
  {
   "cell_type": "code",
   "execution_count": 22,
   "id": "cafa34a5",
   "metadata": {},
   "outputs": [],
   "source": [
    "ar1 = np.array(l)"
   ]
  },
  {
   "cell_type": "code",
   "execution_count": 23,
   "id": "fc7b7e5d",
   "metadata": {},
   "outputs": [
    {
     "data": {
      "text/plain": [
       "array([12, 35, 67,  7])"
      ]
     },
     "execution_count": 23,
     "metadata": {},
     "output_type": "execute_result"
    }
   ],
   "source": [
    "ar1"
   ]
  },
  {
   "cell_type": "markdown",
   "id": "c4433115",
   "metadata": {},
   "source": [
    "## attributes used\n",
    "- ndim\n",
    "- size\n",
    "- shape"
   ]
  },
  {
   "cell_type": "code",
   "execution_count": 24,
   "id": "e68c1ec8",
   "metadata": {},
   "outputs": [
    {
     "data": {
      "text/plain": [
       "1"
      ]
     },
     "execution_count": 24,
     "metadata": {},
     "output_type": "execute_result"
    }
   ],
   "source": [
    "ar1.ndim"
   ]
  },
  {
   "cell_type": "code",
   "execution_count": 25,
   "id": "75b025ad",
   "metadata": {},
   "outputs": [
    {
     "data": {
      "text/plain": [
       "4"
      ]
     },
     "execution_count": 25,
     "metadata": {},
     "output_type": "execute_result"
    }
   ],
   "source": [
    "ar1.size"
   ]
  },
  {
   "cell_type": "code",
   "execution_count": 26,
   "id": "1f4adc1a",
   "metadata": {},
   "outputs": [
    {
     "data": {
      "text/plain": [
       "(4,)"
      ]
     },
     "execution_count": 26,
     "metadata": {},
     "output_type": "execute_result"
    }
   ],
   "source": [
    "ar1.shape"
   ]
  },
  {
   "cell_type": "code",
   "execution_count": 27,
   "id": "cad1f6bf",
   "metadata": {},
   "outputs": [
    {
     "data": {
      "text/plain": [
       "numpy.ndarray"
      ]
     },
     "execution_count": 27,
     "metadata": {},
     "output_type": "execute_result"
    }
   ],
   "source": [
    "type(ar1)"
   ]
  },
  {
   "cell_type": "code",
   "execution_count": 28,
   "id": "5c3a25c7",
   "metadata": {},
   "outputs": [
    {
     "data": {
      "text/plain": [
       "dtype('int64')"
      ]
     },
     "execution_count": 28,
     "metadata": {},
     "output_type": "execute_result"
    }
   ],
   "source": [
    "ar1.dtype"
   ]
  },
  {
   "cell_type": "code",
   "execution_count": 29,
   "id": "fe95833e",
   "metadata": {},
   "outputs": [],
   "source": [
    "ar2 = np.array(['s','v',23, 56])"
   ]
  },
  {
   "cell_type": "code",
   "execution_count": 30,
   "id": "90c58ac8",
   "metadata": {},
   "outputs": [
    {
     "data": {
      "text/plain": [
       "array(['s', 'v', '23', '56'], dtype='<U21')"
      ]
     },
     "execution_count": 30,
     "metadata": {},
     "output_type": "execute_result"
    }
   ],
   "source": [
    "ar2"
   ]
  },
  {
   "cell_type": "code",
   "execution_count": 31,
   "id": "aad23e26",
   "metadata": {},
   "outputs": [
    {
     "data": {
      "text/plain": [
       "dtype('<U21')"
      ]
     },
     "execution_count": 31,
     "metadata": {},
     "output_type": "execute_result"
    }
   ],
   "source": [
    "ar2.dtype"
   ]
  },
  {
   "cell_type": "code",
   "execution_count": 32,
   "id": "369ad0a5",
   "metadata": {},
   "outputs": [],
   "source": [
    "ar3 = np.array([12,34,45.56,56.78])"
   ]
  },
  {
   "cell_type": "code",
   "execution_count": 33,
   "id": "6814ed0b",
   "metadata": {},
   "outputs": [
    {
     "data": {
      "text/plain": [
       "dtype('float64')"
      ]
     },
     "execution_count": 33,
     "metadata": {},
     "output_type": "execute_result"
    }
   ],
   "source": [
    "ar3.dtype"
   ]
  },
  {
   "cell_type": "markdown",
   "id": "16688334",
   "metadata": {},
   "source": [
    "## array containes only homogeneous data types"
   ]
  },
  {
   "cell_type": "code",
   "execution_count": 34,
   "id": "57eaa427",
   "metadata": {},
   "outputs": [],
   "source": [
    "l1 = [[12,34,23, 45], [56,67,78,89]]\n"
   ]
  },
  {
   "cell_type": "code",
   "execution_count": 35,
   "id": "6f9f25c1",
   "metadata": {},
   "outputs": [],
   "source": [
    "ar4 = np.array(l1)"
   ]
  },
  {
   "cell_type": "code",
   "execution_count": 36,
   "id": "862143ab",
   "metadata": {},
   "outputs": [
    {
     "data": {
      "text/plain": [
       "2"
      ]
     },
     "execution_count": 36,
     "metadata": {},
     "output_type": "execute_result"
    }
   ],
   "source": [
    "ar4.ndim"
   ]
  },
  {
   "cell_type": "code",
   "execution_count": 37,
   "id": "0de61972",
   "metadata": {},
   "outputs": [
    {
     "data": {
      "text/plain": [
       "array([[12, 34, 23, 45],\n",
       "       [56, 67, 78, 89]])"
      ]
     },
     "execution_count": 37,
     "metadata": {},
     "output_type": "execute_result"
    }
   ],
   "source": [
    "ar4"
   ]
  },
  {
   "cell_type": "code",
   "execution_count": 38,
   "id": "4534afc1",
   "metadata": {},
   "outputs": [
    {
     "data": {
      "text/plain": [
       "(2, 4)"
      ]
     },
     "execution_count": 38,
     "metadata": {},
     "output_type": "execute_result"
    }
   ],
   "source": [
    "ar4.shape"
   ]
  },
  {
   "cell_type": "code",
   "execution_count": 39,
   "id": "897d455a",
   "metadata": {},
   "outputs": [
    {
     "data": {
      "text/plain": [
       "8"
      ]
     },
     "execution_count": 39,
     "metadata": {},
     "output_type": "execute_result"
    }
   ],
   "source": [
    "ar4.size"
   ]
  },
  {
   "cell_type": "code",
   "execution_count": 40,
   "id": "50c92981",
   "metadata": {},
   "outputs": [],
   "source": [
    "# create 3D Array\n",
    "l3 = [[[1,2,3], [4,5,6], [7,8,9]]]"
   ]
  },
  {
   "cell_type": "code",
   "execution_count": 41,
   "id": "637592e0",
   "metadata": {},
   "outputs": [],
   "source": [
    "ar5 = np.array(l3)"
   ]
  },
  {
   "cell_type": "code",
   "execution_count": 42,
   "id": "0146949a",
   "metadata": {},
   "outputs": [
    {
     "data": {
      "text/plain": [
       "array([[[1, 2, 3],\n",
       "        [4, 5, 6],\n",
       "        [7, 8, 9]]])"
      ]
     },
     "execution_count": 42,
     "metadata": {},
     "output_type": "execute_result"
    }
   ],
   "source": [
    "ar5"
   ]
  },
  {
   "cell_type": "code",
   "execution_count": 43,
   "id": "c29640e8",
   "metadata": {},
   "outputs": [
    {
     "data": {
      "text/plain": [
       "(1, 3, 3)"
      ]
     },
     "execution_count": 43,
     "metadata": {},
     "output_type": "execute_result"
    }
   ],
   "source": [
    "ar5.shape"
   ]
  },
  {
   "cell_type": "code",
   "execution_count": 44,
   "id": "f79df888",
   "metadata": {},
   "outputs": [
    {
     "data": {
      "text/plain": [
       "9"
      ]
     },
     "execution_count": 44,
     "metadata": {},
     "output_type": "execute_result"
    }
   ],
   "source": [
    "ar5.size"
   ]
  },
  {
   "cell_type": "code",
   "execution_count": 45,
   "id": "247e9e0c",
   "metadata": {},
   "outputs": [
    {
     "data": {
      "text/plain": [
       "3"
      ]
     },
     "execution_count": 45,
     "metadata": {},
     "output_type": "execute_result"
    }
   ],
   "source": [
    "ar5.ndim"
   ]
  },
  {
   "cell_type": "code",
   "execution_count": 46,
   "id": "73a92e75",
   "metadata": {},
   "outputs": [],
   "source": [
    "import numpy as np"
   ]
  },
  {
   "cell_type": "code",
   "execution_count": 47,
   "id": "b9aebf05",
   "metadata": {},
   "outputs": [],
   "source": [
    "l4=  [[[1,2,3], [4,5,6]] ,[ [7,8,9], [10 ,11,12]]]"
   ]
  },
  {
   "cell_type": "code",
   "execution_count": 48,
   "id": "32699236",
   "metadata": {},
   "outputs": [
    {
     "data": {
      "text/plain": [
       "array([[[ 1,  2,  3],\n",
       "        [ 4,  5,  6]],\n",
       "\n",
       "       [[ 7,  8,  9],\n",
       "        [10, 11, 12]]])"
      ]
     },
     "execution_count": 48,
     "metadata": {},
     "output_type": "execute_result"
    }
   ],
   "source": [
    "np.array(l4)"
   ]
  },
  {
   "cell_type": "code",
   "execution_count": 49,
   "id": "9a69f781",
   "metadata": {},
   "outputs": [],
   "source": [
    "ar6 = np.array(l4)"
   ]
  },
  {
   "cell_type": "code",
   "execution_count": 50,
   "id": "e4d6cd2a",
   "metadata": {},
   "outputs": [
    {
     "data": {
      "text/plain": [
       "3"
      ]
     },
     "execution_count": 50,
     "metadata": {},
     "output_type": "execute_result"
    }
   ],
   "source": [
    "ar6.ndim"
   ]
  },
  {
   "cell_type": "code",
   "execution_count": 51,
   "id": "05f26f23",
   "metadata": {},
   "outputs": [
    {
     "data": {
      "text/plain": [
       "(2, 2, 3)"
      ]
     },
     "execution_count": 51,
     "metadata": {},
     "output_type": "execute_result"
    }
   ],
   "source": [
    "ar6.shape"
   ]
  },
  {
   "cell_type": "code",
   "execution_count": 56,
   "id": "870d5246",
   "metadata": {},
   "outputs": [],
   "source": [
    "ar_2d = np.array([[1,2,3], [5,6, 7]])"
   ]
  },
  {
   "cell_type": "code",
   "execution_count": 57,
   "id": "b3d640a8",
   "metadata": {},
   "outputs": [
    {
     "data": {
      "text/plain": [
       "array([[1, 2, 3],\n",
       "       [5, 6, 7]])"
      ]
     },
     "execution_count": 57,
     "metadata": {},
     "output_type": "execute_result"
    }
   ],
   "source": [
    "ar_2d"
   ]
  },
  {
   "cell_type": "markdown",
   "id": "85233690",
   "metadata": {},
   "source": [
    "## functions used on array\n",
    "- sum \n",
    "- max\n",
    "- min\n",
    "- mean\n",
    "- prod\n",
    "- argmax\n",
    "- argmin\n",
    "- square\n",
    "- sqrt"
   ]
  },
  {
   "cell_type": "code",
   "execution_count": 58,
   "id": "d713b275",
   "metadata": {},
   "outputs": [
    {
     "data": {
      "text/plain": [
       "array([12, 35, 67,  7])"
      ]
     },
     "execution_count": 58,
     "metadata": {},
     "output_type": "execute_result"
    }
   ],
   "source": [
    "ar1"
   ]
  },
  {
   "cell_type": "code",
   "execution_count": 59,
   "id": "a6880fa5",
   "metadata": {},
   "outputs": [
    {
     "data": {
      "text/plain": [
       "np.int64(24)"
      ]
     },
     "execution_count": 59,
     "metadata": {},
     "output_type": "execute_result"
    }
   ],
   "source": [
    "np.sum(ar_2d)"
   ]
  },
  {
   "cell_type": "code",
   "execution_count": 60,
   "id": "ea0c5ff1",
   "metadata": {},
   "outputs": [
    {
     "data": {
      "text/plain": [
       "array([ 6,  8, 10])"
      ]
     },
     "execution_count": 60,
     "metadata": {},
     "output_type": "execute_result"
    }
   ],
   "source": [
    "np.sum(ar_2d, axis = 0)"
   ]
  },
  {
   "cell_type": "code",
   "execution_count": 61,
   "id": "123a2de5",
   "metadata": {},
   "outputs": [
    {
     "data": {
      "text/plain": [
       "array([ 6, 18])"
      ]
     },
     "execution_count": 61,
     "metadata": {},
     "output_type": "execute_result"
    }
   ],
   "source": [
    "np.sum(ar_2d, axis = 1)"
   ]
  },
  {
   "cell_type": "code",
   "execution_count": 62,
   "id": "b8a9a890",
   "metadata": {},
   "outputs": [
    {
     "data": {
      "text/plain": [
       "np.int64(7)"
      ]
     },
     "execution_count": 62,
     "metadata": {},
     "output_type": "execute_result"
    }
   ],
   "source": [
    "np.max(ar_2d)"
   ]
  },
  {
   "cell_type": "code",
   "execution_count": 63,
   "id": "a41dcd7f",
   "metadata": {},
   "outputs": [
    {
     "data": {
      "text/plain": [
       "np.int64(1)"
      ]
     },
     "execution_count": 63,
     "metadata": {},
     "output_type": "execute_result"
    }
   ],
   "source": [
    "np.min(ar_2d)"
   ]
  },
  {
   "cell_type": "code",
   "execution_count": 64,
   "id": "4fba7b11",
   "metadata": {},
   "outputs": [
    {
     "data": {
      "text/plain": [
       "np.float64(4.0)"
      ]
     },
     "execution_count": 64,
     "metadata": {},
     "output_type": "execute_result"
    }
   ],
   "source": [
    "np.mean(ar_2d)"
   ]
  },
  {
   "cell_type": "code",
   "execution_count": 65,
   "id": "1d95fafb",
   "metadata": {},
   "outputs": [
    {
     "data": {
      "text/plain": [
       "np.int64(1260)"
      ]
     },
     "execution_count": 65,
     "metadata": {},
     "output_type": "execute_result"
    }
   ],
   "source": [
    "np.prod(ar_2d)"
   ]
  },
  {
   "cell_type": "code",
   "execution_count": 66,
   "id": "aa765503",
   "metadata": {},
   "outputs": [
    {
     "data": {
      "text/plain": [
       "array([[ 1,  4,  9],\n",
       "       [25, 36, 49]])"
      ]
     },
     "execution_count": 66,
     "metadata": {},
     "output_type": "execute_result"
    }
   ],
   "source": [
    "np.square(ar_2d)"
   ]
  },
  {
   "cell_type": "code",
   "execution_count": 67,
   "id": "8e6f15ec",
   "metadata": {},
   "outputs": [
    {
     "data": {
      "text/plain": [
       "array([[1.        , 1.41421356, 1.73205081],\n",
       "       [2.23606798, 2.44948974, 2.64575131]])"
      ]
     },
     "execution_count": 67,
     "metadata": {},
     "output_type": "execute_result"
    }
   ],
   "source": [
    "np.sqrt(ar_2d)"
   ]
  },
  {
   "cell_type": "code",
   "execution_count": 68,
   "id": "321e05b5",
   "metadata": {},
   "outputs": [
    {
     "data": {
      "text/plain": [
       "np.int64(5)"
      ]
     },
     "execution_count": 68,
     "metadata": {},
     "output_type": "execute_result"
    }
   ],
   "source": [
    "np.argmax(ar_2d)"
   ]
  },
  {
   "cell_type": "code",
   "execution_count": 69,
   "id": "655fe933",
   "metadata": {},
   "outputs": [
    {
     "data": {
      "text/plain": [
       "np.int64(0)"
      ]
     },
     "execution_count": 69,
     "metadata": {},
     "output_type": "execute_result"
    }
   ],
   "source": [
    "np.argmin(ar_2d)"
   ]
  },
  {
   "cell_type": "code",
   "execution_count": 71,
   "id": "0287908e",
   "metadata": {},
   "outputs": [
    {
     "data": {
      "text/plain": [
       "array([[1.        , 1.25992105, 1.44224957],\n",
       "       [1.70997595, 1.81712059, 1.91293118]])"
      ]
     },
     "execution_count": 71,
     "metadata": {},
     "output_type": "execute_result"
    }
   ],
   "source": [
    "np.cbrt(ar_2d)"
   ]
  },
  {
   "cell_type": "code",
   "execution_count": null,
   "id": "09fb4785",
   "metadata": {},
   "outputs": [],
   "source": []
  },
  {
   "cell_type": "code",
   "execution_count": null,
   "id": "f5b3b2b8",
   "metadata": {},
   "outputs": [],
   "source": []
  }
 ],
 "metadata": {
  "kernelspec": {
   "display_name": "venv",
   "language": "python",
   "name": "python3"
  },
  "language_info": {
   "codemirror_mode": {
    "name": "ipython",
    "version": 3
   },
   "file_extension": ".py",
   "mimetype": "text/x-python",
   "name": "python",
   "nbconvert_exporter": "python",
   "pygments_lexer": "ipython3",
   "version": "3.12.10"
  }
 },
 "nbformat": 4,
 "nbformat_minor": 5
}
