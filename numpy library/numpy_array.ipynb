{
 "cells": [
  {
   "attachments": {
    "image.png": {
     "image/png": "[encoded data removed]"
    }
   },
   "cell_type": "markdown",
   "id": "45fd0f97",
   "metadata": {},
   "source": [
    "![image.png](attachment:image.png)"
   ]
  },
  {
   "cell_type": "code",
   "execution_count": 20,
   "id": "624d2f3f",
   "metadata": {},
   "outputs": [
    {
     "data": {
      "text/plain": [
       "[12, 35, 67, 7]"
      ]
     },
     "execution_count": 20,
     "metadata": {},
     "output_type": "execute_result"
    }
   ],
   "source": [
    "l = [12, 35, 67, 7]\n",
    "l"
   ]
  },
  {
   "cell_type": "code",
   "execution_count": 21,
   "id": "408234ad",
   "metadata": {},
   "outputs": [],
   "source": [
    "import numpy as np"
   ]
  },
  {
   "cell_type": "code",
   "execution_count": 22,
   "id": "cafa34a5",
   "metadata": {},
   "outputs": [],
   "source": [
    "ar1 = np.array(l)"
   ]
  },
  {
   "cell_type": "code",
   "execution_count": 23,
   "id": "fc7b7e5d",
   "metadata": {},
   "outputs": [
    {
     "data": {
      "text/plain": [
       "array([12, 35, 67,  7])"
      ]
     },
     "execution_count": 23,
     "metadata": {},
     "output_type": "execute_result"
    }
   ],
   "source": [
    "ar1"
   ]
  },
  {
   "cell_type": "markdown",
   "id": "c4433115",
   "metadata": {},
   "source": [
    "## attributes used\n",
    "- ndim\n",
    "- size\n",
    "- shape"
   ]
  },
  {
   "cell_type": "code",
   "execution_count": 24,
   "id": "e68c1ec8",
   "metadata": {},
   "outputs": [
    {
     "data": {
      "text/plain": [
       "1"
      ]
     },
     "execution_count": 24,
     "metadata": {},
     "output_type": "execute_result"
    }
   ],
   "source": [
    "ar1.ndim"
   ]
  },
  {
   "cell_type": "code",
   "execution_count": 25,
   "id": "75b025ad",
   "metadata": {},
   "outputs": [
    {
     "data": {
      "text/plain": [
       "4"
      ]
     },
     "execution_count": 25,
     "metadata": {},
     "output_type": "execute_result"
    }
   ],
   "source": [
    "ar1.size"
   ]
  },
  {
   "cell_type": "code",
   "execution_count": 26,
   "id": "1f4adc1a",
   "metadata": {},
   "outputs": [
    {
     "data": {
      "text/plain": [
       "(4,)"
      ]
     },
     "execution_count": 26,
     "metadata": {},
     "output_type": "execute_result"
    }
   ],
   "source": [
    "ar1.shape"
   ]
  },
  {
   "cell_type": "code",
   "execution_count": 27,
   "id": "cad1f6bf",
   "metadata": {},
   "outputs": [
    {
     "data": {
      "text/plain": [
       "numpy.ndarray"
      ]
     },
     "execution_count": 27,
     "metadata": {},
     "output_type": "execute_result"
    }
   ],
   "source": [
    "type(ar1)"
   ]
  },
  {
   "cell_type": "code",
   "execution_count": 28,
   "id": "5c3a25c7",
   "metadata": {},
   "outputs": [
    {
     "data": {
      "text/plain": [
       "dtype('int64')"
      ]
     },
     "execution_count": 28,
     "metadata": {},
     "output_type": "execute_result"
    }
   ],
   "source": [
    "ar1.dtype"
   ]
  },
  {
   "cell_type": "code",
   "execution_count": 29,
   "id": "fe95833e",
   "metadata": {},
   "outputs": [],
   "source": [
    "ar2 = np.array(['s','v',23, 56])"
   ]
  },
  {
   "cell_type": "code",
   "execution_count": 30,
   "id": "90c58ac8",
   "metadata": {},
   "outputs": [
    {
     "data": {
      "text/plain": [
       "array(['s', 'v', '23', '56'], dtype='<U21')"
      ]
     },
     "execution_count": 30,
     "metadata": {},
     "output_type": "execute_result"
    }
   ],
   "source": [
    "ar2"
   ]
  },
  {
   "cell_type": "code",
   "execution_count": 31,
   "id": "aad23e26",
   "metadata": {},
   "outputs": [
    {
     "data": {
      "text/plain": [
       "dtype('<U21')"
      ]
     },
     "execution_count": 31,
     "metadata": {},
     "output_type": "execute_result"
    }
   ],
   "source": [
    "ar2.dtype"
   ]
  },
  {
   "cell_type": "code",
   "execution_count": 32,
   "id": "369ad0a5",
   "metadata": {},
   "outputs": [],
   "source": [
    "ar3 = np.array([12,34,45.56,56.78])"
   ]
  },
  {
   "cell_type": "code",
   "execution_count": 33,
   "id": "6814ed0b",
   "metadata": {},
   "outputs": [
    {
     "data": {
      "text/plain": [
       "dtype('float64')"
      ]
     },
     "execution_count": 33,
     "metadata": {},
     "output_type": "execute_result"
    }
   ],
   "source": [
    "ar3.dtype"
   ]
  },
  {
   "cell_type": "markdown",
   "id": "16688334",
   "metadata": {},
   "source": [
    "## array containes only homogeneous data types"
   ]
  },
  {
   "cell_type": "code",
   "execution_count": 34,
   "id": "57eaa427",
   "metadata": {},
   "outputs": [],
   "source": [
    "l1 = [[12,34,23, 45], [56,67,78,89]]\n"
   ]
  },
  {
   "cell_type": "code",
   "execution_count": 35,
   "id": "6f9f25c1",
   "metadata": {},
   "outputs": [],
   "source": [
    "ar4 = np.array(l1)"
   ]
  },
  {
   "cell_type": "code",
   "execution_count": 36,
   "id": "862143ab",
   "metadata": {},
   "outputs": [
    {
     "data": {
      "text/plain": [
       "2"
      ]
     },
     "execution_count": 36,
     "metadata": {},
     "output_type": "execute_result"
    }
   ],
   "source": [
    "ar4.ndim"
   ]
  },
  {
   "cell_type": "code",
   "execution_count": 37,
   "id": "0de61972",
   "metadata": {},
   "outputs": [
    {
     "data": {
      "text/plain": [
       "array([[12, 34, 23, 45],\n",
       "       [56, 67, 78, 89]])"
      ]
     },
     "execution_count": 37,
     "metadata": {},
     "output_type": "execute_result"
    }
   ],
   "source": [
    "ar4"
   ]
  },
  {
   "cell_type": "code",
   "execution_count": 38,
   "id": "4534afc1",
   "metadata": {},
   "outputs": [
    {
     "data": {
      "text/plain": [
       "(2, 4)"
      ]
     },
     "execution_count": 38,
     "metadata": {},
     "output_type": "execute_result"
    }
   ],
   "source": [
    "ar4.shape"
   ]
  },
  {
   "cell_type": "code",
   "execution_count": 39,
   "id": "897d455a",
   "metadata": {},
   "outputs": [
    {
     "data": {
      "text/plain": [
       "8"
      ]
     },
     "execution_count": 39,
     "metadata": {},
     "output_type": "execute_result"
    }
   ],
   "source": [
    "ar4.size"
   ]
  },
  {
   "cell_type": "code",
   "execution_count": 40,
   "id": "50c92981",
   "metadata": {},
   "outputs": [],
   "source": [
    "# create 3D Array\n",
    "l3 = [[[1,2,3], [4,5,6], [7,8,9]]]"
   ]
  },
  {
   "cell_type": "code",
   "execution_count": 41,
   "id": "637592e0",
   "metadata": {},
   "outputs": [],
   "source": [
    "ar5 = np.array(l3)"
   ]
  },
  {
   "cell_type": "code",
   "execution_count": 42,
   "id": "0146949a",
   "metadata": {},
   "outputs": [
    {
     "data": {
      "text/plain": [
       "array([[[1, 2, 3],\n",
       "        [4, 5, 6],\n",
       "        [7, 8, 9]]])"
      ]
     },
     "execution_count": 42,
     "metadata": {},
     "output_type": "execute_result"
    }
   ],
   "source": [
    "ar5"
   ]
  },
  {
   "cell_type": "code",
   "execution_count": 43,
   "id": "c29640e8",
   "metadata": {},
   "outputs": [
    {
     "data": {
      "text/plain": [
       "(1, 3, 3)"
      ]
     },
     "execution_count": 43,
     "metadata": {},
     "output_type": "execute_result"
    }
   ],
   "source": [
    "ar5.shape"
   ]
  },
  {
   "cell_type": "code",
   "execution_count": 44,
   "id": "f79df888",
   "metadata": {},
   "outputs": [
    {
     "data": {
      "text/plain": [
       "9"
      ]
     },
     "execution_count": 44,
     "metadata": {},
     "output_type": "execute_result"
    }
   ],
   "source": [
    "ar5.size"
   ]
  },
  {
   "cell_type": "code",
   "execution_count": 45,
   "id": "247e9e0c",
   "metadata": {},
   "outputs": [
    {
     "data": {
      "text/plain": [
       "3"
      ]
     },
     "execution_count": 45,
     "metadata": {},
     "output_type": "execute_result"
    }
   ],
   "source": [
    "ar5.ndim"
   ]
  },
  {
   "cell_type": "code",
   "execution_count": 46,
   "id": "73a92e75",
   "metadata": {},
   "outputs": [],
   "source": [
    "import numpy as np"
   ]
  },
  {
   "cell_type": "code",
   "execution_count": 47,
   "id": "b9aebf05",
   "metadata": {},
   "outputs": [],
   "source": [
    "l4=  [[[1,2,3], [4,5,6]] ,[ [7,8,9], [10 ,11,12]]]"
   ]
  },
  {
   "cell_type": "code",
   "execution_count": 48,
   "id": "32699236",
   "metadata": {},
   "outputs": [
    {
     "data": {
      "text/plain": [
       "array([[[ 1,  2,  3],\n",
       "        [ 4,  5,  6]],\n",
       "\n",
       "       [[ 7,  8,  9],\n",
       "        [10, 11, 12]]])"
      ]
     },
     "execution_count": 48,
     "metadata": {},
     "output_type": "execute_result"
    }
   ],
   "source": [
    "np.array(l4)"
   ]
  },
  {
   "cell_type": "code",
   "execution_count": 49,
   "id": "9a69f781",
   "metadata": {},
   "outputs": [],
   "source": [
    "ar6 = np.array(l4)"
   ]
  },
  {
   "cell_type": "code",
   "execution_count": 50,
   "id": "e4d6cd2a",
   "metadata": {},
   "outputs": [
    {
     "data": {
      "text/plain": [
       "3"
      ]
     },
     "execution_count": 50,
     "metadata": {},
     "output_type": "execute_result"
    }
   ],
   "source": [
    "ar6.ndim"
   ]
  },
  {
   "cell_type": "code",
   "execution_count": 51,
   "id": "05f26f23",
   "metadata": {},
   "outputs": [
    {
     "data": {
      "text/plain": [
       "(2, 2, 3)"
      ]
     },
     "execution_count": 51,
     "metadata": {},
     "output_type": "execute_result"
    }
   ],
   "source": [
    "ar6.shape"
   ]
  },
  {
   "cell_type": "code",
   "execution_count": 56,
   "id": "870d5246",
   "metadata": {},
   "outputs": [],
   "source": [
    "ar_2d = np.array([[1,2,3], [5,6, 7]])"
   ]
  },
  {
   "cell_type": "code",
   "execution_count": 57,
   "id": "b3d640a8",
   "metadata": {},
   "outputs": [
    {
     "data": {
      "text/plain": [
       "array([[1, 2, 3],\n",
       "       [5, 6, 7]])"
      ]
     },
     "execution_count": 57,
     "metadata": {},
     "output_type": "execute_result"
    }
   ],
   "source": [
    "ar_2d"
   ]
  },
  {
   "cell_type": "markdown",
   "id": "85233690",
   "metadata": {},
   "source": [
    "## functions used on array\n",
    "- sum \n",
    "- max\n",
    "- min\n",
    "- mean\n",
    "- prod\n",
    "- argmax\n",
    "- argmin\n",
    "- square\n",
    "- sqrt"
   ]
  },
  {
   "cell_type": "code",
   "execution_count": 58,
   "id": "d713b275",
   "metadata": {},
   "outputs": [
    {
     "data": {
      "text/plain": [
       "array([12, 35, 67,  7])"
      ]
     },
     "execution_count": 58,
     "metadata": {},
     "output_type": "execute_result"
    }
   ],
   "source": [
    "ar1"
   ]
  },
  {
   "cell_type": "code",
   "execution_count": 59,
   "id": "a6880fa5",
   "metadata": {},
   "outputs": [
    {
     "data": {
      "text/plain": [
       "np.int64(24)"
      ]
     },
     "execution_count": 59,
     "metadata": {},
     "output_type": "execute_result"
    }
   ],
   "source": [
    "np.sum(ar_2d)"
   ]
  },
  {
   "cell_type": "code",
   "execution_count": 60,
   "id": "ea0c5ff1",
   "metadata": {},
   "outputs": [
    {
     "data": {
      "text/plain": [
       "array([ 6,  8, 10])"
      ]
     },
     "execution_count": 60,
     "metadata": {},
     "output_type": "execute_result"
    }
   ],
   "source": [
    "np.sum(ar_2d, axis = 0)"
   ]
  },
  {
   "cell_type": "code",
   "execution_count": 61,
   "id": "123a2de5",
   "metadata": {},
   "outputs": [
    {
     "data": {
      "text/plain": [
       "array([ 6, 18])"
      ]
     },
     "execution_count": 61,
     "metadata": {},
     "output_type": "execute_result"
    }
   ],
   "source": [
    "np.sum(ar_2d, axis = 1)"
   ]
  },
  {
   "cell_type": "code",
   "execution_count": 62,
   "id": "b8a9a890",
   "metadata": {},
   "outputs": [
    {
     "data": {
      "text/plain": [
       "np.int64(7)"
      ]
     },
     "execution_count": 62,
     "metadata": {},
     "output_type": "execute_result"
    }
   ],
   "source": [
    "np.max(ar_2d)"
   ]
  },
  {
   "cell_type": "code",
   "execution_count": 63,
   "id": "a41dcd7f",
   "metadata": {},
   "outputs": [
    {
     "data": {
      "text/plain": [
       "np.int64(1)"
      ]
     },
     "execution_count": 63,
     "metadata": {},
     "output_type": "execute_result"
    }
   ],
   "source": [
    "np.min(ar_2d)"
   ]
  },
  {
   "cell_type": "code",
   "execution_count": 64,
   "id": "4fba7b11",
   "metadata": {},
   "outputs": [
    {
     "data": {
      "text/plain": [
       "np.float64(4.0)"
      ]
     },
     "execution_count": 64,
     "metadata": {},
     "output_type": "execute_result"
    }
   ],
   "source": [
    "np.mean(ar_2d)"
   ]
  },
  {
   "cell_type": "code",
   "execution_count": 65,
   "id": "1d95fafb",
   "metadata": {},
   "outputs": [
    {
     "data": {
      "text/plain": [
       "np.int64(1260)"
      ]
     },
     "execution_count": 65,
     "metadata": {},
     "output_type": "execute_result"
    }
   ],
   "source": [
    "np.prod(ar_2d)"
   ]
  },
  {
   "cell_type": "code",
   "execution_count": 66,
   "id": "aa765503",
   "metadata": {},
   "outputs": [
    {
     "data": {
      "text/plain": [
       "array([[ 1,  4,  9],\n",
       "       [25, 36, 49]])"
      ]
     },
     "execution_count": 66,
     "metadata": {},
     "output_type": "execute_result"
    }
   ],
   "source": [
    "np.square(ar_2d)"
   ]
  },
  {
   "cell_type": "code",
   "execution_count": 67,
   "id": "8e6f15ec",
   "metadata": {},
   "outputs": [
    {
     "data": {
      "text/plain": [
       "array([[1.        , 1.41421356, 1.73205081],\n",
       "       [2.23606798, 2.44948974, 2.64575131]])"
      ]
     },
     "execution_count": 67,
     "metadata": {},
     "output_type": "execute_result"
    }
   ],
   "source": [
    "np.sqrt(ar_2d)"
   ]
  },
  {
   "cell_type": "code",
   "execution_count": 68,
   "id": "321e05b5",
   "metadata": {},
   "outputs": [
    {
     "data": {
      "text/plain": [
       "np.int64(5)"
      ]
     },
     "execution_count": 68,
     "metadata": {},
     "output_type": "execute_result"
    }
   ],
   "source": [
    "np.argmax(ar_2d)"
   ]
  },
  {
   "cell_type": "code",
   "execution_count": 69,
   "id": "655fe933",
   "metadata": {},
   "outputs": [
    {
     "data": {
      "text/plain": [
       "np.int64(0)"
      ]
     },
     "execution_count": 69,
     "metadata": {},
     "output_type": "execute_result"
    }
   ],
   "source": [
    "np.argmin(ar_2d)"
   ]
  },
  {
   "cell_type": "code",
   "execution_count": 71,
   "id": "0287908e",
   "metadata": {},
   "outputs": [
    {
     "data": {
      "text/plain": [
       "array([[1.        , 1.25992105, 1.44224957],\n",
       "       [1.70997595, 1.81712059, 1.91293118]])"
      ]
     },
     "execution_count": 71,
     "metadata": {},
     "output_type": "execute_result"
    }
   ],
   "source": [
    "np.cbrt(ar_2d)"
   ]
  },
  {
   "cell_type": "code",
   "execution_count": null,
   "id": "09fb4785",
   "metadata": {},
   "outputs": [],
   "source": []
  },
  {
   "cell_type": "code",
   "execution_count": 3,
   "id": "f5b3b2b8",
   "metadata": {},
   "outputs": [
    {
     "data": {
      "text/plain": [
       "0.32961539826991315"
      ]
     },
     "execution_count": 3,
     "metadata": {},
     "output_type": "execute_result"
    }
   ],
   "source": [
    "# generate random numbers\n",
    "# generate randoms between 0 to 1\n",
    "import numpy as np\n",
    "np.random.rand()"
   ]
  },
  {
   "cell_type": "code",
   "execution_count": 5,
   "id": "9dfd32c4",
   "metadata": {},
   "outputs": [
    {
     "data": {
      "text/plain": [
       "array([0.43008816])"
      ]
     },
     "execution_count": 5,
     "metadata": {},
     "output_type": "execute_result"
    }
   ],
   "source": [
    "np.random.rand(1)"
   ]
  },
  {
   "cell_type": "code",
   "execution_count": 6,
   "id": "844f0f9a",
   "metadata": {},
   "outputs": [
    {
     "data": {
      "text/plain": [
       "array([0.75433534, 0.16966319, 0.09797694, 0.94710058, 0.4316358 ,\n",
       "       0.45199198, 0.82699072, 0.51871346, 0.10559476, 0.1767902 ,\n",
       "       0.65605776, 0.85951212, 0.51200985, 0.22358331, 0.65553931,\n",
       "       0.60548575, 0.21947652, 0.24974303, 0.13932355, 0.76160632,\n",
       "       0.20575404, 0.74865943, 0.45830343, 0.6782679 , 0.78422711,\n",
       "       0.9662749 , 0.86440659, 0.46169417, 0.54436552, 0.56170118,\n",
       "       0.35047278, 0.48107299, 0.44724911, 0.44360541, 0.34023564,\n",
       "       0.55023068, 0.03111368, 0.54562131, 0.53709705, 0.75119936,\n",
       "       0.79409985, 0.27506353, 0.49170557, 0.5800343 , 0.54557003,\n",
       "       0.00296449, 0.12692539, 0.49579727, 0.28308237, 0.14237969])"
      ]
     },
     "execution_count": 6,
     "metadata": {},
     "output_type": "execute_result"
    }
   ],
   "source": [
    "# 50 random numbers between 0 to 1\n",
    "np.random.rand(50)"
   ]
  },
  {
   "cell_type": "code",
   "execution_count": 11,
   "id": "1503fef1",
   "metadata": {},
   "outputs": [
    {
     "data": {
      "text/plain": [
       "array([4295,  920, 1226, 4349, 4510,  505, 1997,  653, 2489, 1018, 3959,\n",
       "        185,  594, 1972, 3839, 1282, 3570, 3440, 4954, 2764, 4194, 1985,\n",
       "       3210, 3423, 1420,  437, 1247, 4021, 1435, 3232, 3084, 1792, 4534,\n",
       "       2595, 3005, 3642, 1229, 3216, 4094, 4391, 1394, 2641, 1707, 2288,\n",
       "       2893,  981, 1174, 3788, 2853, 1242, 1031, 3536, 3180, 4925, 2271,\n",
       "       1236, 2850, 3415, 2711, 2657, 2526, 3482,  342, 1332, 1994, 2418,\n",
       "        468, 1228, 4383, 1914, 1380, 4000, 4245, 1744, 2378, 1028, 3921,\n",
       "       1372, 4201, 2267, 1023, 4351,  530, 3138, 4334,  666, 2779, 4315,\n",
       "       1880,  996,  326, 3782, 1939, 2736, 2936, 4998, 1449,  839, 3471,\n",
       "       3092, 4021, 1033, 2980, 2280, 1040, 1813, 2958, 4295, 4020, 3632,\n",
       "       1890, 2342,  311, 2594, 1647, 2705, 4319, 3076, 3735, 1343, 3142,\n",
       "       1537,  622, 3084,  770, 3949, 3122, 2399, 3978, 4057,  996, 3010,\n",
       "       3856,  337,  667, 2833,  187, 2747, 4627, 4652, 1923, 4685, 3668,\n",
       "       3873, 4011, 4605, 3330, 1785, 1650, 1940,  304, 3429,  634,  523,\n",
       "        316, 4822, 4107, 3101, 3892, 2630, 3185, 4592, 1266, 2730, 2671,\n",
       "       4557, 2041,  272, 2499,  870,  798, 3983,  964, 1266, 4242, 3858,\n",
       "       3127, 2904, 2028, 4149,  180, 1628, 2287, 1971, 3862, 3782, 1413,\n",
       "       2871, 1687, 3007, 2544,  460, 3494, 3451, 2326, 1578, 4258,  498,\n",
       "       3942, 3372, 3494,  588, 1663, 1253, 3853, 2993, 4653,  404,  508,\n",
       "        540,  769, 2077, 1102, 2359, 2124, 1683, 1793, 3907, 4416, 1969,\n",
       "       3706, 1304,  556, 3292,  174, 1633,  277, 3526,  412,  459, 4179,\n",
       "        594, 1236, 3276, 3102,  903,  786, 2317, 4196, 2653, 1808, 1232,\n",
       "       3453, 2109, 3131,  275,  500, 4227, 3407, 3262, 2426,  708, 3671,\n",
       "       2609, 1168, 2362,  450,  688, 4984, 1753, 4310, 4308,  211, 1614,\n",
       "       2210, 3763, 1836,  158,  746, 3214, 2042, 3304, 3913,  134, 4232,\n",
       "       2632, 2508, 4901, 1673, 3975, 1372,  336, 2315, 3528, 3882, 1856,\n",
       "       4958, 3062, 3361, 3686, 4005, 1185, 3750,  813, 2310, 1606, 3479,\n",
       "        353, 4092, 4200, 1910,  489, 1430, 3766,  739,  573,  233, 1125,\n",
       "       3852,  926,  315, 1125, 1613, 3196, 3817, 1662, 4021, 2942, 2365,\n",
       "       3160, 1889, 1565,  607,  432, 4315,  984, 1731, 3397, 1989, 2687,\n",
       "        883, 4255, 4134, 4012, 2171,  140, 1649, 2231, 4241,  864, 1080,\n",
       "       2404, 4579, 3982, 1218, 3509, 4746, 3726, 1304, 1108,  815, 1609,\n",
       "       4370, 1775, 3809, 1314,  164, 1041, 1723, 1076,  154,  766, 2778,\n",
       "       1721, 2299, 3796, 2029, 2086,  561, 4960, 2982,  496, 1366,  811,\n",
       "       2844, 4748, 2976, 3918, 3564, 4068, 3777, 2551, 3090, 2829, 3315,\n",
       "       1978,  642,  699, 1514, 2571, 2098,  606, 3420, 1382,  270, 1735,\n",
       "       2999, 2313, 3882, 2002, 3834, 3123, 1208,  177, 4313, 1138,  296,\n",
       "       4036,  561,  389, 3089, 4592, 3328, 3490,  111, 1491, 2044, 1567,\n",
       "       4642, 2586, 4282, 4639, 4324, 2411, 3944, 4089, 4222, 2214,  614,\n",
       "       1388, 1860,  107, 2919, 3275, 2530, 3833, 1717, 1301, 1231, 3658,\n",
       "        702, 1053, 2039, 4036, 1794, 4170, 1865,  116, 2246, 2266,  417,\n",
       "        146, 4645, 4984, 1278, 1651,  183, 3190, 1658,  649, 1172, 2317,\n",
       "       2179,  507, 3127, 3882,  875, 3144, 3187, 3763, 2821,  514, 4147,\n",
       "       4447, 3551, 2873, 3273, 4138, 2147, 1503, 3264, 4535, 3633, 2071,\n",
       "       3793, 4431, 1311, 3597, 1641,  404,  243, 3180, 2072, 2128, 2630,\n",
       "       1728,  241, 4364, 1764,  598, 2726, 4396, 1824, 2810, 1396, 3808,\n",
       "        999, 1795, 3028, 4853, 4267, 4379, 2529, 3227, 4343,  923, 4578,\n",
       "       1360, 3401, 2287, 3778, 4382, 1926,  216, 4577, 4063, 2614,  119,\n",
       "        657, 3952,  753, 1771, 2197, 2857, 4979, 2853, 2280,  572, 4718,\n",
       "        412, 2069,  290, 3160, 1702, 1749, 4289, 3700, 2463,  639, 3577,\n",
       "       1917, 4425, 2555, 2719, 4075, 1516,  915,  897, 3038,  503, 1802,\n",
       "       4191, 2607, 3057, 2313, 1179, 1853, 4294, 3791, 4451, 4729, 4676,\n",
       "       2858,  664, 1226, 4626,  259, 4153,  926, 1438, 4338, 4748, 1973,\n",
       "       2312,  523, 2252, 4063,  446, 2706, 4287, 4426, 2874, 4210, 3874,\n",
       "       2722, 4761, 3307, 4975, 3364, 1813, 2318, 1632, 1326,  177, 3635,\n",
       "       4348,  105, 1173, 3184,  109, 2623, 4681, 4440, 3638, 2156, 3658,\n",
       "       1655, 2344, 4990, 3880, 3656, 2810, 4590, 1711, 3440, 3884, 2766,\n",
       "       3749, 4140,  478,  248, 1891, 2212, 3656, 3386, 3838, 1206, 3451,\n",
       "       4075,  338, 2713, 2011, 1256,  790, 2847, 2198, 1880, 4102, 4747,\n",
       "       1926,  595, 1644, 1991, 3088, 4310,  861, 2761, 3736, 4231, 3354,\n",
       "       2746, 2239,  284, 2169, 4408, 3051, 1217, 4171, 4923,  911, 1207,\n",
       "        726, 2897, 4925, 3261,  897, 4040, 1189, 4300, 4691, 1904, 4711,\n",
       "        191,  396, 4591, 1557, 1238, 1625, 4476,  299, 4233, 1081, 3755,\n",
       "       2589,  510, 4020, 3317, 1047, 3395, 1960, 1775,  714, 1378, 2015,\n",
       "        870, 2807, 4644, 1720,  208, 2888, 1777, 3148, 1285, 4560, 3340,\n",
       "       2526,  498,  140, 2441,  964, 3460, 4703, 2834, 4258, 4664, 3756,\n",
       "       3022, 1619, 2809, 4327, 1536, 1836, 2307,  662, 2357, 2588, 2470,\n",
       "       4059,  816, 2160, 3507, 2472, 3419, 1117, 4817, 2720,  545, 4485,\n",
       "       1147, 2632, 1858,  479,  195,  918, 4534, 2708, 1476, 3901, 3823,\n",
       "       3597, 4918, 3416, 2567, 3457, 2728, 3425, 3802, 1403,  432, 1764,\n",
       "       2277, 1805, 2300, 4214, 2031, 2755, 1993, 1388,  856, 1352,  225,\n",
       "       2165, 1438,  434, 2702, 4102, 2217, 2585, 2900, 4841, 2644, 4311,\n",
       "       1995, 4882, 2836, 1730, 2750, 4128, 2209, 3930, 4271, 4070,  342,\n",
       "       1263, 1055, 2212, 4523, 3737, 2672, 3120, 3055, 1885, 2717, 3502,\n",
       "        248,  358, 2966, 2209, 1397,  508, 4136,  997, 4941, 3913, 4348,\n",
       "        261,  704, 4662, 1139,  220, 4499,  403, 2810,  480, 1432, 1176,\n",
       "       3115, 3120, 4314,  220, 3637, 1331, 1364, 1060,  639, 3006, 2224,\n",
       "       1718, 2931, 4958, 4718, 2754, 2267,  222,  360, 1221, 1929, 3458,\n",
       "       1142, 3690, 2921,  149,  576, 2853, 4791, 2073, 3782, 3345, 1857,\n",
       "        923,  517, 3743,  482, 4787, 2885, 2718,  168,  635, 1934, 3826,\n",
       "       3347,  476, 2875, 1924, 2275,  984, 1650, 4261, 4407,  228, 1840,\n",
       "       4549, 4786, 1857, 2891, 4506, 1331,  872, 4787, 3114, 4632, 4378,\n",
       "       2953, 3386, 4102, 4051, 2719, 3112, 2211,  719, 4651,  597,  589,\n",
       "        677, 1669, 2117,  161, 3117, 2756, 1775,  610,  857, 1018, 1106,\n",
       "       3379, 1956, 2740, 2018,  618, 2141,  794, 3794, 3310,  183, 1928,\n",
       "       2972, 2223, 1754, 1852, 2957, 4847, 4577,  143, 1108,  733, 4261,\n",
       "       1786, 1550, 4440, 2235, 3352, 2928, 4782, 3520, 4824, 1182, 2548,\n",
       "       2986, 2033, 1961, 3880, 3336, 2476, 4301, 1507, 1673, 4001, 1806,\n",
       "       1053, 3835, 1690, 1943, 3487, 4895, 2280, 3151, 1851, 3706, 3213,\n",
       "        278, 1234, 4747, 2671, 2294, 2297, 2483, 4232, 4370, 2274, 2920,\n",
       "       1193, 2821,  461, 3905, 1517, 4211,  127, 4018, 1232, 2774],\n",
       "      dtype=int32)"
      ]
     },
     "execution_count": 11,
     "metadata": {},
     "output_type": "execute_result"
    }
   ],
   "source": [
    "#generate random integers\n",
    "np.random.randint(100, 5000, 1000)"
   ]
  },
  {
   "cell_type": "code",
   "execution_count": 14,
   "id": "73d81736",
   "metadata": {},
   "outputs": [
    {
     "data": {
      "text/plain": [
       "array([-2.60353598e+01,  8.01431262e+01, -5.24803693e+00,  5.73554065e+01,\n",
       "        4.89990000e+01,  1.59526719e+01,  5.83791874e+01,  3.61895263e+00,\n",
       "        2.75955436e+01, -4.15672909e+01,  1.71693120e+01, -6.53667627e+00,\n",
       "        2.82116288e+01,  7.93005410e+01, -7.44052304e+00,  2.47073351e+01,\n",
       "        4.51631325e+01,  2.27746135e+01,  6.84299466e+01,  4.96537046e+01,\n",
       "        5.59742665e+01,  5.07065858e+01,  2.75692049e+01, -1.00080713e+01,\n",
       "        6.39796531e+01,  1.05234406e+01,  3.80187766e+01,  3.16168808e+01,\n",
       "        3.07578405e+01,  4.42158073e+01,  2.47235425e+01,  2.25061150e+01,\n",
       "        1.14126866e+02,  6.94507597e+01,  5.16040400e+01,  2.77264787e+01,\n",
       "       -3.87326738e+01,  1.72211930e+01, -6.27259614e+00, -1.96858620e+01,\n",
       "        1.85003849e+01,  2.44499786e+01,  4.24608995e+01,  4.64236011e+01,\n",
       "       -3.17968062e+01,  5.15224922e-01,  4.83191431e+01,  2.62896506e+01,\n",
       "       -9.54511600e-01, -2.53411208e+01, -2.74837561e+00,  8.30375135e+01,\n",
       "        4.81007265e+01,  7.27882306e+01,  3.77321988e+01,  1.70933307e+01,\n",
       "       -4.62238460e+01,  8.20287318e+01,  8.40092903e+01,  3.22894656e+01,\n",
       "        4.46819810e+00,  7.48605238e+01, -3.92729631e+01,  2.17355247e+01,\n",
       "        1.35846584e+01,  2.35850881e+01,  3.25799592e+01,  3.19618065e+01,\n",
       "        1.69970539e+01, -6.36571895e+00, -4.81143244e+01,  1.28693653e+02,\n",
       "       -1.54946158e+01,  7.24377467e+01,  5.79535243e+01, -2.54596516e+00,\n",
       "        9.58539480e+01,  2.49286513e+01,  8.22460968e+01, -1.50640200e+01,\n",
       "        4.67246234e+01,  2.13998231e+01,  9.36571494e-02,  1.84827750e+01,\n",
       "        2.72544059e+01,  5.92180274e-01, -3.85643491e+01,  5.86383888e+00,\n",
       "        2.68638286e+01,  7.51862611e+01,  2.25993378e+01,  8.65546047e+00,\n",
       "       -7.25066369e+00,  4.53804363e+01,  6.58096415e+01, -2.69320665e+01,\n",
       "        1.07651566e+02,  2.33142893e+01,  1.16680754e+01,  4.11425629e+01,\n",
       "       -4.07357318e+01, -2.36858441e+01,  5.52755122e+01,  5.12564988e+01,\n",
       "       -1.42903862e+01,  4.98927092e+01,  3.83049679e+00,  5.34886099e+01,\n",
       "       -2.44667855e+00,  8.88605087e-01, -1.70015448e+01, -1.39625777e+01,\n",
       "        1.25451838e+01,  3.32595574e+01,  5.79524940e+00,  5.75514664e+01,\n",
       "        2.07044762e+01,  2.40820114e+01, -5.17686817e+01,  6.20163960e+01,\n",
       "       -8.39339826e+00,  1.13770032e+01,  1.55374731e+01, -4.86534323e+01,\n",
       "        2.13279844e+01,  5.10500314e+01,  3.53550162e+01, -1.19524064e+01,\n",
       "        1.41579839e+01,  3.83404801e+01, -1.52615306e+01,  3.00479641e+01,\n",
       "       -3.37580871e+01,  5.09615695e+01, -4.39794290e-01,  5.27882564e+00,\n",
       "       -1.00981113e+01,  6.59366043e+01,  6.60608090e+01, -4.06416995e+01,\n",
       "        5.08786327e+01,  4.46008818e+01, -5.53621452e+00,  1.09369036e+02,\n",
       "        2.94769489e+01,  2.30488474e+00, -2.76173529e+01,  4.23130099e+01,\n",
       "       -3.52995846e+01,  3.82557844e+01, -4.70815901e+00,  7.37660318e+01,\n",
       "        2.93572389e+01,  4.56860213e+01,  5.40427086e+01, -2.59052405e+00,\n",
       "        3.54446601e+01, -5.11318470e+01, -7.13641541e+01,  4.61408775e+01,\n",
       "        4.39138018e+01, -1.86514850e+01, -8.20453054e+00, -2.56606884e+01,\n",
       "        4.73074123e+00, -1.51664212e+01,  9.62378617e+01,  6.27505839e+00,\n",
       "        3.97069343e+01,  2.43549684e+01,  2.94621360e+01,  1.66745740e+01,\n",
       "        7.97350743e+01,  3.95581993e+01,  2.60421554e+01, -1.75716172e+01,\n",
       "       -2.00110365e+01,  1.86825677e+00,  2.76710230e+01,  5.04158468e+01,\n",
       "        2.44293889e+01,  4.44439043e+01,  2.68538095e+01, -2.84980678e+01,\n",
       "        1.18641526e+01,  3.13079906e+01,  5.04453238e+01,  4.29157995e+01,\n",
       "        3.04386768e+01, -5.37465649e-01, -2.46380019e+01, -2.09328065e+01,\n",
       "       -2.97948063e+00,  1.26323591e+01,  4.94356627e+01, -1.63374057e+01,\n",
       "       -1.34540907e+01, -1.04257071e+01,  3.18242999e+01,  3.84913856e+01,\n",
       "        5.37982342e+01,  2.81909301e+00,  3.93106977e+00, -2.16620015e+01,\n",
       "       -1.50354067e+01,  2.76923414e+01,  1.58541553e+01,  3.31387938e+01,\n",
       "        4.31225009e+01,  3.18976651e+01, -2.75565612e+01,  6.49202395e+01,\n",
       "        8.32820170e+01,  1.57867105e+01,  3.71428263e+00,  3.23452947e+01,\n",
       "        3.56093535e+01,  9.62429444e+01,  2.29229842e+01,  6.40349185e+01,\n",
       "        5.78229787e+00,  4.01445519e+01,  9.88459050e+01,  1.29076357e+01,\n",
       "        8.83749376e+01,  4.87882577e+00,  2.73667770e+01,  5.33631803e+01,\n",
       "        3.88631826e+01,  6.36334617e+01,  3.25020051e+01, -3.90667774e+01,\n",
       "        4.24945736e+00,  1.43706842e+01,  2.77311824e+01, -1.06020608e+01,\n",
       "       -2.41215098e+01,  5.02224975e+01,  6.29004230e+00,  6.82916279e+01,\n",
       "       -4.33727087e+00,  2.70786281e+01, -1.12260856e+01, -1.58829937e+01,\n",
       "       -7.92544073e+00,  4.62188274e+01,  3.93926333e+01,  5.52086514e+01,\n",
       "       -4.02463545e+00, -8.88859316e+00,  2.51454388e+01,  5.17147980e+01,\n",
       "        7.78453063e+01,  3.16317076e+00,  1.64609330e+01, -3.19387517e+00,\n",
       "        1.16010611e+01,  3.56265353e+01, -1.94470732e+01,  5.32909744e+01,\n",
       "        5.00213817e+01, -1.31689739e+01,  2.56246193e+01,  2.93734222e+01,\n",
       "        1.81903342e+01,  2.18424940e+01,  2.69091144e+01, -2.04090954e+01,\n",
       "       -1.85783035e+01,  1.24885489e+01,  1.56555925e+01,  2.42806254e+01,\n",
       "        3.72860082e+01,  9.14898111e+00, -3.74851352e+01, -9.69111414e+00,\n",
       "        4.37933771e+01,  8.06188842e+01,  3.07386186e+01,  6.85517988e+01,\n",
       "        6.77856538e+01,  9.83088867e+01,  5.68179933e+01,  1.50101146e+01,\n",
       "        5.16692277e+01,  5.86434222e+01,  3.55721644e+01,  4.29238119e+01,\n",
       "        9.47814232e+01,  4.35790124e+01,  4.57988413e+01, -4.11149746e+01,\n",
       "        4.56291894e+01, -1.88455232e+01,  2.86368547e+01,  2.94689413e+00,\n",
       "        3.10006920e+01, -2.63293863e+01, -5.06993635e+00, -1.61555589e+01,\n",
       "       -3.04882899e+01,  6.99523781e+00, -5.00081459e+01,  1.85255510e+01,\n",
       "        9.78889042e+00,  9.19404944e+01, -4.31991380e+01,  5.63403878e+00,\n",
       "        5.49990785e+01,  5.17445958e+01,  2.03900208e+01,  3.76269083e+01,\n",
       "        3.19815531e+01, -1.55928193e+01,  9.31518761e+01, -4.23544700e+01,\n",
       "        2.50733342e+01,  5.46850612e+01,  3.05439112e+01,  3.69390851e+01,\n",
       "        4.47012468e+01, -2.83073933e+01,  3.51090030e+01,  4.34570690e+01,\n",
       "       -8.72672403e+00, -1.16573323e+01,  7.63100415e+01,  3.09918454e+01,\n",
       "       -8.65267277e+00,  3.87815480e+01,  3.66692126e+01, -2.58138371e+01,\n",
       "        8.17262504e+01,  2.98513644e+01,  2.22088376e+01,  9.76758359e+01,\n",
       "        2.91126732e+01,  4.38420208e+01,  5.24027254e+01,  2.98317953e+01,\n",
       "        3.12443497e+01, -1.47792559e+01,  2.41401750e+01,  7.64246001e+01,\n",
       "        6.26347097e+01,  4.61932578e+01,  8.19911077e+01, -3.38991120e+01,\n",
       "       -1.65217502e+01,  2.59851997e+01,  2.80435098e+01,  5.31947398e+01,\n",
       "        2.32511363e+00,  5.72835795e+01,  6.21795925e+01,  6.79217061e+00,\n",
       "        6.73973688e+00,  2.92779044e+01,  1.01305983e+01,  9.21956285e+00,\n",
       "        2.36432746e+01,  5.47162982e+01,  3.40737812e+01,  3.09642975e+01,\n",
       "        2.07744108e+01,  4.92302716e+01, -1.34533930e+01,  1.94503586e+01,\n",
       "       -4.09291872e+00,  3.06252303e+00,  2.09495937e+01,  2.59998462e+01,\n",
       "       -4.88520789e+00,  5.26725108e+01,  4.28453957e+01,  4.22037892e+01,\n",
       "       -1.37354086e+01,  1.99531124e+01,  4.12352823e+01,  9.70270234e-01,\n",
       "       -2.06689039e+01,  9.57669760e+00,  6.76276029e+01,  5.97215982e+01,\n",
       "        2.60067589e+01,  6.48378914e+01,  1.42446690e+01,  3.15453381e+01,\n",
       "       -4.65539128e+00,  2.28678815e+01,  5.25057694e+01,  5.38235478e+01,\n",
       "        5.84087198e+00,  5.98252239e+00,  4.48250828e+01,  7.01555835e+01,\n",
       "       -3.40893175e+01, -3.76009195e+01,  5.22629834e+01,  2.64434003e+01,\n",
       "        3.78661750e-02,  2.44216689e+01,  7.57732996e+01,  7.51236013e+01,\n",
       "       -2.04386620e+00, -1.47780293e+01,  6.64857097e+01,  2.74390274e+01,\n",
       "        3.28825828e+01, -2.27611502e-01,  4.95420040e+01, -2.17301318e+01,\n",
       "       -3.37899940e+00,  2.41697654e+01,  4.35346515e+01,  9.45474496e+00,\n",
       "        4.37379405e+01,  3.54506146e+01,  5.43906525e+01, -1.49150052e+01,\n",
       "        1.73176234e+01,  2.49997398e+01, -3.82971718e+01,  7.87290960e+01,\n",
       "        5.22352013e+01,  1.46507783e+01,  4.48970950e+01,  2.67790923e+00,\n",
       "        2.70462258e+01,  4.48952505e+01,  6.65926360e+01,  2.84216360e+01,\n",
       "       -2.37743285e+01, -6.28934402e+01,  1.03416809e+02,  7.08110458e+01,\n",
       "        6.79990321e+01,  3.39427310e+00,  4.07021254e+01,  8.06090360e+01,\n",
       "        2.99411550e+01, -2.90053214e+01, -1.18613980e+01,  2.63669477e+01,\n",
       "        1.67499533e+01, -4.86258103e+01, -2.64273569e+01,  1.06183122e+01,\n",
       "        3.78537678e+01, -1.10887757e+02,  1.74003906e+01,  2.91040274e+01,\n",
       "       -8.72984870e+00,  5.09222384e+01,  5.40130209e+01,  3.99793598e+01,\n",
       "        6.59925800e+01, -5.05122974e+01,  6.23349712e+01,  6.76613764e+01,\n",
       "        6.84925830e+01,  3.27333022e+01,  1.27064024e+00,  7.82292290e+00,\n",
       "        3.00074854e+01,  5.76192266e+01,  1.45632089e+01, -3.02121298e+01,\n",
       "       -2.41036437e+01,  1.72284796e+01,  2.22775714e+01,  8.18028090e+00,\n",
       "        1.19599083e+01,  1.51645439e+01, -2.19565673e+01,  6.25327200e+01,\n",
       "       -1.29800434e+01, -7.15299421e+00,  4.90171833e+01,  5.88481718e+01,\n",
       "       -2.18642806e+01,  1.19710815e+01,  1.30246391e+01, -7.78403172e+00,\n",
       "        1.43576562e+01,  6.31818128e+01,  5.90813102e+01, -2.18450512e+01,\n",
       "        6.17245361e+01,  5.02158103e+01,  2.09781080e+01,  2.82567788e+01,\n",
       "        1.02672440e+02,  1.03105201e+02,  3.60002417e+01,  3.68248765e+01,\n",
       "        5.95988247e+01,  4.93629368e+01,  2.38993707e+01,  5.28200941e+01])"
      ]
     },
     "execution_count": 14,
     "metadata": {},
     "output_type": "execute_result"
    }
   ],
   "source": [
    "#generate random numbers from normal distribution\n",
    "a =np.random.normal(23, 34.5, 500)\n",
    "a"
   ]
  },
  {
   "cell_type": "code",
   "execution_count": 15,
   "id": "4e1eaf19",
   "metadata": {},
   "outputs": [
    {
     "data": {
      "text/plain": [
       "<Axes: ylabel='Frequency'>"
      ]
     },
     "execution_count": 15,
     "metadata": {},
     "output_type": "execute_result"
    },
    {
     "data": {
      "image/png": "[encoded data removed]",
      "text/plain": [
       "<Figure size 640x480 with 1 Axes>"
      ]
     },
     "metadata": {},
     "output_type": "display_data"
    }
   ],
   "source": [
    "import pandas as pd\n",
    "a = pd.Series(a)\n",
    "a.plot(kind = 'hist')"
   ]
  },
  {
   "cell_type": "code",
   "execution_count": 19,
   "id": "6c93d2bf",
   "metadata": {},
   "outputs": [
    {
     "data": {
      "text/plain": [
       "20.637317336079867"
      ]
     },
     "execution_count": 19,
     "metadata": {},
     "output_type": "execute_result"
    }
   ],
   "source": [
    "# generate random numbers from uniform\n",
    "np.random.uniform(56)"
   ]
  },
  {
   "cell_type": "code",
   "execution_count": 20,
   "id": "73fc6294",
   "metadata": {},
   "outputs": [
    {
     "data": {
      "text/plain": [
       "array([37.89598956, 23.40860286, 23.68208567, 39.78542959, 30.49311759,\n",
       "       25.46991525, 29.21195232, 28.93571852, 22.11041658, 35.24503231,\n",
       "       26.68380541, 32.85275619, 36.40712875, 34.64265153, 38.17030555,\n",
       "       29.21261563, 23.8530002 , 38.00700868, 25.92365357, 26.97341002,\n",
       "       36.98483182, 30.96949503, 39.29487282, 31.3744913 , 34.09496146,\n",
       "       26.39718611, 33.36636499, 20.5673265 , 30.8843167 , 28.81899911,\n",
       "       30.4725715 , 27.02970006, 25.83828692, 34.77253465, 32.8443372 ,\n",
       "       39.87832673, 32.89600309, 35.41562455, 28.41156304, 27.28127789,\n",
       "       34.2488899 , 29.53872099, 36.47026257, 25.12221583, 31.57034863,\n",
       "       27.90593213, 21.95901023, 39.67264775, 28.28681908, 22.71679204,\n",
       "       24.95932323, 39.34996555, 32.39731314, 34.97356629, 29.3066256 ,\n",
       "       36.07192839, 37.50721102, 23.1717518 , 26.18138164, 29.33678762,\n",
       "       29.34838983, 21.56432346, 28.1168898 , 38.46953116, 29.52693402,\n",
       "       24.0366797 , 31.68550787, 35.44032165, 31.47623444, 25.6784626 ,\n",
       "       24.42703294, 37.71380554, 23.28275111, 33.0672709 , 23.19138368,\n",
       "       27.54993136, 28.63673388, 38.53128607, 29.42530141, 20.41339794,\n",
       "       28.39142607, 30.67735637, 36.02719879, 23.44091978, 24.02857817,\n",
       "       24.37987709, 39.26357792, 39.62204437, 39.36719934, 38.99589653,\n",
       "       23.7763074 , 25.23512149, 24.06825815, 28.28244654, 34.02713922,\n",
       "       32.95536942, 23.27698875, 21.06623681, 26.46695483, 29.1532655 ,\n",
       "       31.36862771, 25.33081067, 32.12372656, 27.10623934, 31.33945488,\n",
       "       24.60136949, 31.69684186, 34.78004328, 25.75507665, 20.89993154,\n",
       "       22.54550014, 35.14752094, 36.76519016, 29.98073796, 31.52159218,\n",
       "       20.18952078, 34.33714846, 35.92355207, 28.5308322 , 38.68769073,\n",
       "       31.79145205, 38.99686842, 28.13679852, 38.92235754, 39.06092281,\n",
       "       26.72962038, 31.97612638, 25.32676669, 26.26679826, 23.0097927 ,\n",
       "       25.45874625, 38.59051128, 23.98055744, 28.26121361, 28.76291366,\n",
       "       27.38866373, 36.59839317, 30.15024604, 31.43203341, 34.2953206 ,\n",
       "       25.93003399, 37.33379157, 22.17690945, 36.02142736, 25.5302385 ,\n",
       "       23.71144086, 23.72440352, 34.31637757, 31.05775458, 28.82817236,\n",
       "       28.92053229, 34.01640168, 20.92946067, 30.03113128, 33.6452994 ,\n",
       "       21.41219045, 26.22808709, 34.52575108, 30.76431472, 22.32824342,\n",
       "       38.66274747, 39.7454055 , 39.11384977, 31.68441719, 36.85184867,\n",
       "       27.73591891, 29.12387741, 35.33968959, 30.1392134 , 25.1186083 ,\n",
       "       31.95103452, 29.61292684, 25.95525652, 31.59179197, 35.05897356,\n",
       "       39.29296891, 32.7356812 , 24.72881002, 21.37396437, 29.45644416,\n",
       "       30.20287519, 39.28359346, 37.03132467, 26.79955727, 25.34986476,\n",
       "       38.50495203, 39.64922236, 23.73920565, 36.45718781, 29.28623339,\n",
       "       29.50266648, 24.10769787, 25.95986123, 30.78302953, 34.61730426,\n",
       "       26.25810525, 39.94206903, 38.86437153, 23.09273948, 38.68827865,\n",
       "       25.61222476, 28.37391461, 20.38631668, 30.30550619, 32.67211088,\n",
       "       26.45341854, 27.53818624, 31.33446974, 38.78019433, 22.959952  ,\n",
       "       26.51461903, 28.24672977, 26.38302983, 29.60842065, 30.64563572,\n",
       "       26.57636889, 23.53937432, 33.18386646, 25.4202691 , 29.840902  ,\n",
       "       20.87068127, 23.1609146 , 26.48683078, 21.95341885, 30.3381421 ,\n",
       "       23.95415038, 28.09034448, 27.7579174 , 39.18037988, 24.00578291,\n",
       "       34.07828844, 39.88468693, 37.58772949, 20.9020069 , 38.70741109,\n",
       "       23.58170626, 20.45310128, 32.14617985, 28.1739662 , 20.3519872 ,\n",
       "       38.18337848, 28.00706457, 31.57166927, 39.33998187, 37.98008052,\n",
       "       35.51490181, 39.98095019, 26.36238367, 21.52054404, 20.13643733,\n",
       "       32.78884708, 30.05190584, 25.76830553, 33.80730802, 38.0604645 ,\n",
       "       34.74597204, 32.8429046 , 30.61718342, 31.9083296 , 22.00220783,\n",
       "       31.74044978, 23.36665669, 28.61594721, 36.91563529, 29.29330113,\n",
       "       38.10114542, 22.12647827, 36.05910855, 21.70696456, 24.05222698,\n",
       "       39.27124954, 26.30036773, 23.1315815 , 29.22777696, 29.24000546,\n",
       "       26.98388506, 21.99719099, 30.72940863, 29.62679798, 34.58853147,\n",
       "       31.44398149, 22.99974935, 32.97152417, 35.28715129, 24.75539913,\n",
       "       29.42158423, 21.30161938, 34.07815526, 25.10457368, 31.35060941,\n",
       "       28.32805676, 28.80422646, 37.57538828, 39.31502017, 33.16309445,\n",
       "       28.71725974, 37.33630755, 31.30460096, 28.06741529, 37.81331351,\n",
       "       28.00084775, 20.4099264 , 36.08786773, 21.3974466 , 21.20583571,\n",
       "       28.05934445, 21.39142057, 22.26285481, 38.78610435, 24.88998536,\n",
       "       23.65908411, 29.23343626, 27.71738427, 38.42876972, 28.20374527,\n",
       "       31.67941189, 37.21656582, 28.62829393, 35.29782998, 38.29445126,\n",
       "       35.44321142, 29.2567386 , 25.79334914, 36.05210746, 23.674572  ,\n",
       "       33.93932485, 25.72983244, 36.10632152, 30.82610761, 30.78565756,\n",
       "       30.04415371, 23.33076269, 22.88027268, 39.26867627, 26.04090253,\n",
       "       32.38904081, 35.41023699, 29.9193755 , 39.37227311, 39.63085584,\n",
       "       23.91971325, 32.50496722, 28.04195231, 26.25434919, 38.44416097,\n",
       "       38.31488457, 22.17897045, 25.25424055, 27.3708855 , 38.97784   ,\n",
       "       24.68980858, 24.93247391, 39.4219557 , 35.08665408, 24.03212937,\n",
       "       29.09488209, 31.46903876, 38.30055789, 39.86347072, 31.16784593,\n",
       "       34.32634565, 30.13143246, 33.81943205, 29.65619752, 32.90479083,\n",
       "       38.67686138, 24.1514679 , 33.1828747 , 28.87108336, 37.12976268,\n",
       "       32.29030411, 38.03310479, 35.84891585, 24.46090452, 25.55579503,\n",
       "       21.63002469, 27.88462891, 30.56214513, 28.81046081, 38.10901784,\n",
       "       37.91092155, 27.98024409, 25.97112424, 30.2201407 , 25.75973397,\n",
       "       36.37265563, 26.34745343, 27.36951853, 23.27180293, 23.51740652,\n",
       "       23.26220212, 39.28329387, 30.72969634, 32.23154827, 36.18443743,\n",
       "       29.33404833, 24.52914482, 30.86039727, 32.42177813, 31.31820006,\n",
       "       34.20625007, 31.35208088, 35.16102585, 37.33670856, 34.91172225,\n",
       "       24.04378012, 37.86285787, 37.82649443, 21.55445209, 27.45072969,\n",
       "       34.1365558 , 24.70937351, 32.28633432, 34.58605258, 23.72741679,\n",
       "       34.90740356, 27.26060058, 32.80458206, 31.07051715, 36.62580688,\n",
       "       21.15495264, 31.74443203, 27.57353024, 36.79509523, 38.32618609,\n",
       "       22.71533184, 27.18720773, 25.43787683, 31.04723128, 28.70426972,\n",
       "       31.34908965, 24.58723926, 25.40875359, 33.30991765, 27.53527127,\n",
       "       39.6067565 , 28.2901413 , 29.82664812, 31.6734849 , 36.42624681,\n",
       "       31.42854528, 35.0555502 , 31.71737152, 38.56095184, 26.37100145,\n",
       "       24.37315795, 28.61975803, 38.11386113, 38.21692382, 33.37280626,\n",
       "       35.64140179, 27.86733497, 23.74290027, 30.48870007, 23.83034133,\n",
       "       34.32289887, 26.05058663, 38.76099101, 39.0057853 , 20.12974085,\n",
       "       32.06206053, 21.34376999, 32.94591557, 20.60385708, 25.33928096,\n",
       "       31.43291673, 23.45516519, 34.52701406, 23.30772091, 29.48414948,\n",
       "       31.90870452, 26.03575344, 22.60514941, 39.67533873, 37.01001365,\n",
       "       20.70920729, 30.27742309, 24.62287626, 38.53972987, 21.92010801,\n",
       "       39.74085803, 22.53388143, 32.50379814, 23.17428805, 32.18750425,\n",
       "       21.38481377, 37.04956851, 35.2272019 , 29.56953009, 25.48344753,\n",
       "       25.70545515, 31.62494991, 24.35533598, 30.2847534 , 21.85261705,\n",
       "       25.30870002, 21.50409808, 31.98971233, 33.12131256, 35.15045632])"
      ]
     },
     "execution_count": 20,
     "metadata": {},
     "output_type": "execute_result"
    }
   ],
   "source": [
    "np.random.uniform(low = 20, high = 40 , size = 500)"
   ]
  },
  {
   "cell_type": "markdown",
   "id": "5def303b",
   "metadata": {},
   "source": [
    "## Trignometric functions by numpy library\n",
    "- sin \n",
    "- cos\n",
    "- tan\n",
    "- radian"
   ]
  },
  {
   "cell_type": "code",
   "execution_count": 21,
   "id": "2d1eba25",
   "metadata": {},
   "outputs": [
    {
     "data": {
      "text/plain": [
       "array([-0.98803162,  0.85090352, -0.30481062,  0.89399666])"
      ]
     },
     "execution_count": 21,
     "metadata": {},
     "output_type": "execute_result"
    }
   ],
   "source": [
    "l = [30, 45, 60, 90]\n",
    "np.sin(l)"
   ]
  },
  {
   "cell_type": "code",
   "execution_count": 22,
   "id": "8e886b91",
   "metadata": {},
   "outputs": [
    {
     "data": {
      "text/plain": [
       "array([ 0.15425145,  0.52532199, -0.95241298, -0.44807362])"
      ]
     },
     "execution_count": 22,
     "metadata": {},
     "output_type": "execute_result"
    }
   ],
   "source": [
    "np.cos(l)"
   ]
  },
  {
   "cell_type": "code",
   "execution_count": 23,
   "id": "41c475e0",
   "metadata": {},
   "outputs": [
    {
     "data": {
      "text/plain": [
       "np.float64(1.5574077246549023)"
      ]
     },
     "execution_count": 23,
     "metadata": {},
     "output_type": "execute_result"
    }
   ],
   "source": [
    "np.tan(1)"
   ]
  },
  {
   "cell_type": "code",
   "execution_count": 24,
   "id": "97c957b4",
   "metadata": {},
   "outputs": [
    {
     "data": {
      "text/plain": [
       "np.float64(0.017453292519943295)"
      ]
     },
     "execution_count": 24,
     "metadata": {},
     "output_type": "execute_result"
    }
   ],
   "source": [
    "np.radians(1)"
   ]
  },
  {
   "cell_type": "code",
   "execution_count": 25,
   "id": "9ea6d07f",
   "metadata": {},
   "outputs": [
    {
     "data": {
      "text/plain": [
       "array([123,  46, 687,  35])"
      ]
     },
     "execution_count": 25,
     "metadata": {},
     "output_type": "execute_result"
    }
   ],
   "source": [
    "l = [-123, -46, 687, -35]\n",
    "np.abs(l)"
   ]
  },
  {
   "cell_type": "code",
   "execution_count": 26,
   "id": "8a04a98c",
   "metadata": {},
   "outputs": [
    {
     "data": {
      "text/plain": [
       "array([123,  46, 687,  35])"
      ]
     },
     "execution_count": 26,
     "metadata": {},
     "output_type": "execute_result"
    }
   ],
   "source": [
    "np.absolute(l)"
   ]
  },
  {
   "cell_type": "code",
   "execution_count": 27,
   "id": "7bb16d24",
   "metadata": {},
   "outputs": [
    {
     "data": {
      "text/plain": [
       "array([-123,  -46,  687,  -35])"
      ]
     },
     "execution_count": 27,
     "metadata": {},
     "output_type": "execute_result"
    }
   ],
   "source": [
    "np.round(l)"
   ]
  },
  {
   "cell_type": "code",
   "execution_count": 30,
   "id": "3026e422",
   "metadata": {},
   "outputs": [
    {
     "data": {
      "text/plain": [
       "(2, 3)"
      ]
     },
     "execution_count": 30,
     "metadata": {},
     "output_type": "execute_result"
    }
   ],
   "source": [
    "l = np.array([12,45,67,78,89,45])\n",
    "l1 = l.reshape(2,3)\n",
    "l1.shape"
   ]
  },
  {
   "cell_type": "code",
   "execution_count": null,
   "id": "795950c3",
   "metadata": {},
   "outputs": [],
   "source": []
  }
 ],
 "metadata": {
  "kernelspec": {
   "display_name": "venv",
   "language": "python",
   "name": "python3"
  },
  "language_info": {
   "codemirror_mode": {
    "name": "ipython",
    "version": 3
   },
   "file_extension": ".py",
   "mimetype": "text/x-python",
   "name": "python",
   "nbconvert_exporter": "python",
   "pygments_lexer": "ipython3",
   "version": "3.12.10"
  }
 },
 "nbformat": 4,
 "nbformat_minor": 5
}
